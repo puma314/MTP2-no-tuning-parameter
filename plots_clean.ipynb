{
 "cells": [
  {
   "cell_type": "code",
   "execution_count": 10,
   "metadata": {},
   "outputs": [
    {
     "name": "stdout",
     "output_type": "stream",
     "text": [
      "The autoreload extension is already loaded. To reload it, use:\n",
      "  %reload_ext autoreload\n"
     ]
    }
   ],
   "source": [
    "%load_ext autoreload\n",
    "%autoreload 2\n",
    "import numpy as np\n",
    "from final_algo import (GET_ALGOS,\n",
    "                        #new_algo, \n",
    "                        #anandkumar_algo, nbsel, glasso_vanilla, stability_wrapper,\n",
    "                        SH_stability_wrapper, \n",
    "                        long_lambdas, short_lambdas, super_short_lambdas, get_SH_lambdas)\n",
    "from paper_sims_util import GET_GRAPHS, MCC\n",
    "import time\n",
    "from collections import namedtuple"
   ]
  },
  {
   "cell_type": "code",
   "execution_count": 24,
   "metadata": {},
   "outputs": [],
   "source": [
    "GraphParams = namedtuple('GraphParams', 'N eta p d ratios')\n",
    "AlgoParams = namedtuple('AlgoParams', 'stability_samples M pi')"
   ]
  },
  {
   "cell_type": "code",
   "execution_count": 25,
   "metadata": {},
   "outputs": [],
   "source": [
    "graph_params_dict = {\n",
    "    'chain': GraphParams(p=50, N=[20, 25, 30, 35, 40], eta=1, ratios=None, d=None), #p, N, eta\n",
    "    'star': GraphParams(p=50, d=[10, 15, 20, 25, 30], N=50, eta=1, ratios=None), #p, d, N, eta\n",
    "    'random': GraphParams(p=50, d=0.01, ratios=[r/500. for r in [300, 375, 500, 750, 1000]], eta=1, N=None), #p, d, ratio over 500, eta\n",
    "    'grid_3D': GraphParams(p=4, ratios=[r/524. for r in [200, 250, 300, 400, 500]], eta=2, N=None, d=None), #p, ratio over 524, eta\n",
    "    'grid': GraphParams(p=7, ratios=[r/529. for r in [75, 100, 150, 200, 250]], eta=2, N=None, d=None) #p, ratio over 529, eta\n",
    "}\n",
    "\n",
    "algo_params = AlgoParams(stability_samples=50, M=7./9., pi=0.9)\n",
    "run_id = 'test_run'"
   ]
  },
  {
   "cell_type": "code",
   "execution_count": null,
   "metadata": {},
   "outputs": [],
   "source": [
    "for graph_name in ['chain', 'star', 'random', 'grid_3D', 'grid']:\n",
    "    graph_params = graph_params_dict[graph_name]\n",
    "    wrapper[graph_name](graph_params, algo_params, run_id)"
   ]
  },
  {
   "cell_type": "code",
   "execution_count": null,
   "metadata": {},
   "outputs": [],
   "source": [
    "def get_results(graph_params, algo_params, omega, N):\n",
    "    algos = GET_ALGOS(algo_params.stability_samples)\n",
    "    algo_lambdas = get_algo_lambdas(algo_params.M, graph_params.eta, N, graph_params.p)\n",
    "    sigma = np.linalg.inv(omega)\n",
    "    X = np.random.multivariate_normal(mean = np.zeros(omega.shape[0]), \n",
    "                                      cov = np.linalg.inv(omega), \n",
    "                                      size = N)\n",
    "    \n",
    "    ALL_RESULTS = {}\n",
    "    for algo_name, algo in algos.items():\n",
    "        print(\"Currently on {}\".format(algo_name))\n",
    "        lambdas = algo_lambdas[algo_name]\n",
    "        if algo_name == 'our':\n",
    "            results = algo(X, algo_params.M)\n",
    "        else:\n",
    "            results = algo(X, lambdas, algo_params.pi)\n",
    "        ALL_RESULTS[algo_name] = results\n",
    "        omega_hat = results[0]\n",
    "        res_mcc = MCC(omega_hat, omega)\n",
    "        print(\"Algorithm {} got {} MCC\".format(algo_name, res_mcc))\n",
    "    return ALL_RESULTS"
   ]
  },
  {
   "cell_type": "code",
   "execution_count": 35,
   "metadata": {},
   "outputs": [],
   "source": [
    "def star_wrapper(graph_params, algo_params, run_id):\n",
    "    p = graph_params.p\n",
    "    for d in graph_params.d:\n",
    "        omega = star(d, p)\n",
    "        results = get_results(graph_params, algo_params, omega, graph_params.N)\n",
    "        fname = \"{}_{}_{}_results.pkl\".format(run_id, 'star', d)\n",
    "        with open(fname, 'wb') as f:\n",
    "            pickle.dump(results, f)"
   ]
  },
  {
   "cell_type": "code",
   "execution_count": 30,
   "metadata": {},
   "outputs": [],
   "source": [
    "def grid_3D_wrapper(graph_params, algo_params, run_id):\n",
    "    p = graph_params.p\n",
    "    dim = p**3\n",
    "    Ns = [int(r*dim) for r in graph_params.ratios]\n",
    "    for r, N in zip(graph_params.ratios, Ns):\n",
    "        omega = grid_3D(p)\n",
    "        results = get_results(graph_params, algo_params, omega, N)\n",
    "        fname = \"{}_{}_{}_results.pkl\".format(run_id, 'grid_3D', r)\n",
    "        with open(fname, 'wb') as f:\n",
    "            pickle.dump(results, f)"
   ]
  },
  {
   "cell_type": "code",
   "execution_count": 32,
   "metadata": {},
   "outputs": [],
   "source": [
    "def grid_wrapper(graph_params, algo_params, run_id):\n",
    "    p = graph_params.p\n",
    "    dim = p**2\n",
    "    Ns = [int(r*dim) for r in graph_params.ratios]\n",
    "    for r, N in zip(graph_params.ratios, Ns):\n",
    "        omega = grid(p)\n",
    "        results = get_results(graph_params, algo_params, omega, N)\n",
    "        fname = \"{}_{}_{}_results.pkl\".format(run_id, 'grid', r)\n",
    "        with open(fname, 'wb') as f:\n",
    "            pickle.dump(results, f)"
   ]
  },
  {
   "cell_type": "code",
   "execution_count": 33,
   "metadata": {},
   "outputs": [],
   "source": [
    "def chain_wrapper(graph_params, algo_params, run_id):\n",
    "    p = graph_params.p\n",
    "    for N in graph_params.N:\n",
    "        omega = chain(p)\n",
    "        results = get_results(graph_params, algo_params, omega, N)\n",
    "        fname = \"{}_{}_{}_results.pkl\".format(run_id, 'chain', N)\n",
    "        with open(fname, 'wb') as f:\n",
    "            pickle.dump(results, f)"
   ]
  },
  {
   "cell_type": "code",
   "execution_count": 34,
   "metadata": {},
   "outputs": [],
   "source": [
    "def random_wrapper(graph_params, algo_params, run_id):\n",
    "    p = graph_params.p\n",
    "    d = graph_params.d\n",
    "    dim = p\n",
    "    Ns = [int(r*dim) for r in graph_params.ratios]\n",
    "    for r, N in zip(graph_params.ratios, Ns):\n",
    "        omega = random_graph(p,d)\n",
    "        results = get_results(graph_params, algo_params, omega, N)\n",
    "        fname = \"{}_{}_{}_results.pkl\".format(run_id, 'random', r)\n",
    "        with open(fname, 'wb') as f:\n",
    "            pickle.dump(results, f)"
   ]
  },
  {
   "cell_type": "code",
   "execution_count": 13,
   "metadata": {},
   "outputs": [
    {
     "name": "stdout",
     "output_type": "stream",
     "text": [
      "[12, 15, 20, 30, 40]\n",
      "Currently on our\n",
      "Running new algorithm\n",
      "N=12, M=6\n",
      "Working on l = 0\n",
      "Working on l = 1\n",
      "Working on l = 2\n",
      "Algorithm our got 0.4424558687227414 MCC\n",
      "Currently on SH\n",
      "Algorithm SH got -0.007502485610105728 MCC\n",
      "Currently on glasso\n",
      "Working on 0.1\n",
      "graphical_lasso FloatingPointError: 0.1\n",
      "Working on 0.3\n",
      "graphical_lasso ConvergenceWarning: 0.3\n",
      "Working on 0.5\n",
      "Working on 1.0\n",
      "Algorithm glasso got 0 MCC\n",
      "Currently on nbsel\n",
      "Working on 0.1\n",
      "Working on 0.3\n",
      "Working on 0.5\n",
      "Working on 1.0\n",
      "Algorithm nbsel got -0.005291005291005291 MCC\n",
      "Currently on anand\n",
      "Working on 0.049964422955689106\n",
      "Working on 0.49964422955689103\n",
      "Working on 3.9971538364551282\n",
      "Algorithm anand got 0 MCC\n",
      "Currently on our\n",
      "Running new algorithm\n",
      "N=15, M=8\n",
      "Working on l = 0\n",
      "Working on l = 1\n",
      "Working on l = 2\n",
      "Algorithm our got -0.007502485610105728 MCC\n",
      "Currently on SH\n",
      "Algorithm SH got 0.5742873814325569 MCC\n",
      "Currently on glasso\n",
      "Working on 0.1\n",
      "graphical_lasso ConvergenceWarning: 0.1\n",
      "Working on 0.3\n",
      "graphical_lasso ConvergenceWarning: 0.3\n",
      "Working on 0.5\n",
      "graphical_lasso ConvergenceWarning: 0.5\n",
      "Working on 1.0\n",
      "Algorithm glasso got 0 MCC\n",
      "Currently on nbsel\n",
      "Working on 0.1\n"
     ]
    },
    {
     "name": "stderr",
     "output_type": "stream",
     "text": [
      "/usr/local/lib/python3.6/site-packages/sklearn/linear_model/coordinate_descent.py:492: ConvergenceWarning: Objective did not converge. You might want to increase the number of iterations. Fitting data with very small alpha may cause precision problems.\n",
      "  ConvergenceWarning)\n"
     ]
    },
    {
     "name": "stdout",
     "output_type": "stream",
     "text": [
      "Working on 0.3\n",
      "Working on 0.5\n",
      "Working on 1.0\n",
      "Algorithm nbsel got 0 MCC\n",
      "Currently on anand\n",
      "Working on 0.044689538474188724\n",
      "Working on 0.4468953847418872\n",
      "Working on 3.575163077935098\n",
      "Algorithm anand got 1.0 MCC\n",
      "Currently on our\n",
      "Running new algorithm\n",
      "N=20, M=10\n",
      "Working on l = 0\n",
      "Working on l = 1\n",
      "Working on l = 2\n",
      "Algorithm our got -0.007502485610105728 MCC\n",
      "Currently on SH\n",
      "Algorithm SH got 0.5742873814325569 MCC\n",
      "Currently on glasso\n",
      "Working on 0.1\n",
      "graphical_lasso OverflowError: 0.1\n",
      "Working on 0.3\n",
      "graphical_lasso ConvergenceWarning: 0.3\n",
      "Working on 0.5\n",
      "Working on 1.0\n",
      "Algorithm glasso got 0 MCC\n",
      "Currently on nbsel\n",
      "Working on 0.1\n"
     ]
    },
    {
     "name": "stderr",
     "output_type": "stream",
     "text": [
      "/usr/local/lib/python3.6/site-packages/sklearn/linear_model/coordinate_descent.py:492: ConvergenceWarning: Objective did not converge. You might want to increase the number of iterations. Fitting data with very small alpha may cause precision problems.\n",
      "  ConvergenceWarning)\n"
     ]
    },
    {
     "name": "stdout",
     "output_type": "stream",
     "text": [
      "Working on 0.3\n",
      "Working on 0.5\n",
      "Working on 1.0\n",
      "Algorithm nbsel got -0.005291005291005291 MCC\n",
      "Currently on anand\n",
      "Working on 0.0387022756020495\n",
      "Working on 0.38702275602049496\n",
      "Working on 3.0961820481639597\n",
      "Algorithm anand got 0 MCC\n",
      "Currently on our\n",
      "Running new algorithm\n",
      "N=30, M=14\n",
      "Working on l = 0\n",
      "Working on l = 1\n",
      "Working on l = 2\n",
      "Algorithm our got 0.4424558687227414 MCC\n",
      "Currently on SH\n",
      "Algorithm SH got 0.4424558687227414 MCC\n",
      "Currently on glasso\n",
      "Working on 0.1\n",
      "graphical_lasso ConvergenceWarning: 0.1\n",
      "Working on 0.3\n",
      "Working on 0.5\n",
      "Working on 1.0\n",
      "Algorithm glasso got 1.0 MCC\n",
      "Currently on nbsel\n",
      "Working on 0.1\n",
      "Working on 0.3\n",
      "Working on 0.5\n",
      "Working on 1.0\n",
      "Algorithm nbsel got 0.7052336473499384 MCC\n",
      "Currently on anand\n",
      "Working on 0.031600275703195964\n",
      "Working on 0.3160027570319596\n",
      "Working on 2.528022056255677\n",
      "Algorithm anand got 0.7052336473499384 MCC\n",
      "Currently on our\n",
      "Running new algorithm\n",
      "N=40, M=17\n",
      "Working on l = 0\n",
      "Working on l = 1\n",
      "Algorithm our got 0.5742873814325569 MCC\n",
      "Currently on SH\n",
      "Algorithm SH got 0.3469443332443555 MCC\n",
      "Currently on glasso\n",
      "Working on 0.1\n",
      "graphical_lasso ConvergenceWarning: 0.1\n",
      "Working on 0.3\n",
      "Working on 0.5\n",
      "Working on 1.0\n",
      "Algorithm glasso got 0.7052336473499384 MCC\n",
      "Currently on nbsel\n",
      "Working on 0.1\n",
      "Working on 0.3\n",
      "Working on 0.5\n",
      "Working on 1.0\n",
      "Algorithm nbsel got 0.4960158727618966 MCC\n",
      "Currently on anand\n",
      "Working on 0.02736664152555987\n",
      "Working on 0.2736664152555987\n",
      "Working on 2.1893313220447896\n",
      "Algorithm anand got 0.5742873814325569 MCC\n",
      "11328.38151884079\n"
     ]
    }
   ],
   "source": [
    "graph_type = 'random'\n",
    "d = 0.01\n",
    "p = 20\n",
    "#omega = GRAPHS[graph_type](p, d)\n",
    "omega = random_graph(p,d)\n",
    "sigma = np.linalg.inv(omega)\n",
    "\n",
    "#stability selection\n",
    "NUM_SUBSAMPLES = 50\n",
    "pi = 0.9\n",
    "#our algorithm\n",
    "M = 7./9.\n",
    "\n",
    "ratios = [300, 375, 500, 750, 1000]\n",
    "list_of_Ns = [int(r/500 * p) for r in ratios]\n",
    "\n",
    "print(list_of_Ns)\n",
    "\n",
    "start = time.time()\n",
    "for N in list_of_Ns:\n",
    "    X = np.random.multivariate_normal(mean = np.zeros(p), cov = np.linalg.inv(omega), size = N)\n",
    "    ALGOS = GET_ALGOS(NUM_SUBSAMPLES)\n",
    "    algo_lambdas = {\n",
    "        'our': 7./9.,\n",
    "        'SH': get_SH_lambdas(),\n",
    "        'glasso': [0.1, 0.3, 0.5, 1.0],#long_lambdas(N, p),\n",
    "        'nbsel': [0.1, 0.3, 0.5, 1.0],\n",
    "        'anand': super_short_lambdas(N, p)\n",
    "    }\n",
    "    results = get_results(ALGOS, algo_lambdas)\n",
    "    #pickle.save(results)\n",
    "end = time.time()\n",
    "print(end-start)"
   ]
  },
  {
   "cell_type": "code",
   "execution_count": 4,
   "metadata": {},
   "outputs": [],
   "source": [
    "def get_results(algos, algo_lambdas):\n",
    "    results = {}\n",
    "    for algo_name, algo in algos.items():\n",
    "        print(\"Currently on {}\".format(algo_name))\n",
    "        lambdas = algo_lambdas[algo_name]\n",
    "        if algo_name == 'our':\n",
    "            algo_res = algo(X, M)\n",
    "        else:\n",
    "            algo_res = algo(X, lambdas, pi)\n",
    "        results[algo_name] = algo_res\n",
    "        res_mcc = MCC(algo_res, omega)\n",
    "        print(\"Algorithm {} got {} MCC\".format(algo_name, res_mcc))\n",
    "    return results"
   ]
  }
 ],
 "metadata": {
  "kernelspec": {
   "display_name": "Python 3",
   "language": "python",
   "name": "python3"
  },
  "language_info": {
   "codemirror_mode": {
    "name": "ipython",
    "version": 3
   },
   "file_extension": ".py",
   "mimetype": "text/x-python",
   "name": "python",
   "nbconvert_exporter": "python",
   "pygments_lexer": "ipython3",
   "version": "3.6.5"
  }
 },
 "nbformat": 4,
 "nbformat_minor": 2
}
