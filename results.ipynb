{
 "cells": [
  {
   "cell_type": "code",
   "execution_count": 1,
   "metadata": {},
   "outputs": [],
   "source": [
    "%load_ext autoreload\n",
    "%autoreload 2\n",
    "import pickle\n",
    "import numpy as np\n",
    "from collections import namedtuple, defaultdict\n",
    "from paper_sims_util import MCC\n",
    "from running_wrappers import get_loaders\n",
    "import matplotlib.pyplot as plt\n",
    "import seaborn as sns\n",
    "%matplotlib inline\n",
    "LOADERS = get_loaders()\n",
    "AlgoParams = namedtuple('AlgoParams', 'stability_samples M pi')\n",
    "GraphParams = namedtuple('GraphParams', 'N eta p d ratios')\n",
    "import pandas as pd\n",
    "import time"
   ]
  },
  {
   "cell_type": "code",
   "execution_count": null,
   "metadata": {},
   "outputs": [],
   "source": [
    "#S-H calculation\n",
    "\n",
    "# total trials: 50\n",
    "# for each graph, run MTP2 N_SAMPLE times at 10 seconds each\n",
    "# graphs, parameters\n",
    "#for each graph, run MTP2 N_SAMPLES times, (10 seconds)\n",
    "10 seconds * N_samples * # graphs \n",
    "#graphs = 4 * 4 = 16 * trials per graph"
   ]
  },
  {
   "cell_type": "code",
   "execution_count": 92,
   "metadata": {},
   "outputs": [],
   "source": [
    "run_name = 'DO_p_100_slashedp'\n",
    "run_ids = range(20)\n",
    "with open(\"{}_algo_params.pkl\".format(run_name), 'rb') as f:\n",
    "    algo_params = pickle.load(f)\n",
    "with open(\"{}_graph_params_dict.pkl\".format(run_name), 'rb') as f:\n",
    "    graph_params_dict = pickle.load(f)\n",
    "# graph_params_dict = {\n",
    "#     'chain': GraphParams(p=20, N=[20, 25, 30, 35, 40], eta=1, ratios=None, d=None), #p, N, eta\n",
    "#     'star': GraphParams(p=20, d=[10, 15, 20, 25, 30], N=50, eta=1, ratios=None), #p, d, N, eta\n",
    "#     'random': GraphParams(p=20, d=0.01, ratios=[r/500. for r in [300, 375, 500, 750, 1000]], eta=1, N=None), #p, d, ratio over 500, eta\n",
    "#     'grid_3D': GraphParams(p=2, ratios=[0.5, 0.85, 1., 1.25, 1.5, 2], eta=2, N=None, d=None), #p, ratio over 524, eta\n",
    "#     'grid': GraphParams(p=7, ratios=[0.5, 0.85, 1., 1.25, 1.5, 2], eta=2, N=None, d=None) #p, ratio over 529, eta\n",
    "# }"
   ]
  },
  {
   "cell_type": "code",
   "execution_count": 94,
   "metadata": {},
   "outputs": [],
   "source": [
    "graph_params_dict = {'chain': GraphParams(N=[25, 50, 100, 200, 500, 1000], eta=1, p=100, d=None, ratios=None), \n",
    "                     'star': GraphParams(N=50, eta=1, p=100, d=[2,3, 4, 5], ratios=None), \n",
    "                     'random': GraphParams(N=None, eta=1, p=100, d=0.01, ratios=[0.25, 0.5, 1.0, 2.0, 5.0, 10.0]), \n",
    "                     'grid': GraphParams(N=None, eta=1, p=10, d=None, ratios=[0.25, 0.5, 1.0, 2.0, 5.0, 10.0])}"
   ]
  },
  {
   "cell_type": "code",
   "execution_count": 99,
   "metadata": {},
   "outputs": [],
   "source": [
    "def get_points(loaded_data):\n",
    "    points = defaultdict(lambda: defaultdict(list))\n",
    "    print(loaded_data.keys())\n",
    "    for x_label, trials in loaded_data.items(): #x_;\n",
    "        #print(x_label)\n",
    "        for trial in trials:\n",
    "            #print(type(trial))\n",
    "#             if type(trial) != dict:\n",
    "#                 continue\n",
    "            #print(x_label)\n",
    "            #print(trials.keys())\n",
    "            omega = trial[0]\n",
    "            #print(np.sum(omega))\n",
    "            results = trial[1]\n",
    "            for algo_name, algo_results in results.items():\n",
    "                omega_hat = algo_results[0]\n",
    "                #print(algo_name, np.sum(omega_hat))\n",
    "                algo_mcc = MCC(omega_hat, omega)\n",
    "                points[algo_name][x_label].append(algo_mcc)\n",
    "    return points"
   ]
  },
  {
   "cell_type": "code",
   "execution_count": 96,
   "metadata": {},
   "outputs": [],
   "source": [
    "def plot_lines(d):\n",
    "    lines = defaultdict(list)\n",
    "    x_labels = list(next(iter(d.values())).keys())\n",
    "    for algo_name, x_label_to_trials in d.items():\n",
    "        for x_label in x_labels:\n",
    "            trial_MCCs = x_label_to_trials[x_label]\n",
    "            lines[algo_name].append(np.mean(trial_MCCs))\n",
    "    return x_labels, lines"
   ]
  },
  {
   "cell_type": "code",
   "execution_count": 97,
   "metadata": {},
   "outputs": [],
   "source": [
    "def plot(graph_type, ret = False):\n",
    "    loaded_data = LOADERS[graph_type](graph_params_dict[graph_type], \n",
    "                                  algo_params, \n",
    "                                  run_name,\n",
    "                                  run_ids)\n",
    "    print('Loaded data')\n",
    "    points = get_points(loaded_data)\n",
    "    lines = plot_lines(points)\n",
    "    if ret:\n",
    "        return points, lines\n",
    "    for algo, line in lines[1].items():\n",
    "        plt.plot(lines[0], line, label=algo)\n",
    "    plt.title(graph_type)\n",
    "    plt.legend()\n",
    "    plt.show()"
   ]
  },
  {
   "cell_type": "code",
   "execution_count": 219,
   "metadata": {},
   "outputs": [],
   "source": [
    "graph_type = 'chain'\n",
    "try:\n",
    "    with open('{}_{}_points_lines.pkl'.format(run_name, graph_type), 'rb') as f:\n",
    "        points,lines = pickle.load(f)\n",
    "#     with open('{}_{}_lines_extra.pkl'.format(run_name, graph_type), 'rb') as f:\n",
    "#         extra = pickle.load(f)\n",
    "except:\n",
    "    points, lines = plot(graph_type, True)\n",
    "    with open('{}_{}_points_lines.pkl'.format(run_name, graph_type), 'wb') as f:\n",
    "        pickle.dump((dict(points),lines), f)"
   ]
  },
  {
   "cell_type": "markdown",
   "metadata": {},
   "source": [
    "#### To add additional metrics"
   ]
  },
  {
   "cell_type": "code",
   "execution_count": 235,
   "metadata": {},
   "outputs": [
    {
     "name": "stdout",
     "output_type": "stream",
     "text": [
      "25\n",
      "0.7 : 0.4722222222222222 0.04465408805031446 0.33649048461677994\n",
      "0.75 : 0.48333333333333334 0.048846960167714885 0.33075477112413393\n",
      "0.8 : 0.5 0.05262054507337526 0.33066706040128113\n",
      "0.85 : 0.5055555555555555 0.05681341719077568 0.322646014862077\n",
      "0.9 : 0.5111111111111111 0.061215932914046124 0.3148279017384123\n",
      "0.95 : 0.5222222222222223 0.06519916142557652 0.3121325793641534\n",
      "0.99 : 0.5388888888888889 0.06813417190775681 0.3155590848228732\n",
      "50\n",
      "0.7 : 0.8222222222222222 0.04025157232704402 0.5787566226295863\n",
      "0.75 : 0.8277777777777777 0.04507337526205451 0.5613393684290376\n",
      "0.8 : 0.8444444444444444 0.04947589098532495 0.5536711423500088\n",
      "0.85 : 0.85 0.05450733752620545 0.5384832574450262\n",
      "0.9 : 0.8611111111111112 0.05911949685534591 0.5291659414960642\n",
      "0.95 : 0.8722222222222222 0.06373165618448637 0.520769011278601\n",
      "0.99 : 0.8777777777777778 0.06771488469601677 0.5119605126315693\n",
      "100\n",
      "0.7 : 0.9555555555555556 0.038364779874213835 0.6654235792399161\n",
      "0.75 : 0.9555555555555556 0.04360587002096436 0.641233822607642\n",
      "0.8 : 0.9611111111111111 0.048846960167714885 0.6223488233035983\n",
      "0.85 : 0.9666666666666667 0.05387840670859539 0.6060461295385826\n",
      "0.9 : 0.9777777777777777 0.05890985324947589 0.5941857393082446\n",
      "0.95 : 0.9777777777777777 0.06415094339622641 0.5768782798976994\n",
      "0.99 : 0.9777777777777777 0.06834381551362684 0.563939302520302\n",
      "200\n",
      "0.7 : 1.0 0.037526205450733756 0.6946779037976534\n",
      "0.75 : 1.0 0.0429769392033543 0.6689090768555398\n",
      "0.8 : 1.0 0.048427672955974846 0.6455594508214008\n",
      "0.85 : 1.0 0.053668763102725364 0.6250497643335051\n",
      "0.9 : 1.0 0.05911949685534591 0.6054558773412049\n",
      "0.95 : 1.0 0.06457023060796646 0.5873972852145211\n",
      "0.99 : 1.0 0.06876310272536687 0.5744265224926338\n",
      "500\n",
      "0.7 : 1.0 0.03920335429769392 0.6864658855770449\n",
      "0.75 : 1.0 0.04465408805031446 0.6614854594824638\n",
      "0.8 : 1.0 0.050314465408805034 0.6379718538096876\n",
      "0.85 : 1.0 0.055765199161425576 0.6173178352805615\n",
      "0.9 : 1.0 0.061215932914046124 0.5983400981392218\n",
      "0.95 : 1.0 0.06666666666666667 0.5808178695515157\n",
      "0.99 : 1.0 0.0710691823899371 0.5676024470520222\n",
      "1000\n",
      "0.7 : 1.0 0.040461215932914046 0.6804764557193776\n",
      "0.75 : 1.0 0.04612159329140461 0.6551681333969684\n",
      "0.8 : 1.0 0.051781970649895176 0.6322319211080375\n",
      "0.85 : 1.0 0.057232704402515724 0.6120535282387186\n",
      "0.9 : 1.0 0.06289308176100629 0.5928027448819908\n",
      "0.95 : 1.0 0.06855345911949685 0.5750574576531857\n",
      "0.99 : 1.0 0.0729559748427673 0.5621723364316823\n"
     ]
    }
   ],
   "source": [
    "from final_algo import SH_lambda_wrapper, new_algo\n",
    "from paper_sims_util import grid_graph, random_graph, chain, confusion\n",
    "graph = grid_graph(10)\n",
    "sh_lambdas = [0.7, 0.75, 0.8, 0.85, 0.9, 0.95, 0.99]\n",
    "lambdas_to_res = defaultdict(list)\n",
    "start = time.time()\n",
    "for N in [25,50,100,200, 500, 1000]:\n",
    "    print(N)\n",
    "    X = np.random.multivariate_normal(np.zeros(100), np.linalg.inv(graph), N)\n",
    "    sh_res, _ = SH_lambda_wrapper(X, sh_lambdas)\n",
    "    for lamb, omega_hat in sh_res.items():\n",
    "        TP, TN, FP, FN = confusion(omega_hat, graph)\n",
    "        TPR = TP/(TP + FN)\n",
    "        FPR = FP/(FP + TN)\n",
    "        mcc = MCC(omega_hat, graph)\n",
    "        print(lamb, \":\", TPR, FPR, mcc)\n",
    "        lambdas_to_res[lamb].append(mcc)\n",
    "#print(lambdas_to_res)\n",
    "#print(time.time() - start)"
   ]
  },
  {
   "cell_type": "code",
   "execution_count": 236,
   "metadata": {},
   "outputs": [],
   "source": [
    "SH_best_lambdas = []\n",
    "SH_best_res = []\n",
    "for i in range(6):\n",
    "    N_res = []\n",
    "    for l in lambdas_to_res.keys():\n",
    "        N_res.append(lambdas_to_res[l][i])\n",
    "    best = max(N_res)\n",
    "    best_l = list(lambdas_to_res.keys())[np.argmax(N_res)]\n",
    "    SH_best_lambdas.append(best_l)\n",
    "    SH_best_res.append(best)"
   ]
  },
  {
   "cell_type": "code",
   "execution_count": 238,
   "metadata": {},
   "outputs": [
    {
     "name": "stdout",
     "output_type": "stream",
     "text": [
      "[0.33649048461677994, 0.5787566226295863, 0.6654235792399161, 0.6946779037976534, 0.6864658855770449, 0.6804764557193776]\n",
      "[0.7, 0.7, 0.7, 0.7, 0.7, 0.7]\n"
     ]
    }
   ],
   "source": [
    "print(SH_best_res)\n",
    "print(SH_best_lambdas)"
   ]
  },
  {
   "cell_type": "code",
   "execution_count": 249,
   "metadata": {},
   "outputs": [
    {
     "name": "stdout",
     "output_type": "stream",
     "text": [
      "Running new algorithm\n",
      "N=500, M=196\n",
      "Working on l = 0\n",
      "Working on l = 1\n",
      "Working on l = 2\n",
      "Working on l = 3\n",
      "Working on l = 4\n",
      "1.0 0.0 1.0\n",
      "Running new algorithm\n",
      "N=1000, M=354\n",
      "Working on l = 0\n",
      "Working on l = 1\n",
      "Working on l = 2\n",
      "Working on l = 3\n",
      "Working on l = 4\n",
      "1.0 0.0 1.0\n"
     ]
    }
   ],
   "source": [
    "from final_algo import new_algo\n",
    "graph = grid_graph(10)\n",
    "res = [0.193828297809358, 0.37307241242620476, 0.6849048978277202, 0.894310804995154]\n",
    "for N in [500, 1000]:\n",
    "    X = np.random.multivariate_normal(np.zeros(100), np.linalg.inv(graph), N)\n",
    "    omega_hat = new_algo(X, 0.85)\n",
    "    TP, TN, FP, FN = confusion(omega_hat, graph)\n",
    "    TPR = TP/(TP + FN)\n",
    "    FPR = FP/(FP + TN)\n",
    "    mcc = MCC(omega_hat, graph)\n",
    "    print(TPR, FPR, mcc)\n",
    "    res.append(mcc)"
   ]
  },
  {
   "cell_type": "code",
   "execution_count": 250,
   "metadata": {},
   "outputs": [
    {
     "data": {
      "text/plain": [
       "[0.193828297809358,\n",
       " 0.37307241242620476,\n",
       " 0.6849048978277202,\n",
       " 0.894310804995154,\n",
       " 1.0,\n",
       " 1.0]"
      ]
     },
     "execution_count": 250,
     "metadata": {},
     "output_type": "execute_result"
    }
   ],
   "source": [
    "res"
   ]
  },
  {
   "cell_type": "code",
   "execution_count": 282,
   "metadata": {},
   "outputs": [],
   "source": [
    "lines[1]['SH_0.7'] = SH_best_res\n",
    "lines[1]['our_85'] = res"
   ]
  },
  {
   "cell_type": "code",
   "execution_count": 287,
   "metadata": {},
   "outputs": [],
   "source": [
    "with open('grid_ALL_lines.pkl', 'wb') as f:\n",
    "    pickle.dump(lines, f)"
   ]
  },
  {
   "cell_type": "markdown",
   "metadata": {},
   "source": [
    "### Generate Plot"
   ]
  },
  {
   "cell_type": "code",
   "execution_count": 277,
   "metadata": {},
   "outputs": [],
   "source": [
    "graph_type = 'grid'\n",
    "try:\n",
    "    with open('{}_{}_points_lines.pkl'.format(run_name, graph_type), 'rb') as f:\n",
    "        points,lines = pickle.load(f)\n",
    "#     with open('{}_{}_lines_extra.pkl'.format(run_name, graph_type), 'rb') as f:\n",
    "#         extra = pickle.load(f)\n",
    "except:\n",
    "    points, lines = plot(graph_type, True)\n",
    "    with open('{}_{}_points_lines.pkl'.format(run_name, graph_type), 'wb') as f:\n",
    "        pickle.dump((dict(points),lines), f)"
   ]
  },
  {
   "cell_type": "code",
   "execution_count": 284,
   "metadata": {},
   "outputs": [],
   "source": [
    "tups = []\n",
    "for algo_name in lines[1].keys():\n",
    "    for t in zip(lines[0], lines[1][algo_name]):\n",
    "        tups.append((algo_name,) + t)"
   ]
  },
  {
   "cell_type": "code",
   "execution_count": 285,
   "metadata": {},
   "outputs": [],
   "source": [
    "df = pd.DataFrame(tups, columns = ['Algorithm', 'N', 'MCC'])"
   ]
  },
  {
   "cell_type": "code",
   "execution_count": 291,
   "metadata": {},
   "outputs": [
    {
     "data": {
      "image/png": "[encoded data removed]",
      "text/plain": [
       "<Figure size 360x360 with 1 Axes>"
      ]
     },
     "metadata": {},
     "output_type": "display_data"
    }
   ],
   "source": [
    "groupby = df.groupby('Algorithm')\n",
    "labels = {'our': 'Our algorithm', \n",
    "          'SH_0.7': 'SH:' + r'$t=0.7$', \n",
    "          'SH': 'SH', \n",
    "          'nbsel': 'nbsel', \n",
    "          'glasso': 'glasso', \n",
    "          'anand': 'CMIT',\n",
    "          'our_85':  \"Our algorithm: \" + r'$\\gamma=0.85$'}\n",
    "markers = {'our': 'o', 'SH_0.7': '<', 'SH': '>', 'nbsel': '^', 'glasso': 'v', 'anand': 'd', 'our_85': '*'}\n",
    "linestyles = {'our': 'solid', \n",
    "              'SH_0.7': 'dashdot', \n",
    "              'SH': 'dashdot', \n",
    "              'nbsel': 'dotted', \n",
    "              'glasso': (0, (3, 1, 1, 1)), \n",
    "              'anand': 'dashed',\n",
    "              'our_85': 'solid'}\n",
    "colors = {\n",
    "    'our': 'C0',\n",
    "    'glasso': 'C1',\n",
    "    'nbsel': 'C2',\n",
    "    'anand': 'C3',\n",
    "    'SH': 'C4',\n",
    "    'SH_0.7': 'C6',\n",
    "    'our_85': 'C9'\n",
    "}\n",
    "sns.set_style(\"whitegrid\")\n",
    "fig = plt.figure(figsize=(5, 5))\n",
    "ax = fig.gca()\n",
    "ax.set_yticks(np.linspace(0, 1.0, 6))\n",
    "#plt.xlim((0,1000))\n",
    "all_graphs = ['our', 'our_85', 'SH', 'SH_0.7', 'nbsel', 'glasso', 'anand']\n",
    "main_graphs = ['our', 'SH', 'nbsel', 'glasso', 'anand']\n",
    "relevant_graphs = ['our', 'our_85', 'SH', 'SH_0.7']\n",
    "for algo_name in relevant_graphs:\n",
    "    item = groupby.get_group(algo_name)\n",
    "    plt.plot(item.N, item.MCC, \n",
    "             label = labels[algo_name],\n",
    "             marker = markers[algo_name],\n",
    "             linestyle = linestyles[algo_name],\n",
    "             linewidth=1.5,\n",
    "             color=colors[algo_name])\n",
    "\n",
    "plt.legend(loc='lower right')\n",
    "plt.title(graph_type)\n",
    "plt.xlabel(\"N\")\n",
    "plt.ylabel(\"MCC\")\n",
    "plt.show()\n",
    "fig.savefig('final_images/{}_relevant.png'.format(graph_type))"
   ]
  },
  {
   "cell_type": "code",
   "execution_count": null,
   "metadata": {},
   "outputs": [],
   "source": []
  }
 ],
 "metadata": {
  "kernelspec": {
   "display_name": "Python 3",
   "language": "python",
   "name": "python3"
  },
  "language_info": {
   "codemirror_mode": {
    "name": "ipython",
    "version": 3
   },
   "file_extension": ".py",
   "mimetype": "text/x-python",
   "name": "python",
   "nbconvert_exporter": "python",
   "pygments_lexer": "ipython3",
   "version": "3.6.5"
  }
 },
 "nbformat": 4,
 "nbformat_minor": 2
}
