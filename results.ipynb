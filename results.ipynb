{
 "cells": [
  {
   "cell_type": "code",
   "execution_count": 144,
   "metadata": {},
   "outputs": [
    {
     "name": "stdout",
     "output_type": "stream",
     "text": [
      "The autoreload extension is already loaded. To reload it, use:\n",
      "  %reload_ext autoreload\n"
     ]
    }
   ],
   "source": [
    "%load_ext autoreload\n",
    "%autoreload 2\n",
    "import pickle\n",
    "import numpy as np\n",
    "from collections import namedtuple, defaultdict\n",
    "from paper_sims_util import MCC\n",
    "from running_wrappers import get_loaders\n",
    "import matplotlib.pyplot as plt\n",
    "%matplotlib inline\n",
    "LOADERS = get_loaders()\n",
    "AlgoParams = namedtuple('AlgoParams', 'stability_samples M pi')\n",
    "GraphParams = namedtuple('GraphParams', 'N eta p d ratios')"
   ]
  },
  {
   "cell_type": "code",
   "execution_count": 90,
   "metadata": {},
   "outputs": [],
   "source": [
    "run_name = 'testrunsmallp'\n",
    "run_ids = range(3)\n",
    "graph_type = 'random'"
   ]
  },
  {
   "cell_type": "code",
   "execution_count": 91,
   "metadata": {},
   "outputs": [],
   "source": [
    "with open(\"{}_algo_params.pkl\".format(run_name), 'rb') as f:\n",
    "    algo_params = pickle.load(f)\n",
    "with open(\"{}_graph_params_dict.pkl\".format(run_name), 'rb') as f:\n",
    "    graph_params_dict = pickle.load(f)"
   ]
  },
  {
   "cell_type": "code",
   "execution_count": 149,
   "metadata": {},
   "outputs": [],
   "source": [
    "graph_params_dict = {\n",
    "    'chain': GraphParams(p=20, N=[20, 25, 30, 35, 40], eta=1, ratios=None, d=None), #p, N, eta\n",
    "    'star': GraphParams(p=20, d=[10, 15, 20, 25, 30], N=50, eta=1, ratios=None), #p, d, N, eta\n",
    "    'random': GraphParams(p=20, d=0.01, ratios=[r/500. for r in [300, 375, 500, 750, 1000]], eta=1, N=None), #p, d, ratio over 500, eta\n",
    "    'grid_3D': GraphParams(p=2, ratios=[r/524. for r in [200, 250, 300, 400, 500]], eta=2, N=None, d=None), #p, ratio over 524, eta\n",
    "    'grid': GraphParams(p=3, ratios=[r/529. for r in [75, 100, 150, 200, 250]], eta=2, N=None, d=None) #p, ratio over 529, eta\n",
    "}"
   ]
  },
  {
   "cell_type": "code",
   "execution_count": 150,
   "metadata": {},
   "outputs": [],
   "source": [
    "loaded_data = LOADERS[graph_type](graph_params_dict[graph_type], \n",
    "                                  algo_params, \n",
    "                                  run_name,\n",
    "                                  run_ids)"
   ]
  },
  {
   "cell_type": "code",
   "execution_count": 168,
   "metadata": {},
   "outputs": [],
   "source": [
    "def get_points(loaded_data):\n",
    "    points = defaultdict(lambda: defaultdict(list))\n",
    "    for x_label, trials in loaded_data.items(): #x_;\n",
    "        print(x_label)\n",
    "        for trial in trials:\n",
    "            omega = trial[0]\n",
    "            print(np.sum(omega))\n",
    "            results = trial[1]\n",
    "            for algo_name, algo_results in results.items():\n",
    "                omega_hat = algo_results[0]\n",
    "                print(algo_name, np.sum(omega_hat))\n",
    "                algo_mcc = MCC(omega_hat, omega)\n",
    "                points[algo_name][x_label].append(algo_mcc)\n",
    "    return points"
   ]
  },
  {
   "cell_type": "code",
   "execution_count": 169,
   "metadata": {},
   "outputs": [],
   "source": [
    "def plot_lines(d):\n",
    "    lines = defaultdict(list)\n",
    "    x_labels = list(next(iter(d.values())).keys())\n",
    "    for algo_name, x_label_to_trials in d.items():\n",
    "        for x_label in x_labels:\n",
    "            trial_MCCs = x_label_to_trials[x_label]\n",
    "            lines[algo_name].append(np.mean(trial_MCCs))\n",
    "    return x_labels, lines"
   ]
  },
  {
   "cell_type": "code",
   "execution_count": 170,
   "metadata": {},
   "outputs": [
    {
     "name": "stdout",
     "output_type": "stream",
     "text": [
      "12\n",
      "19.111111111111107\n",
      "our 24.0\n",
      "SH 16.0\n",
      "glasso 10.0\n",
      "nbsel 38.0\n",
      "anand 156.0\n",
      "19.111111111111107\n",
      "our 24.0\n",
      "SH 16.0\n",
      "glasso 10.0\n",
      "nbsel 38.0\n",
      "anand 156.0\n",
      "19.111111111111107\n",
      "our 24.0\n",
      "SH 16.0\n",
      "glasso 10.0\n",
      "nbsel 38.0\n",
      "anand 156.0\n",
      "15\n",
      "19.111111111111107\n",
      "our 26.0\n",
      "SH 18.0\n",
      "glasso 18.0\n",
      "nbsel 48.0\n",
      "anand 158.0\n",
      "19.111111111111107\n",
      "our 26.0\n",
      "SH 18.0\n",
      "glasso 18.0\n",
      "nbsel 48.0\n",
      "anand 158.0\n",
      "19.111111111111107\n",
      "our 26.0\n",
      "SH 18.0\n",
      "glasso 18.0\n",
      "nbsel 48.0\n",
      "anand 158.0\n",
      "20\n",
      "19.111111111111107\n",
      "our 32.0\n",
      "SH 26.0\n",
      "glasso 22.0\n",
      "nbsel 76.0\n",
      "anand 168.0\n",
      "19.111111111111107\n",
      "our 32.0\n",
      "SH 26.0\n",
      "glasso 22.0\n",
      "nbsel 76.0\n",
      "anand 168.0\n",
      "19.111111111111107\n",
      "our 32.0\n",
      "SH 26.0\n",
      "glasso 22.0\n",
      "nbsel 76.0\n",
      "anand 168.0\n",
      "30\n",
      "18.809023911768442\n",
      "our 30.0\n",
      "SH 48.0\n",
      "glasso 20.0\n",
      "nbsel 112.0\n",
      "anand 154.0\n",
      "18.809023911768442\n",
      "our 30.0\n",
      "SH 48.0\n",
      "glasso 20.0\n",
      "nbsel 112.0\n",
      "anand 154.0\n",
      "18.809023911768442\n",
      "our 30.0\n",
      "SH 48.0\n",
      "glasso 20.0\n",
      "nbsel 112.0\n",
      "anand 154.0\n",
      "40\n",
      "16.340785729995506\n",
      "our 32.0\n",
      "SH 44.0\n",
      "glasso 136.0\n",
      "nbsel 114.0\n",
      "anand 180.0\n",
      "16.340785729995506\n",
      "our 32.0\n",
      "SH 44.0\n",
      "glasso 136.0\n",
      "nbsel 114.0\n",
      "anand 180.0\n",
      "16.340785729995506\n",
      "our 32.0\n",
      "SH 44.0\n",
      "glasso 136.0\n",
      "nbsel 114.0\n",
      "anand 180.0\n"
     ]
    }
   ],
   "source": [
    "points = get_points(loaded_data)"
   ]
  },
  {
   "cell_type": "code",
   "execution_count": 154,
   "metadata": {},
   "outputs": [],
   "source": [
    "lines = plot_lines(points)"
   ]
  },
  {
   "cell_type": "code",
   "execution_count": 155,
   "metadata": {},
   "outputs": [
    {
     "data": {
      "image/png": "[encoded data removed]",
      "text/plain": [
       "<Figure size 432x288 with 1 Axes>"
      ]
     },
     "metadata": {},
     "output_type": "display_data"
    }
   ],
   "source": [
    "for algo, line in lines[1].items():\n",
    "    plt.plot(lines[0], line, label=algo)\n",
    "plt.title(graph_type)\n",
    "plt.legend()\n",
    "plt.show()"
   ]
  },
  {
   "cell_type": "code",
   "execution_count": null,
   "metadata": {},
   "outputs": [],
   "source": []
  }
 ],
 "metadata": {
  "kernelspec": {
   "display_name": "Python 3",
   "language": "python",
   "name": "python3"
  },
  "language_info": {
   "codemirror_mode": {
    "name": "ipython",
    "version": 3
   },
   "file_extension": ".py",
   "mimetype": "text/x-python",
   "name": "python",
   "nbconvert_exporter": "python",
   "pygments_lexer": "ipython3",
   "version": "3.6.5"
  }
 },
 "nbformat": 4,
 "nbformat_minor": 2
}
