{
 "cells": [
  {
   "cell_type": "code",
   "execution_count": 145,
   "metadata": {},
   "outputs": [],
   "source": [
    "import numpy as np\n",
    "import sklearn\n",
    "from sklearn import linear_model\n",
    "import networkx as nx\n",
    "import matplotlib.pyplot as plt\n",
    "%matplotlib inline\n",
    "import itertools\n",
    "from scipy import stats"
   ]
  },
  {
   "cell_type": "code",
   "execution_count": 2,
   "metadata": {},
   "outputs": [],
   "source": []
  },
  {
   "cell_type": "code",
   "execution_count": 3,
   "metadata": {},
   "outputs": [],
   "source": [
    "def generate_mat(p, target_S, sparse_thres = 0.7):\n",
    "    S = target_S - 1\n",
    "    count = 0\n",
    "    while S != target_S:\n",
    "        #print(count)\n",
    "        count += 1\n",
    "        if S > target_S:\n",
    "            sparse_thres *= 1.15\n",
    "        else:\n",
    "            sparse_thres *= 0.85\n",
    "        sam_inv = np.zeros((p,p))\n",
    "        for i in range(p):\n",
    "            for j in range(i+1, p):\n",
    "                if np.random.uniform() < sparse_thres:\n",
    "                    sam_inv[i][j] = 0\n",
    "                else:\n",
    "                    sam_inv[i][j] = np.random.uniform(low = -1., high = -0.2) \n",
    "\n",
    "        inv = np.minimum(sam_inv, sam_inv.T) #makes it symmetric\n",
    "        adj = get_adj(inv + np.eye(p)) #for factoring in the diagonal to adjacency matrix calculation\n",
    "        S = get_S(adj)\n",
    "\n",
    "    for i in range(p): #sets it to be diagonally dominant\n",
    "        s = abs(np.sum(inv[i]))\n",
    "        inv[i][i] = s + np.random.uniform(low = 0.2, high = 1.)\n",
    "    \n",
    "    adj = get_adj(inv)\n",
    "    S = get_S(adj)\n",
    "    assert_symm(inv)\n",
    "    #print(S)\n",
    "    assert(S == target_S)\n",
    "    return inv"
   ]
  },
  {
   "cell_type": "code",
   "execution_count": 21,
   "metadata": {},
   "outputs": [],
   "source": [
    "def get_connections(target_vertex, adj):\n",
    "    true_connections = []\n",
    "    not_connected = []\n",
    "    for i, connect in enumerate(adj[target_vertex]):\n",
    "        if connect and i != target_vertex:\n",
    "            true_connections.append(i)\n",
    "        if not connect and i != target_vertex:\n",
    "            not_connected.append(i)\n",
    "    return true_connections, not_connected"
   ]
  },
  {
   "cell_type": "code",
   "execution_count": 52,
   "metadata": {},
   "outputs": [],
   "source": [
    "def do_regression(sample, subset, target_vertex):\n",
    "    LR = linear_model.LinearRegression(fit_intercept = False)\n",
    "    data_subset = sample #use whole thing\n",
    "    LR.fit(data_subset[:, subset], data_subset[:, target_vertex])\n",
    "    \n",
    "    to_remove = set()\n",
    "    for i, c in enumerate(LR.coef_):\n",
    "        if c <= 0:\n",
    "            to_remove.add(subset[i])\n",
    "    return to_remove"
   ]
  },
  {
   "cell_type": "code",
   "execution_count": 153,
   "metadata": {},
   "outputs": [],
   "source": [
    "def do_regression_random(sample, subset, target_vertex, random_sample, random_sample_time, print_opt = False):\n",
    "    if random_sample <= 1: #fraction\n",
    "        random_sample = int(len(sample) * random_sample)\n",
    "    \n",
    "    to_remove = set()\n",
    "    \n",
    "    coefs = []\n",
    "    for _ in range(random_sample_time):\n",
    "        LR = linear_model.LinearRegression(fit_intercept = False)\n",
    "        data_subset = sample[np.random.choice(sample.shape[0], random_sample, replace = False), :]\n",
    "        LR.fit(data_subset[:, subset], data_subset[:, target_vertex])\n",
    "        \n",
    "        if print_opt:\n",
    "            print(list(zip(subset, LR.coef_)))\n",
    "        for i, c in enumerate(LR.coef_):\n",
    "            coefs.append(LR.coef_)\n",
    "            if c <= 0:\n",
    "                to_remove.add(subset[i])\n",
    "    if print_opt:\n",
    "        for i in range(len(subset)):\n",
    "            rel_coef = [x[i] for x in coefs]\n",
    "            plt.hist(rel_coef)\n",
    "            print(i, stats.shapiro(rel_coef))\n",
    "            print(np.mean(rel_coef), np.std(rel_coef))\n",
    "\n",
    "        plt.show()\n",
    "    \n",
    "    return to_remove"
   ]
  },
  {
   "cell_type": "code",
   "execution_count": 203,
   "metadata": {},
   "outputs": [],
   "source": [
    "def predict_edges(target_vertex, adj, sample, \n",
    "                  random_sample = None, random_sample_time = None, \n",
    "                  print_opt = False,\n",
    "                  fast_alg = True):\n",
    "    true_connections, not_connected = get_connections(target_vertex, adj)\n",
    "    \n",
    "    p, _ = adj.shape\n",
    "    edges = set(range(p))\n",
    "    edges.remove(target_vertex)\n",
    "    \n",
    "    removed = set()\n",
    "    for l in range(1, int(get_S(adj) * 1.5) + 1):\n",
    "        if print_opt:\n",
    "            print(\"Trying subset of size {}\".format(l))\n",
    "        for subset in set(itertools.combinations(range(p), l)):\n",
    "            do_regress = True\n",
    "            if target_vertex in subset:\n",
    "                do_regress = False\n",
    "                continue\n",
    "            #problem! \n",
    "            #for example if you've already removed all but 1 vertex, then you'll never be able to try it\n",
    "            #since all subsets including it will contain other removed vertices\n",
    "            #commented out for now, but takes longer ... potentially smarter things to do here\n",
    "            #has to have exactly 1 thing that is not removed?\n",
    "            if fast_alg:\n",
    "                for r in removed: \n",
    "                    if r in subset:\n",
    "                        do_regress = False\n",
    "                        break\n",
    "#                 removed_count = 0\n",
    "#                 for r in removed:\n",
    "#                     if r in subset:\n",
    "#                         removed_count += 1\n",
    "#                 if removed_count / len(subset) >= 0.5:\n",
    "#                     do_regress = False\n",
    "            if not do_regress:\n",
    "                continue\n",
    "                \n",
    "            if random_sample:\n",
    "                to_remove = do_regression_random(sample, subset, target_vertex, random_sample, random_sample_time)\n",
    "            else:\n",
    "                to_remove = do_regression(sample, subset, target_vertex)\n",
    "            \n",
    "            if print_opt:\n",
    "                print(subset, to_remove)\n",
    "            for r in to_remove:\n",
    "                if r in edges:\n",
    "                    edges.remove(r)\n",
    "                removed.add(r)\n",
    "    return true_connections, edges"
   ]
  },
  {
   "cell_type": "code",
   "execution_count": 204,
   "metadata": {},
   "outputs": [
    {
     "name": "stdout",
     "output_type": "stream",
     "text": [
      "Graphical Model\n"
     ]
    },
    {
     "data": {
      "image/png": "[encoded data removed]",
      "text/plain": [
       "<Figure size 576x432 with 1 Axes>"
      ]
     },
     "metadata": {},
     "output_type": "display_data"
    }
   ],
   "source": [
    "p = 15\n",
    "S = 6\n",
    "inv = generate_mat(p, S, 0.7)\n",
    "cov = np.linalg.inv(inv)\n",
    "assert_PSD(cov)\n",
    "adj = get_adj(inv)\n",
    "\n",
    "print(\"Graphical Model\")\n",
    "G = nx.from_numpy_matrix(adj) \n",
    "fig, ax = plt.subplots(1, 1, figsize=(8, 6));\n",
    "nx.draw(G, with_labels=True)\n",
    "\n",
    "sample = np.random.multivariate_normal(np.zeros(p), cov, size = 100000)"
   ]
  },
  {
   "cell_type": "code",
   "execution_count": null,
   "metadata": {},
   "outputs": [],
   "source": [
    "p = 4\n",
    "S = 2\n",
    "inv = np.array([\n",
    "    [1.1, ],\n",
    "    [0.0, ],\n",
    "    [],\n",
    "    []\n",
    "])\n",
    "cov = np.linalg.inv(inv)\n",
    "assert_PSD(cov)\n",
    "adj = get_adj(inv)\n",
    "\n",
    "print(\"Graphical Model\")\n",
    "G = nx.from_numpy_matrix(adj) \n",
    "fig, ax = plt.subplots(1, 1, figsize=(8, 6));\n",
    "nx.draw(G, with_labels=True)\n",
    "\n",
    "sample = np.random.multivariate_normal(np.zeros(p), cov, size = 100000)"
   ]
  },
  {
   "cell_type": "code",
   "execution_count": 205,
   "metadata": {},
   "outputs": [
    {
     "name": "stdout",
     "output_type": "stream",
     "text": [
      "Using all data\n",
      "Target vertex is: 0\n",
      "[3, 6] {3, 5, 6, 8, 10, 14}\n",
      "Target vertex is: 1\n",
      "[3, 8] {3, 4, 8, 9, 10}\n",
      "Target vertex is: 2\n",
      "[3, 6, 7, 11] {3, 5, 6, 7, 11, 14}\n",
      "Target vertex is: 3\n",
      "[0, 1, 2, 4, 8, 10] {0, 1, 2, 4, 7, 8, 10}\n",
      "Target vertex is: 4\n",
      "[3, 7, 9, 12] {1, 3, 6, 7, 9, 12}\n",
      "Target vertex is: 5\n",
      "[6, 9, 12] {0, 2, 6, 9, 11, 12}\n",
      "Target vertex is: 6\n",
      "[0, 2, 5, 7, 9, 10] {0, 2, 4, 5, 7, 9, 10, 11}\n",
      "Target vertex is: 7\n"
     ]
    },
    {
     "ename": "KeyboardInterrupt",
     "evalue": "",
     "output_type": "error",
     "traceback": [
      "\u001b[0;31m---------------------------------------------------------------------------\u001b[0m",
      "\u001b[0;31mKeyboardInterrupt\u001b[0m                         Traceback (most recent call last)",
      "\u001b[0;32m<ipython-input-205-2b42fa0f6af5>\u001b[0m in \u001b[0;36m<module>\u001b[0;34m()\u001b[0m\n\u001b[1;32m      3\u001b[0m \u001b[0;32mfor\u001b[0m \u001b[0mtarget_vertex\u001b[0m \u001b[0;32min\u001b[0m \u001b[0mrange\u001b[0m\u001b[0;34m(\u001b[0m\u001b[0mp\u001b[0m\u001b[0;34m)\u001b[0m\u001b[0;34m:\u001b[0m\u001b[0;34m\u001b[0m\u001b[0m\n\u001b[1;32m      4\u001b[0m     \u001b[0mprint\u001b[0m\u001b[0;34m(\u001b[0m\u001b[0;34m\"Target vertex is: {}\"\u001b[0m\u001b[0;34m.\u001b[0m\u001b[0mformat\u001b[0m\u001b[0;34m(\u001b[0m\u001b[0mtarget_vertex\u001b[0m\u001b[0;34m)\u001b[0m\u001b[0;34m)\u001b[0m\u001b[0;34m\u001b[0m\u001b[0m\n\u001b[0;32m----> 5\u001b[0;31m     \u001b[0mtc\u001b[0m\u001b[0;34m,\u001b[0m \u001b[0mpc\u001b[0m \u001b[0;34m=\u001b[0m \u001b[0mpredict_edges\u001b[0m\u001b[0;34m(\u001b[0m\u001b[0mtarget_vertex\u001b[0m\u001b[0;34m,\u001b[0m \u001b[0madj\u001b[0m\u001b[0;34m,\u001b[0m \u001b[0msample\u001b[0m\u001b[0;34m,\u001b[0m \u001b[0;32mNone\u001b[0m\u001b[0;34m,\u001b[0m \u001b[0;32mNone\u001b[0m\u001b[0;34m)\u001b[0m\u001b[0;34m\u001b[0m\u001b[0m\n\u001b[0m\u001b[1;32m      6\u001b[0m     \u001b[0mprint\u001b[0m\u001b[0;34m(\u001b[0m\u001b[0mtc\u001b[0m\u001b[0;34m,\u001b[0m \u001b[0mpc\u001b[0m\u001b[0;34m)\u001b[0m\u001b[0;34m\u001b[0m\u001b[0m\n\u001b[1;32m      7\u001b[0m     \u001b[0;32mif\u001b[0m \u001b[0mset\u001b[0m\u001b[0;34m(\u001b[0m\u001b[0mtc\u001b[0m\u001b[0;34m)\u001b[0m \u001b[0;34m==\u001b[0m \u001b[0mset\u001b[0m\u001b[0;34m(\u001b[0m\u001b[0mpc\u001b[0m\u001b[0;34m)\u001b[0m\u001b[0;34m:\u001b[0m\u001b[0;34m\u001b[0m\u001b[0m\n",
      "\u001b[0;32m<ipython-input-203-eb33a1d70ed1>\u001b[0m in \u001b[0;36mpredict_edges\u001b[0;34m(target_vertex, adj, sample, random_sample, random_sample_time, print_opt, fast_alg)\u001b[0m\n\u001b[1;32m     40\u001b[0m                 \u001b[0mto_remove\u001b[0m \u001b[0;34m=\u001b[0m \u001b[0mdo_regression_random\u001b[0m\u001b[0;34m(\u001b[0m\u001b[0msample\u001b[0m\u001b[0;34m,\u001b[0m \u001b[0msubset\u001b[0m\u001b[0;34m,\u001b[0m \u001b[0mtarget_vertex\u001b[0m\u001b[0;34m,\u001b[0m \u001b[0mrandom_sample\u001b[0m\u001b[0;34m,\u001b[0m \u001b[0mrandom_sample_time\u001b[0m\u001b[0;34m)\u001b[0m\u001b[0;34m\u001b[0m\u001b[0m\n\u001b[1;32m     41\u001b[0m             \u001b[0;32melse\u001b[0m\u001b[0;34m:\u001b[0m\u001b[0;34m\u001b[0m\u001b[0m\n\u001b[0;32m---> 42\u001b[0;31m                 \u001b[0mto_remove\u001b[0m \u001b[0;34m=\u001b[0m \u001b[0mdo_regression\u001b[0m\u001b[0;34m(\u001b[0m\u001b[0msample\u001b[0m\u001b[0;34m,\u001b[0m \u001b[0msubset\u001b[0m\u001b[0;34m,\u001b[0m \u001b[0mtarget_vertex\u001b[0m\u001b[0;34m)\u001b[0m\u001b[0;34m\u001b[0m\u001b[0m\n\u001b[0m\u001b[1;32m     43\u001b[0m \u001b[0;34m\u001b[0m\u001b[0m\n\u001b[1;32m     44\u001b[0m             \u001b[0;32mif\u001b[0m \u001b[0mprint_opt\u001b[0m\u001b[0;34m:\u001b[0m\u001b[0;34m\u001b[0m\u001b[0m\n",
      "\u001b[0;32m<ipython-input-52-e95326649f10>\u001b[0m in \u001b[0;36mdo_regression\u001b[0;34m(sample, subset, target_vertex)\u001b[0m\n\u001b[1;32m      2\u001b[0m     \u001b[0mLR\u001b[0m \u001b[0;34m=\u001b[0m \u001b[0mlinear_model\u001b[0m\u001b[0;34m.\u001b[0m\u001b[0mLinearRegression\u001b[0m\u001b[0;34m(\u001b[0m\u001b[0mfit_intercept\u001b[0m \u001b[0;34m=\u001b[0m \u001b[0;32mFalse\u001b[0m\u001b[0;34m)\u001b[0m\u001b[0;34m\u001b[0m\u001b[0m\n\u001b[1;32m      3\u001b[0m     \u001b[0mdata_subset\u001b[0m \u001b[0;34m=\u001b[0m \u001b[0msample\u001b[0m \u001b[0;31m#use whole thing\u001b[0m\u001b[0;34m\u001b[0m\u001b[0m\n\u001b[0;32m----> 4\u001b[0;31m     \u001b[0mLR\u001b[0m\u001b[0;34m.\u001b[0m\u001b[0mfit\u001b[0m\u001b[0;34m(\u001b[0m\u001b[0mdata_subset\u001b[0m\u001b[0;34m[\u001b[0m\u001b[0;34m:\u001b[0m\u001b[0;34m,\u001b[0m \u001b[0msubset\u001b[0m\u001b[0;34m]\u001b[0m\u001b[0;34m,\u001b[0m \u001b[0mdata_subset\u001b[0m\u001b[0;34m[\u001b[0m\u001b[0;34m:\u001b[0m\u001b[0;34m,\u001b[0m \u001b[0mtarget_vertex\u001b[0m\u001b[0;34m]\u001b[0m\u001b[0;34m)\u001b[0m\u001b[0;34m\u001b[0m\u001b[0m\n\u001b[0m\u001b[1;32m      5\u001b[0m \u001b[0;34m\u001b[0m\u001b[0m\n\u001b[1;32m      6\u001b[0m     \u001b[0mto_remove\u001b[0m \u001b[0;34m=\u001b[0m \u001b[0mset\u001b[0m\u001b[0;34m(\u001b[0m\u001b[0;34m)\u001b[0m\u001b[0;34m\u001b[0m\u001b[0m\n",
      "\u001b[0;32m/usr/local/lib/python3.6/site-packages/sklearn/linear_model/base.py\u001b[0m in \u001b[0;36mfit\u001b[0;34m(self, X, y, sample_weight)\u001b[0m\n\u001b[1;32m    507\u001b[0m         \u001b[0;32melse\u001b[0m\u001b[0;34m:\u001b[0m\u001b[0;34m\u001b[0m\u001b[0m\n\u001b[1;32m    508\u001b[0m             \u001b[0mself\u001b[0m\u001b[0;34m.\u001b[0m\u001b[0mcoef_\u001b[0m\u001b[0;34m,\u001b[0m \u001b[0mself\u001b[0m\u001b[0;34m.\u001b[0m\u001b[0m_residues\u001b[0m\u001b[0;34m,\u001b[0m \u001b[0mself\u001b[0m\u001b[0;34m.\u001b[0m\u001b[0mrank_\u001b[0m\u001b[0;34m,\u001b[0m \u001b[0mself\u001b[0m\u001b[0;34m.\u001b[0m\u001b[0msingular_\u001b[0m \u001b[0;34m=\u001b[0m\u001b[0;31m \u001b[0m\u001b[0;31m\\\u001b[0m\u001b[0;34m\u001b[0m\u001b[0m\n\u001b[0;32m--> 509\u001b[0;31m                 \u001b[0mlinalg\u001b[0m\u001b[0;34m.\u001b[0m\u001b[0mlstsq\u001b[0m\u001b[0;34m(\u001b[0m\u001b[0mX\u001b[0m\u001b[0;34m,\u001b[0m \u001b[0my\u001b[0m\u001b[0;34m)\u001b[0m\u001b[0;34m\u001b[0m\u001b[0m\n\u001b[0m\u001b[1;32m    510\u001b[0m             \u001b[0mself\u001b[0m\u001b[0;34m.\u001b[0m\u001b[0mcoef_\u001b[0m \u001b[0;34m=\u001b[0m \u001b[0mself\u001b[0m\u001b[0;34m.\u001b[0m\u001b[0mcoef_\u001b[0m\u001b[0;34m.\u001b[0m\u001b[0mT\u001b[0m\u001b[0;34m\u001b[0m\u001b[0m\n\u001b[1;32m    511\u001b[0m \u001b[0;34m\u001b[0m\u001b[0m\n",
      "\u001b[0;32m/usr/local/lib/python3.6/site-packages/scipy/linalg/basic.py\u001b[0m in \u001b[0;36mlstsq\u001b[0;34m(a, b, cond, overwrite_a, overwrite_b, check_finite, lapack_driver)\u001b[0m\n\u001b[1;32m   1205\u001b[0m             v, x, s, rank, work, info = lapack_func(a1, b1, cond, lwork,\n\u001b[1;32m   1206\u001b[0m                                                     \u001b[0moverwrite_a\u001b[0m\u001b[0;34m=\u001b[0m\u001b[0moverwrite_a\u001b[0m\u001b[0;34m,\u001b[0m\u001b[0;34m\u001b[0m\u001b[0m\n\u001b[0;32m-> 1207\u001b[0;31m                                                     overwrite_b=overwrite_b)\n\u001b[0m\u001b[1;32m   1208\u001b[0m \u001b[0;34m\u001b[0m\u001b[0m\n\u001b[1;32m   1209\u001b[0m         \u001b[0;32melif\u001b[0m \u001b[0mdriver\u001b[0m \u001b[0;34m==\u001b[0m \u001b[0;34m'gelsd'\u001b[0m\u001b[0;34m:\u001b[0m\u001b[0;34m\u001b[0m\u001b[0m\n",
      "\u001b[0;31mKeyboardInterrupt\u001b[0m: "
     ]
    }
   ],
   "source": [
    "print(\"Using all data\")\n",
    "correct = 0\n",
    "for target_vertex in range(p):\n",
    "    print(\"Target vertex is: {}\".format(target_vertex))\n",
    "    tc, pc = predict_edges(target_vertex, adj, sample, None, None)\n",
    "    print(tc, pc)\n",
    "    if set(tc) == set(pc):\n",
    "        correct += 1\n",
    "\n",
    "print(correct / p)"
   ]
  },
  {
   "cell_type": "code",
   "execution_count": 212,
   "metadata": {
    "scrolled": false
   },
   "outputs": [
    {
     "name": "stdout",
     "output_type": "stream",
     "text": [
      "=====\n",
      "Using randomized data\n",
      "Using 0.5 of data and 5 trials\n",
      "Target vertex is: 0\n",
      "[3, 6] {3, 6}\n",
      "Target vertex is: 1\n",
      "[3, 8] {3, 4, 8}\n",
      "Target vertex is: 2\n",
      "[3, 6, 7, 11] {3, 6, 7, 11}\n",
      "Target vertex is: 3\n",
      "[0, 1, 2, 4, 8, 10] {0, 1, 2, 4, 8, 10}\n",
      "Target vertex is: 4\n",
      "[3, 7, 9, 12] {1, 3, 7, 9, 12}\n",
      "Target vertex is: 5\n",
      "[6, 9, 12] {6, 9, 12}\n",
      "Target vertex is: 6\n",
      "[0, 2, 5, 7, 9, 10] {0, 2, 5, 7, 9, 10}\n",
      "Target vertex is: 7\n",
      "[2, 4, 6, 9] {2, 4, 6, 9}\n",
      "Target vertex is: 8\n",
      "[1, 3, 9] {1, 3, 9}\n",
      "Target vertex is: 9\n",
      "[4, 5, 6, 7, 8] {4, 5, 6, 7, 8}\n",
      "Target vertex is: 10\n",
      "[3, 6] {3, 6}\n",
      "Target vertex is: 11\n",
      "[2, 13] {2, 5, 13}\n",
      "Target vertex is: 12\n",
      "[4, 5] {4, 5}\n",
      "Target vertex is: 13\n",
      "[11] {11}\n",
      "Target vertex is: 14\n",
      "[] set()\n",
      "0.8\n"
     ]
    }
   ],
   "source": [
    "print(\"=====\")\n",
    "\n",
    "print(\"Using randomized data\")\n",
    "part_data = 0.5\n",
    "trials = 5\n",
    "print(\"Using {} of data and {} trials\".format(part_data, trials))\n",
    "correct = 0\n",
    "for target_vertex in range(p):\n",
    "    print(\"Target vertex is: {}\".format(target_vertex))\n",
    "    tc, pc = predict_edges(target_vertex, adj, sample, \n",
    "                           part_data, trials, \n",
    "                           print_opt = False, fast_alg = True)\n",
    "    print(tc, pc)\n",
    "    if set(tc) == set(pc):\n",
    "        correct += 1\n",
    "\n",
    "print(correct / p)"
   ]
  },
  {
   "cell_type": "code",
   "execution_count": 218,
   "metadata": {},
   "outputs": [
    {
     "name": "stdout",
     "output_type": "stream",
     "text": [
      "Trying subset of size 1\n",
      "(0,) set()\n",
      "(1,) set()\n",
      "(2,) set()\n",
      "(8,) set()\n",
      "(3,) set()\n",
      "(9,) set()\n",
      "(4,) set()\n",
      "(10,) set()\n",
      "(5,) set()\n",
      "(6,) set()\n",
      "(12,) set()\n",
      "(7,) set()\n",
      "(13,) set()\n",
      "(14,) {14}\n",
      "Trying subset of size 2\n",
      "(6, 9) set()\n",
      "(7, 12) set()\n",
      "(0, 7) set()\n",
      "(1, 6) set()\n",
      "(0, 10) set()\n",
      "(3, 7) set()\n",
      "(2, 5) set()\n",
      "(5, 8) set()\n",
      "(6, 7) set()\n",
      "(6, 10) set()\n",
      "(0, 4) set()\n",
      "(4, 10) set()\n",
      "(2, 6) {6}\n",
      "(4, 5) set()\n",
      "(10, 13) set()\n",
      "(0, 1) set()\n",
      "(3, 12) set()\n",
      "(1, 12) set()\n",
      "(8, 12) set()\n",
      "(7, 8) set()\n",
      "(8, 9) set()\n",
      "(4, 12) set()\n",
      "(2, 12) {12}\n",
      "(1, 5) set()\n",
      "(1, 10) set()\n",
      "(0, 5) set()\n",
      "(0, 8) set()\n",
      "(3, 5) set()\n",
      "(2, 7) {7}\n",
      "(9, 13) set()\n",
      "(5, 10) set()\n",
      "(0, 2) {0}\n",
      "(1, 3) {1}\n",
      "(8, 13) set()\n",
      "(4, 8) set()\n",
      "(2, 8) {8}\n",
      "(5, 13) set()\n",
      "(3, 10) set()\n",
      "(4, 13) set()\n",
      "(2, 13) set()\n",
      "(3, 9) set()\n",
      "(2, 3) {3}\n",
      "(2, 4) {4}\n",
      "(5, 9) set()\n",
      "(2, 9) {9}\n",
      "(2, 10) {10}\n",
      "Trying subset of size 3\n",
      "(2, 5, 13) {5}\n",
      "Trying subset of size 4\n",
      "Trying subset of size 5\n",
      "Trying subset of size 6\n",
      "Trying subset of size 7\n",
      "Trying subset of size 8\n",
      "Trying subset of size 9\n"
     ]
    },
    {
     "data": {
      "text/plain": [
       "([2, 13], {2, 13})"
      ]
     },
     "execution_count": 218,
     "metadata": {},
     "output_type": "execute_result"
    }
   ],
   "source": [
    "predict_edges(11, adj, sample, part_data, 50, print_opt = True, fast_alg = True)"
   ]
  },
  {
   "cell_type": "code",
   "execution_count": 221,
   "metadata": {},
   "outputs": [
    {
     "name": "stdout",
     "output_type": "stream",
     "text": [
      "[(3, 0.2696390540558393), (8, 0.528041874420546), (4, 0.023295378966132818), (2, -0.0016223641321066653), (5, -0.007247732302190085), (6, -0.0028891278384515773), (7, -0.004894892954789086), (9, 0.010377367577050163), (10, 0.0037101877180490093), (11, 0.0040610442927741935), (12, -0.0017381688500986148), (13, -0.0017989034930661202)]\n",
      "[(3, 0.27569082454332955), (8, 0.5345221089633442), (4, 0.020380449166668067), (2, -0.0005994528176128042), (5, -0.007123887794702494), (6, -0.004795879278278042), (7, -0.011733193086792729), (9, 0.01216369639891108), (10, 0.001084752447749568), (11, -0.004803664765281976), (12, -0.004357580280205976), (13, -0.0015138382115225807)]\n",
      "[(3, 0.2719908975609254), (8, 0.5301215313982932), (4, 0.015658516910664617), (2, -0.0064904860956953025), (5, -0.002452995098567959), (6, -0.012712322644114569), (7, -0.0019425475886928265), (9, 0.01283871924760216), (10, 0.004705348521396764), (11, 0.0025554872429279576), (12, 6.903581914937708e-05), (13, -0.0034754411264217716)]\n",
      "[(3, 0.2704266203283787), (8, 0.531102816363002), (4, 0.015283976689335583), (2, -0.0024057085331500028), (5, -0.0014625591130577459), (6, -0.006328864471733064), (7, 0.0007758656297314689), (9, 0.006584078652489639), (10, 0.006128135448594255), (11, 0.006173798755109615), (12, -0.003770390437821264), (13, -0.004624352745030771)]\n",
      "[(3, 0.2834179519695235), (8, 0.5262679295839928), (4, 0.014569003437559437), (2, -0.003044426890718037), (5, 0.003974305293737504), (6, -0.0024120367218588828), (7, 0.001954145248491773), (9, -0.0008594931588557092), (10, -0.0001722285962749543), (11, -0.004102646312092242), (12, -0.0035082911850816845), (13, -0.0021410017955288685)]\n",
      "[(3, 0.2680660146415966), (8, 0.518322725250057), (4, 0.014580081614759016), (2, 0.0016527894165953433), (5, -0.0059192172684817135), (6, -0.008580427635242697), (7, -0.003436755157496446), (9, 0.012415904078874787), (10, 0.003665687329898129), (11, 0.0017671623411080507), (12, -0.005234072444672103), (13, 0.0011436238314874864)]\n",
      "[(3, 0.27283944316420083), (8, 0.5185533118418821), (4, 0.004418967688218849), (2, -0.006677420099044609), (5, -0.0010084391387053387), (6, -0.001338327530224042), (7, 0.0067035099259814546), (9, 0.010084152597554782), (10, -0.001384706391495641), (11, -0.005017920411910615), (12, -0.0035922952214415514), (13, 0.00014579487615545839)]\n",
      "[(3, 0.2723552364325852), (8, 0.5250529662421588), (4, 0.011100150135479228), (2, 0.0016434260059793697), (5, -0.0010993267999991896), (6, -0.009071468786389036), (7, 0.00460824404768654), (9, 0.003724504972034748), (10, 0.009765500075552932), (11, -0.006226031445639733), (12, -0.0028491152295899488), (13, 0.0022317214978396505)]\n",
      "[(3, 0.28163170764830825), (8, 0.5258173091056736), (4, 0.007658594880472599), (2, -0.00429180703863701), (5, 0.0005889705346371621), (6, -0.011906568214681347), (7, 0.008136522324604552), (9, 0.004018769177665388), (10, 0.007803418180489545), (11, -0.0027476212308596704), (12, -0.004695196443624379), (13, 0.002177976677843557)]\n",
      "[(3, 0.27159882517645134), (8, 0.5255694863355262), (4, 0.014692661785309511), (2, 0.0004374908027798066), (5, 0.003645899656658097), (6, -0.006611428472943746), (7, -0.003343378807746801), (9, 0.00681255567547219), (10, -0.0008586122518228455), (11, 0.0015676387438450234), (12, 0.0008001220819262378), (13, -0.0002622501904990804)]\n",
      "[(3, 0.2792558500745784), (8, 0.5331286405570966), (4, 0.0036560991522069652), (2, -0.009132684911016506), (5, -0.0035953705425745275), (6, 0.001614127844493038), (7, 0.0045858117075402065), (9, 0.005530266473400804), (10, -0.0010653811341566968), (11, 0.002497557116791199), (12, 0.0020607957742747214), (13, -0.0005385023966890112)]\n",
      "[(3, 0.27596813632981987), (8, 0.5248777898385686), (4, 0.023932854459945196), (2, -0.004689868771512201), (5, -0.001993622387214483), (6, -0.009214885886974843), (7, 0.00149457435809177), (9, 0.002040145365349938), (10, 0.006680808139482885), (11, 0.003653283086931622), (12, -0.011538646333227678), (13, 4.4653682360853986e-05)]\n",
      "[(3, 0.2694101519089835), (8, 0.5318038732915349), (4, 0.01797990567443141), (2, -0.0023995529664561158), (5, 0.002221457319280473), (6, -0.00046003078395970634), (7, -0.007994711213229845), (9, 0.00467816421823071), (10, 0.00330161594692294), (11, -0.000717035117015534), (12, -0.007966504635400691), (13, 0.002979479326255835)]\n",
      "[(3, 0.2656857207012403), (8, 0.5393594837339074), (4, 0.015006570249312998), (2, 0.0010036995482957736), (5, -0.004721888177371847), (6, -0.003939454336832453), (7, 0.003193143680815677), (9, 0.0019578045498625657), (10, 0.0034314820627368335), (11, 0.00018218471033736722), (12, -0.0037580067377633746), (13, -0.0008750579372580752)]\n",
      "[(3, 0.267403830184487), (8, 0.5237614098557877), (4, 0.007770882836075237), (2, -0.010890703299696563), (5, -0.0025309073097592866), (6, -0.013941812081761661), (7, 0.008193824921481907), (9, 0.0155269887260997), (10, 0.008098620021278476), (11, 0.004871356249404157), (12, -0.003561288825624419), (13, -0.002376252854260172)]\n",
      "[(3, 0.27133586406075816), (8, 0.5345218527177764), (4, 0.012631868039891851), (2, 0.0020260342928821), (5, -0.0010737131249285436), (6, -0.012564009077891996), (7, 0.0025700091606194256), (9, 0.014204736924818412), (10, 0.010306669138173631), (11, 0.0021489700959818336), (12, -0.012047161463962478), (13, 0.0037036111746576866)]\n",
      "[(3, 0.27422037118248355), (8, 0.5267077376772211), (4, 0.009984415825041039), (2, -0.003513248402873377), (5, -0.0009904526026891097), (6, -0.009180720697606844), (7, -0.002139649158206705), (9, 0.006217559874864026), (10, 0.004391399539324172), (11, -0.002191286841169135), (12, 0.0023205605616389213), (13, -0.0003885715299517395)]\n",
      "[(3, 0.2809491195776499), (8, 0.5351306818599125), (4, 0.007149414088000565), (2, -0.0027105623739081958), (5, 0.007150247368920573), (6, -0.014758615497697431), (7, -0.0054349218278146386), (9, 0.012118701185856992), (10, -0.00028448897716472354), (11, 0.002104798958430139), (12, -0.0015430532140016636), (13, -0.0029211018962348734)]\n",
      "[(3, 0.2791725625720816), (8, 0.5283045432551994), (4, 0.013368310990017819), (2, -0.008027044101350335), (5, 0.0011125688627263153), (6, -0.006356944810159561), (7, -0.0008034054598236376), (9, 0.006407934254063399), (10, 0.002636554881060391), (11, 0.004158272148904955), (12, -0.002438951519886737), (13, 0.0005335393963551704)]\n",
      "[(3, 0.27377825059005023), (8, 0.5247851565523065), (4, 0.006543351876483), (2, -0.004324479635095104), (5, 0.006238604371483214), (6, -0.005114287543718881), (7, -0.0019793843013519857), (9, 0.009768785217384598), (10, 0.0054986118023647584), (11, -0.005667725270126225), (12, -0.002918061652829585), (13, -0.0007136717933516334)]\n",
      "0 (0.945154070854187, 7.572369042918581e-08)\n",
      "0.27374182163516364 0.004882426852438647\n",
      "1 (0.9513693451881409, 3.3214359973499086e-07)\n",
      "0.5282876614421893 0.005306893772925398\n",
      "2 (0.9469704627990723, 1.154342825770982e-07)\n",
      "0.01298307272330029 0.005633071540216167\n",
      "3 (0.9463221430778503, 9.921298982362714e-08)\n",
      "-0.0032028185001170217 0.0036148810122423247\n",
      "4 (0.9507883191108704, 2.879909004604997e-07)\n",
      "-0.0008144029126399492 0.003929526037659175\n",
      "5 (0.9588586091995239, 2.2895007987244753e-06)\n",
      "-0.007028154223301367 0.004573050347658197\n",
      "6 (0.962051510810852, 5.522599622054258e-06)\n",
      "-7.435942754499634e-05 0.0051714378102486035\n",
      "7 (0.9516525268554688, 3.5617978255686467e-07)\n",
      "0.007830567100436519 0.004448748633112052\n",
      "8 (0.9424604773521423, 4.112681040169264e-08)\n",
      "0.003872168695107972 0.003492514317950957\n",
      "9 (0.9155756235122681, 2.0221863072933388e-10)\n",
      "0.0002133811174225491 0.003770500400166451\n",
      "10 (0.8980443477630615, 1.1127335164395902e-11)\n",
      "-0.0035133135119121443 0.003659201747666993\n",
      "11 (0.9709634184837341, 8.028907905099913e-05)\n",
      "-0.00043342727534294995 0.002117970671771859\n"
     ]
    },
    {
     "data": {
      "image/png": "[encoded data removed]",
      "text/plain": [
       "<Figure size 432x288 with 1 Axes>"
      ]
     },
     "metadata": {},
     "output_type": "display_data"
    },
    {
     "data": {
      "text/plain": [
       "{2, 5, 6, 7, 9, 10, 11, 12, 13}"
      ]
     },
     "execution_count": 221,
     "metadata": {},
     "output_type": "execute_result"
    }
   ],
   "source": [
    "do_regression_random(sample, (3,8,4,2,5,6,7,9,10,11,12,13), 1, 0.5, 20 , print_opt = True)"
   ]
  },
  {
   "cell_type": "code",
   "execution_count": null,
   "metadata": {},
   "outputs": [],
   "source": [
    "#automatic stops\n",
    "#regress only on neighbors -> markov blanket (figure out how to scale it and make it fast)\n",
    "#bootstrap\n",
    "#FDR paper\n",
    "#https://arxiv.org/pdf/1703.06222.pdf\n",
    "#https://arxiv.org/pdf/1710.07175.pdf\n",
    "#https://projecteuclid.org/download/pdfview_1/euclid.ss/1199285042 \n",
    "##Last paper is the most relevant\n",
    "\n"
   ]
  }
 ],
 "metadata": {
  "kernelspec": {
   "display_name": "Python 3",
   "language": "python",
   "name": "python3"
  },
  "language_info": {
   "codemirror_mode": {
    "name": "ipython",
    "version": 3
   },
   "file_extension": ".py",
   "mimetype": "text/x-python",
   "name": "python",
   "nbconvert_exporter": "python",
   "pygments_lexer": "ipython3",
   "version": "3.6.5"
  }
 },
 "nbformat": 4,
 "nbformat_minor": 2
}
