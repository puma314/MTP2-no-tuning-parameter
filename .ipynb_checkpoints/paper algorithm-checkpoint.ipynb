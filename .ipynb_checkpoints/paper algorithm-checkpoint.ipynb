{
 "cells": [
  {
   "cell_type": "code",
   "execution_count": 1,
   "metadata": {},
   "outputs": [],
   "source": [
    "%load_ext autoreload\n",
    "%autoreload 2\n",
    "import numpy as np\n",
    "from final_algo import our_algo, new_algo\n",
    "from paper_sims_util import (confusion, MCC,\n",
    "                             grid_graph, star, their_random_graph, their_random_graph_2,\n",
    "                             attr_threshold, run_single_MTP)"
   ]
  },
  {
   "cell_type": "code",
   "execution_count": 6,
   "metadata": {},
   "outputs": [],
   "source": [
    "from sklearn.covariance import GraphicalLassoCV"
   ]
  },
  {
   "cell_type": "code",
   "execution_count": 7,
   "metadata": {},
   "outputs": [],
   "source": [
    "import matplotlib.pyplot as plt\n",
    "%matplotlib inline\n",
    "import pickle"
   ]
  },
  {
   "cell_type": "code",
   "execution_count": 8,
   "metadata": {},
   "outputs": [],
   "source": [
    "from collections import defaultdict"
   ]
  },
  {
   "cell_type": "code",
   "execution_count": 9,
   "metadata": {},
   "outputs": [],
   "source": [
    "#TP, TN, FP, FN\n",
    "#FP is when something should have been removed but was not\n",
    "#FN is when something should not have been removed but was"
   ]
  },
  {
   "cell_type": "code",
   "execution_count": 10,
   "metadata": {},
   "outputs": [],
   "source": [
    "p = 100"
   ]
  },
  {
   "cell_type": "code",
   "execution_count": 11,
   "metadata": {},
   "outputs": [],
   "source": [
    "omega = their_random_graph_2(p, d=0.01)"
   ]
  },
  {
   "cell_type": "code",
   "execution_count": 19,
   "metadata": {},
   "outputs": [],
   "source": [
    "### our random\n",
    "# p = 30\n",
    "#omega = random_graph(p, 0.1)\n",
    "#omega = omega + np.eye(p) * (abs(np.real(sorted(np.linalg.eigvals(omega))[0])) + 0.2)\n",
    "\n",
    "##grid graph\n",
    "# p = 25\n",
    "# omega = grid_graph(int(np.sqrt(p)))\n",
    "\n",
    "##star graph\n",
    "# p = 20\n",
    "# omega = star(d = 2, p = p)\n",
    "\n",
    "##their random\n",
    "p = 100\n",
    "omega = their_random_graph_2(p, d=0.05)\n",
    "sigma = np.linalg.inv(omega)\n",
    "#N = int(np.power(p, 1))\n",
    "N = 100\n",
    "X = np.random.multivariate_normal(mean = np.zeros(p), cov = np.linalg.inv(omega), size = N)"
   ]
  },
  {
   "cell_type": "code",
   "execution_count": 43,
   "metadata": {
    "scrolled": false
   },
   "outputs": [
    {
     "name": "stdout",
     "output_type": "stream",
     "text": [
      "Working on l = 0\n",
      "Working on l = 1\n",
      "Working on l = 2\n",
      "Working on l = 3\n",
      "Working on l = 4\n"
     ]
    }
   ],
   "source": [
    "our_graph = new_algo(X) #our_algo(X)"
   ]
  },
  {
   "cell_type": "code",
   "execution_count": 44,
   "metadata": {},
   "outputs": [
    {
     "name": "stdout",
     "output_type": "stream",
     "text": [
      "(31, 4867, 19, 33)\n",
      "0.5428310984818648\n"
     ]
    }
   ],
   "source": [
    "print(confusion(our_graph, omega))\n",
    "print(MCC(our_graph, omega))"
   ]
  },
  {
   "cell_type": "code",
   "execution_count": 30,
   "metadata": {},
   "outputs": [
    {
     "name": "stdout",
     "output_type": "stream",
     "text": [
      "(63, 2256, 2627, 4)\n",
      "0.09332774305190143\n"
     ]
    }
   ],
   "source": [
    "glasso = GraphicalLassoCV(alphas = 10, n_refinements = 10, cv=5)\n",
    "glasso.fit(np.cov(X.T))\n",
    "glassocv_prec = glasso.get_precision()\n",
    "print(confusion(glassocv_prec, omega))\n",
    "print(MCC(glassocv_prec, omega))"
   ]
  },
  {
   "cell_type": "code",
   "execution_count": 31,
   "metadata": {},
   "outputs": [
    {
     "name": "stdout",
     "output_type": "stream",
     "text": [
      "[0.003439959967501974, 0.0020622018222450893, 0.0012362575134149511, 0.0007411169086307199, 0.0004442879143691786, 0.00026634360727137283, 0.00015966879773232135, 0.00014548426180742858, 0.00013255984095988395, 0.00012078359003923882, 0.00011875769093273002, 0.00011676577216401725, 0.0001164072112074078, 0.00011604975130941527, 0.00011569338908894073, 0.00011533812117526779, 0.00011498394420803075, 0.00011480726378203376, 0.00011463085483718275, 0.0001146192009936857, 0.00011460754833496624, 0.00011459589686090382, 0.00011458424657137821, 0.00011457259746626888, 0.00011457153851544075, 0.00011457047957439998, 0.0001145694206431467, 0.00011456836172168073, 0.00011456730281000196, 0.00011456720654578916, 0.00011456711028165734, 0.0001145670140176063, 0.00011456691775363615, 0.000114566821489747, 0.00011456681273848831, 0.0001145668039872304, 0.00011456679523597305, 0.00011456678648471636, 0.00011456677773346045, 0.00011456677693789174, 0.00011456677614232303, 0.00011456677534675444, 0.00011456677455118574, 0.00011456677375561705, 0.0001145667733578327, 0.00011456677296004836, 0.00011456677216447967, 0.000114566771368911, 0.00011456677057334244, 0.00011456676977777376, 0.0001145667689822051, 0.00011456676023095054, 0.00011456675147969653, 0.00011456674272844319, 0.00011456673397719062, 0.00011456672522593862, 0.00011456662896221123, 0.00011456653269856462, 0.00011456643643499889, 0.00011456634017151415, 0.0001145662439081102, 0.00011456518501600558, 0.0001145641261336879, 0.00011456306726115705, 0.00011456200839841284, 0.00011456094954545542, 0.00011454930280881744, 0.00011453765725623452, 0.0001145260128875862, 0.00011451436970275235, 0.00011450272770161247, 0.00011443871784849606, 0.00011437474377846865, 0.00011431080547152662, 0.00011427884972296448, 0.00011424690290767738, 0.00011418303606693991, 0.00011411920492934398, 0.00011405540947493068, 0.00011399164968375219, 0.0001139279255358719, 0.00011357807895662526, 0.00011322930667613755, 0.00011288160539548322, 0.00011098824601249339, 0.00011005350879367613, 0.00010912664388296038, 0.00010729626634353658, 0.0001054965896652189, 0.00010372709890349312, 0.00010198728775099244, 0.00010027665839262621, 9.571892950788728e-05, 9.136835643507675e-05, 8.325144347112688e-05, 7.585561468374478e-05, 6.911681094207542e-05, 6.297666395189474e-05, 5.7381990697367355e-05, 3.4399599675019704e-05, 0]\n",
      "0.0001145667733578327\n"
     ]
    }
   ],
   "source": [
    "print(glasso.cv_alphas_)\n",
    "print(glasso.alpha_)"
   ]
  },
  {
   "cell_type": "code",
   "execution_count": 45,
   "metadata": {},
   "outputs": [
    {
     "name": "stdout",
     "output_type": "stream",
     "text": [
      "(61, 286, 4600, 3)\n",
      "0.00561773790229837\n",
      "(59, 1548, 3338, 5)\n",
      "0.058114304953952985\n",
      "(31, 4826, 60, 33)\n",
      "0.3970104958826239\n",
      "(0, 4886, 0, 64)\n",
      "0\n"
     ]
    }
   ],
   "source": [
    "for alpha in[0.001,0.01,0.1,1]:\n",
    "    glasso_prec = sklearn.covariance.graph_lasso(np.cov(X.T), alpha)[1]\n",
    "    print(confusion(glasso_prec, omega))\n",
    "    print(MCC(glasso_prec, omega))"
   ]
  },
  {
   "cell_type": "code",
   "execution_count": 46,
   "metadata": {},
   "outputs": [],
   "source": [
    "MTP2_prec = run_single_MTP(np.cov(X.T))"
   ]
  },
  {
   "cell_type": "code",
   "execution_count": 47,
   "metadata": {},
   "outputs": [
    {
     "name": "stdout",
     "output_type": "stream",
     "text": [
      "(50, 4315, 571, 14)\n",
      "0.22659340405979866\n",
      "(51, 4238, 648, 13)\n",
      "0.21548394133511842\n",
      "(51, 4199, 687, 13)\n",
      "0.2081499784679637\n",
      "(51, 4168, 718, 13)\n",
      "0.20268723253760706\n"
     ]
    }
   ],
   "source": [
    "for thres in [0.8, 0.9, 0.95, 0.99]:\n",
    "    MTP2_tuned_prec = attr_threshold(MTP2_prec, thres)\n",
    "    print(confusion(MTP2_tuned_prec, omega))\n",
    "    print(MCC(MTP2_tuned_prec, omega))"
   ]
  },
  {
   "cell_type": "code",
   "execution_count": 23,
   "metadata": {},
   "outputs": [],
   "source": [
    "def get_MCCs(omega, Ns):\n",
    "    p, _ = omega.shape\n",
    "    sigma = np.linalg.inv(omega)\n",
    "    N_to_res = {}\n",
    "    for N in Ns:\n",
    "        results = {'glasso': {}, 'MTP2': {}}\n",
    "        X = np.random.multivariate_normal(mean = np.zeros(p), cov = np.linalg.inv(omega), size = N)\n",
    "        our_graph = our_algo(X, 5)\n",
    "        results['our_algo'] = our_graph\n",
    "        for alpha in[0.001,0.01,0.1,1]:\n",
    "            try:\n",
    "                glasso_prec = sklearn.covariance.graph_lasso(np.cov(X.T), alpha)[1]\n",
    "                results['glasso'][alpha] = glasso_prec\n",
    "            except:\n",
    "                print('except', alpha, N)\n",
    "                results['glasso'][alpha] = None\n",
    "        MTP2_prec = run_single_MTP(np.cov(X.T))\n",
    "        for thres in [0.8, 0.9, 0.95, 0.99]:\n",
    "            MTP2_tuned_prec = attr_threshold(MTP2_prec, thres)\n",
    "            results['MTP2'][thres] = MTP2_tuned_prec\n",
    "        N_to_res[N] = results\n",
    "    return N_to_res"
   ]
  },
  {
   "cell_type": "code",
   "execution_count": 24,
   "metadata": {},
   "outputs": [],
   "source": [
    "def get_MCCs_star(ds, p, N):\n",
    "    ds_to_res = {}\n",
    "    for d in ds:\n",
    "        omega = star(d, p)\n",
    "        ds_to_res[d] = get_MCCs(omega, [N])[N]\n",
    "    return ds_to_res"
   ]
  },
  {
   "cell_type": "code",
   "execution_count": 28,
   "metadata": {},
   "outputs": [
    {
     "name": "stdout",
     "output_type": "stream",
     "text": [
      "Working on l = 3\n",
      "Working on l = 4\n",
      "Working on l = 5\n",
      "Working on l = 3\n",
      "Working on l = 4\n",
      "Working on l = 5\n",
      "Working on l = 3\n",
      "Working on l = 4\n",
      "Working on l = 5\n"
     ]
    }
   ],
   "source": [
    "p = 25\n",
    "#omega = star_graph(d=2, p)\n",
    "#res = get_MCCs(omega, [25, 50, 100, 625, 1025])\n",
    "star_res = get_MCCs_star([2, 5, 7], p, 1000)"
   ]
  },
  {
   "cell_type": "code",
   "execution_count": 29,
   "metadata": {},
   "outputs": [],
   "source": [
    "def plot_curves_star(star_res, p, N):\n",
    "    ds = star_res.keys()\n",
    "    method_to_list = defaultdict(list)\n",
    "    for d, results in star_res.items():\n",
    "        for method, res in results.items():\n",
    "            if type(res) == dict:\n",
    "                sub_MCCs = []\n",
    "                for par, prec in res.items():\n",
    "                    if prec is not None:\n",
    "                        sub_MCCs.append(MCC(prec, omega))\n",
    "                if len(sub_MCCs) == 0:\n",
    "                    method_to_list[method].append(0)\n",
    "                else:\n",
    "                    method_to_list[method].append(max(sub_MCCs))\n",
    "            else:\n",
    "                method_to_list[method].append(MCC(res, omega))\n",
    "    print(method_to_list)\n",
    "    for method, l in method_to_list.items():\n",
    "        plt.plot(list(ds), l, label = method)\n",
    "    plt.xlabel(\"d\")\n",
    "    plt.ylabel(\"MCC\")\n",
    "    title = \"Star graph, p = {}, N = {}\".format(p, N)\n",
    "    plt.title(title)\n",
    "    plt.legend()\n",
    "    plt.show()"
   ]
  },
  {
   "cell_type": "code",
   "execution_count": 30,
   "metadata": {},
   "outputs": [
    {
     "ename": "IndexError",
     "evalue": "index 25 is out of bounds for axis 1 with size 25",
     "output_type": "error",
     "traceback": [
      "\u001b[0;31m---------------------------------------------------------------------------\u001b[0m",
      "\u001b[0;31mIndexError\u001b[0m                                Traceback (most recent call last)",
      "\u001b[0;32m<ipython-input-30-d904f9573a7a>\u001b[0m in \u001b[0;36m<module>\u001b[0;34m()\u001b[0m\n\u001b[0;32m----> 1\u001b[0;31m \u001b[0mplot_curves_star\u001b[0m\u001b[0;34m(\u001b[0m\u001b[0mstar_res\u001b[0m\u001b[0;34m,\u001b[0m \u001b[0;36m25\u001b[0m\u001b[0;34m,\u001b[0m \u001b[0;36m1000\u001b[0m\u001b[0;34m)\u001b[0m\u001b[0;34m\u001b[0m\u001b[0m\n\u001b[0m",
      "\u001b[0;32m<ipython-input-29-947ba5a93d8e>\u001b[0m in \u001b[0;36mplot_curves_star\u001b[0;34m(star_res, p, N)\u001b[0m\n\u001b[1;32m      8\u001b[0m                 \u001b[0;32mfor\u001b[0m \u001b[0mpar\u001b[0m\u001b[0;34m,\u001b[0m \u001b[0mprec\u001b[0m \u001b[0;32min\u001b[0m \u001b[0mres\u001b[0m\u001b[0;34m.\u001b[0m\u001b[0mitems\u001b[0m\u001b[0;34m(\u001b[0m\u001b[0;34m)\u001b[0m\u001b[0;34m:\u001b[0m\u001b[0;34m\u001b[0m\u001b[0m\n\u001b[1;32m      9\u001b[0m                     \u001b[0;32mif\u001b[0m \u001b[0mprec\u001b[0m \u001b[0;32mis\u001b[0m \u001b[0;32mnot\u001b[0m \u001b[0;32mNone\u001b[0m\u001b[0;34m:\u001b[0m\u001b[0;34m\u001b[0m\u001b[0m\n\u001b[0;32m---> 10\u001b[0;31m                         \u001b[0msub_MCCs\u001b[0m\u001b[0;34m.\u001b[0m\u001b[0mappend\u001b[0m\u001b[0;34m(\u001b[0m\u001b[0mMCC\u001b[0m\u001b[0;34m(\u001b[0m\u001b[0mprec\u001b[0m\u001b[0;34m,\u001b[0m \u001b[0momega\u001b[0m\u001b[0;34m)\u001b[0m\u001b[0;34m)\u001b[0m\u001b[0;34m\u001b[0m\u001b[0m\n\u001b[0m\u001b[1;32m     11\u001b[0m                 \u001b[0;32mif\u001b[0m \u001b[0mlen\u001b[0m\u001b[0;34m(\u001b[0m\u001b[0msub_MCCs\u001b[0m\u001b[0;34m)\u001b[0m \u001b[0;34m==\u001b[0m \u001b[0;36m0\u001b[0m\u001b[0;34m:\u001b[0m\u001b[0;34m\u001b[0m\u001b[0m\n\u001b[1;32m     12\u001b[0m                     \u001b[0mmethod_to_list\u001b[0m\u001b[0;34m[\u001b[0m\u001b[0mmethod\u001b[0m\u001b[0;34m]\u001b[0m\u001b[0;34m.\u001b[0m\u001b[0mappend\u001b[0m\u001b[0;34m(\u001b[0m\u001b[0;36m0\u001b[0m\u001b[0;34m)\u001b[0m\u001b[0;34m\u001b[0m\u001b[0m\n",
      "\u001b[0;32m~/Documents/meng/MTP2-algorithm/paper_sims_util.py\u001b[0m in \u001b[0;36mMCC\u001b[0;34m(hypothesis_graph, omega)\u001b[0m\n\u001b[1;32m     30\u001b[0m \u001b[0;34m\u001b[0m\u001b[0m\n\u001b[1;32m     31\u001b[0m \u001b[0;32mdef\u001b[0m \u001b[0mMCC\u001b[0m\u001b[0;34m(\u001b[0m\u001b[0mhypothesis_graph\u001b[0m\u001b[0;34m,\u001b[0m \u001b[0momega\u001b[0m\u001b[0;34m)\u001b[0m\u001b[0;34m:\u001b[0m\u001b[0;34m\u001b[0m\u001b[0m\n\u001b[0;32m---> 32\u001b[0;31m         \u001b[0mTP\u001b[0m\u001b[0;34m,\u001b[0m \u001b[0mTN\u001b[0m\u001b[0;34m,\u001b[0m \u001b[0mFP\u001b[0m\u001b[0;34m,\u001b[0m \u001b[0mFN\u001b[0m \u001b[0;34m=\u001b[0m \u001b[0mconfusion\u001b[0m\u001b[0;34m(\u001b[0m\u001b[0mhypothesis_graph\u001b[0m\u001b[0;34m,\u001b[0m \u001b[0momega\u001b[0m\u001b[0;34m)\u001b[0m\u001b[0;34m\u001b[0m\u001b[0m\n\u001b[0m\u001b[1;32m     33\u001b[0m         \u001b[0mnum\u001b[0m \u001b[0;34m=\u001b[0m \u001b[0mTP\u001b[0m \u001b[0;34m*\u001b[0m \u001b[0mTN\u001b[0m \u001b[0;34m-\u001b[0m \u001b[0mFP\u001b[0m \u001b[0;34m*\u001b[0m \u001b[0mFN\u001b[0m\u001b[0;34m\u001b[0m\u001b[0m\n\u001b[1;32m     34\u001b[0m         \u001b[0mdenom\u001b[0m \u001b[0;34m=\u001b[0m \u001b[0;34m(\u001b[0m\u001b[0mTP\u001b[0m \u001b[0;34m+\u001b[0m \u001b[0mFP\u001b[0m\u001b[0;34m)\u001b[0m \u001b[0;34m*\u001b[0m \u001b[0;34m(\u001b[0m\u001b[0mTP\u001b[0m \u001b[0;34m+\u001b[0m \u001b[0mFN\u001b[0m\u001b[0;34m)\u001b[0m \u001b[0;34m*\u001b[0m \u001b[0;34m(\u001b[0m\u001b[0mTN\u001b[0m \u001b[0;34m+\u001b[0m \u001b[0mFP\u001b[0m\u001b[0;34m)\u001b[0m \u001b[0;34m*\u001b[0m \u001b[0;34m(\u001b[0m\u001b[0mTN\u001b[0m \u001b[0;34m+\u001b[0m \u001b[0mFN\u001b[0m\u001b[0;34m)\u001b[0m\u001b[0;34m\u001b[0m\u001b[0m\n",
      "\u001b[0;32m~/Documents/meng/MTP2-algorithm/paper_sims_util.py\u001b[0m in \u001b[0;36mconfusion\u001b[0;34m(hypothesis_graph, omega)\u001b[0m\n\u001b[1;32m     15\u001b[0m                         \u001b[0;31m#true positive\u001b[0m\u001b[0;34m\u001b[0m\u001b[0;34m\u001b[0m\u001b[0m\n\u001b[1;32m     16\u001b[0m                         \u001b[0mo\u001b[0m \u001b[0;34m=\u001b[0m \u001b[0momega\u001b[0m\u001b[0;34m[\u001b[0m\u001b[0mi\u001b[0m\u001b[0;34m,\u001b[0m\u001b[0mj\u001b[0m\u001b[0;34m]\u001b[0m\u001b[0;34m\u001b[0m\u001b[0m\n\u001b[0;32m---> 17\u001b[0;31m                         \u001b[0mh\u001b[0m \u001b[0;34m=\u001b[0m \u001b[0mhypothesis_graph\u001b[0m\u001b[0;34m[\u001b[0m\u001b[0mi\u001b[0m\u001b[0;34m,\u001b[0m \u001b[0mj\u001b[0m\u001b[0;34m]\u001b[0m\u001b[0;34m\u001b[0m\u001b[0m\n\u001b[0m\u001b[1;32m     18\u001b[0m                         \u001b[0mh_is_0\u001b[0m \u001b[0;34m=\u001b[0m \u001b[0mnp\u001b[0m\u001b[0;34m.\u001b[0m\u001b[0misclose\u001b[0m\u001b[0;34m(\u001b[0m\u001b[0mh\u001b[0m\u001b[0;34m,\u001b[0m \u001b[0;36m0\u001b[0m\u001b[0;34m,\u001b[0m \u001b[0matol\u001b[0m \u001b[0;34m=\u001b[0m \u001b[0;36m1e-6\u001b[0m\u001b[0;34m)\u001b[0m\u001b[0;34m\u001b[0m\u001b[0m\n\u001b[1;32m     19\u001b[0m                         \u001b[0;32mif\u001b[0m \u001b[0mo\u001b[0m \u001b[0;34m<\u001b[0m \u001b[0;36m0\u001b[0m \u001b[0;32mand\u001b[0m \u001b[0;32mnot\u001b[0m \u001b[0mh_is_0\u001b[0m\u001b[0;34m:\u001b[0m\u001b[0;34m\u001b[0m\u001b[0m\n",
      "\u001b[0;31mIndexError\u001b[0m: index 25 is out of bounds for axis 1 with size 25"
     ]
    }
   ],
   "source": [
    "plot_curves_star(star_res, 25, 1000)"
   ]
  },
  {
   "cell_type": "code",
   "execution_count": null,
   "metadata": {},
   "outputs": [],
   "source": [
    "def plot_curves(N_to_res, omega, title):\n",
    "    Ns = N_to_res.keys()\n",
    "    method_to_list = defaultdict(list)\n",
    "    for N, results in N_to_res.items():\n",
    "        for method, res in results.items():\n",
    "            if type(res) == dict:\n",
    "                sub_MCCs = []\n",
    "                for par, prec in res.items():\n",
    "                    if prec is not None:\n",
    "                        sub_MCCs.append(MCC(prec, omega))\n",
    "                if len(sub_MCCs) == 0:\n",
    "                    method_to_list[method].append(0)\n",
    "                else:\n",
    "                    method_to_list[method].append(max(sub_MCCs))\n",
    "            else:\n",
    "                method_to_list[method].append(MCC(res, omega))\n",
    "    print(method_to_list)\n",
    "    for method, l in method_to_list.items():\n",
    "        plt.plot(list(Ns), l, label = method)\n",
    "    plt.xlabel(\"N\")\n",
    "    plt.ylabel(\"MCC\")\n",
    "    plt.title(title)\n",
    "    plt.legend()\n",
    "    plt.show()"
   ]
  },
  {
   "cell_type": "code",
   "execution_count": null,
   "metadata": {},
   "outputs": [],
   "source": [
    "plot_curves(res, omega, 'Random graph, p = {}, density = 0.05'.format(p))"
   ]
  },
  {
   "cell_type": "code",
   "execution_count": 93,
   "metadata": {},
   "outputs": [],
   "source": [
    "obj = (res, omega)"
   ]
  },
  {
   "cell_type": "code",
   "execution_count": 111,
   "metadata": {},
   "outputs": [],
   "source": [
    "pickle.dump(star_res, open('star_p_25_N_1000.pkl', 'wb'))"
   ]
  },
  {
   "cell_type": "code",
   "execution_count": 97,
   "metadata": {},
   "outputs": [],
   "source": [
    "res, omega = pickle.load(open('grid_graph_p_25.pkl', 'rb'))"
   ]
  },
  {
   "cell_type": "code",
   "execution_count": 98,
   "metadata": {},
   "outputs": [
    {
     "name": "stdout",
     "output_type": "stream",
     "text": [
      "defaultdict(<class 'list'>, {'glasso': [0.3716279616832767, 0.4606070005253964, 0.5505657271882287, 0.5851766927916734, 0.5424476379158709], 'MTP2': [0.6574527610297628, 0.6864064729836441, 0.7531983087525438, 0.7844645405527361, 0.7314487142543801], 'our_algo': [0, 0, 0.14744195615489714, 0.9855274566525744, 1.0]})\n"
     ]
    },
    {
     "data": {
      "image/png": "[encoded data removed]",
      "text/plain": [
       "<Figure size 432x288 with 1 Axes>"
      ]
     },
     "metadata": {},
     "output_type": "display_data"
    }
   ],
   "source": [
    "plot_curves(res, omega, 'Grid graph, p = {}'.format(p))"
   ]
  }
 ],
 "metadata": {
  "kernelspec": {
   "display_name": "Python 3",
   "language": "python",
   "name": "python3"
  },
  "language_info": {
   "codemirror_mode": {
    "name": "ipython",
    "version": 3
   },
   "file_extension": ".py",
   "mimetype": "text/x-python",
   "name": "python",
   "nbconvert_exporter": "python",
   "pygments_lexer": "ipython3",
   "version": "3.6.5"
  }
 },
 "nbformat": 4,
 "nbformat_minor": 2
}
