{
 "cells": [
  {
   "cell_type": "code",
   "execution_count": 13,
   "metadata": {},
   "outputs": [
    {
     "name": "stdout",
     "output_type": "stream",
     "text": [
      "The autoreload extension is already loaded. To reload it, use:\n",
      "  %reload_ext autoreload\n"
     ]
    }
   ],
   "source": [
    "%load_ext autoreload\n",
    "%autoreload 2\n",
    "from final_algo import partial_cov, get_edges, adj, remove_adj_i\n",
    "import numpy as np\n",
    "import itertools\n",
    "from paper_sims_util import their_random_graph_2, MCC, confusion, grid_graph\n",
    "import math"
   ]
  },
  {
   "cell_type": "code",
   "execution_count": 2,
   "metadata": {},
   "outputs": [],
   "source": [
    "import matplotlib.pyplot as plt"
   ]
  },
  {
   "cell_type": "code",
   "execution_count": 120,
   "metadata": {},
   "outputs": [],
   "source": [
    "p = 100\n",
    "omega = their_random_graph_2(p, 0.05)#grid_graph(10)\n",
    "sigma = np.linalg.inv(omega)\n",
    "N = 10000\n",
    "X = np.random.multivariate_normal(mean = np.zeros(p), cov = np.linalg.inv(omega), size = N)"
   ]
  },
  {
   "cell_type": "code",
   "execution_count": 121,
   "metadata": {},
   "outputs": [],
   "source": [
    "N, p = X.shape\n",
    "K = math.ceil(6 * np.log2(p))\n",
    "batches = np.array_split(X, K)"
   ]
  },
  {
   "cell_type": "code",
   "execution_count": 122,
   "metadata": {},
   "outputs": [
    {
     "name": "stdout",
     "output_type": "stream",
     "text": [
      "Working on l = 0\n",
      "Working on l = 1\n",
      "Working on l = 2\n",
      "Working on l = 3\n",
      "Working on l = 4\n"
     ]
    }
   ],
   "source": [
    "l = -1\n",
    "hypothesis_graph = np.ones((p,p))\n",
    "\n",
    "valid_edge_exists = True\n",
    "\n",
    "while valid_edge_exists:\n",
    "    valid_edge_exists = False\n",
    "    l = l+1\n",
    "    print(\"Working on l = {}\".format(l))\n",
    "    for edge in get_edges(hypothesis_graph):\n",
    "        i, j = edge\n",
    "        #print('edge', i, j)\n",
    "        adj_i = adj(hypothesis_graph, i)\n",
    "        if len(adj_i) >= l+1:\n",
    "            adj_i.remove(j)\n",
    "            valid_edge_exists = True\n",
    "        else:\n",
    "            continue #to next iteration\n",
    "        \n",
    "        #print('after if-else')\n",
    "        stop = False\n",
    "        combos = list(itertools.combinations(adj_i, l))\n",
    "        rhos = []\n",
    "        for S in combos:\n",
    "            S = list(S)\n",
    "            all_K = remove_adj_i(p, S, i, j)\n",
    "            for k in all_K:\n",
    "                if not stop:\n",
    "                    subset = sorted(S + [k] + [i] + [j])\n",
    "                    d = np.random.randint(K)\n",
    "                    data = batches[d]\n",
    "                    sample_cov = np.cov(data.T)\n",
    "                    rho = partial_cov(sample_cov, subset, i, j)\n",
    "                    rhos.append(rho)\n",
    "                    if rho < 0:\n",
    "                        #print(\"deleted\", i, j)\n",
    "                        if omega[i,j] != 0:\n",
    "                            pass\n",
    "                            #print(\"BAD\")\n",
    "                            #print(rhos)\n",
    "                        hypothesis_graph[i,j] = 0\n",
    "                        hypothesis_graph[j, i] = 0\n",
    "                        stop = True"
   ]
  },
  {
   "cell_type": "code",
   "execution_count": 123,
   "metadata": {},
   "outputs": [
    {
     "data": {
      "text/plain": [
       "(48, 4888, 0, 14)"
      ]
     },
     "execution_count": 123,
     "metadata": {},
     "output_type": "execute_result"
    }
   ],
   "source": [
    "confusion(hypothesis_graph, omega)"
   ]
  },
  {
   "cell_type": "code",
   "execution_count": 104,
   "metadata": {},
   "outputs": [
    {
     "data": {
      "text/plain": [
       "0.8914933596431405"
      ]
     },
     "execution_count": 104,
     "metadata": {},
     "output_type": "execute_result"
    }
   ],
   "source": [
    "MCC(hypothesis_graph, omega)"
   ]
  },
  {
   "cell_type": "code",
   "execution_count": null,
   "metadata": {},
   "outputs": [],
   "source": [
    "TP, TN, FP, FN"
   ]
  }
 ],
 "metadata": {
  "kernelspec": {
   "display_name": "Python 3",
   "language": "python",
   "name": "python3"
  },
  "language_info": {
   "codemirror_mode": {
    "name": "ipython",
    "version": 3
   },
   "file_extension": ".py",
   "mimetype": "text/x-python",
   "name": "python",
   "nbconvert_exporter": "python",
   "pygments_lexer": "ipython3",
   "version": "3.6.5"
  }
 },
 "nbformat": 4,
 "nbformat_minor": 2
}
