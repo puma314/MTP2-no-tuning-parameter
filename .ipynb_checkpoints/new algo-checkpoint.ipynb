{
 "cells": [
  {
   "cell_type": "code",
   "execution_count": 8,
   "metadata": {},
   "outputs": [],
   "source": [
    "from final_algo import partial_corr, partial_cov, get_batch, get_edges\n",
    "import numpy as np\n",
    "import itertools\n",
    "from paper_sims_util import their_random_graph_2, MCC, confusion"
   ]
  },
  {
   "cell_type": "code",
   "execution_count": 20,
   "metadata": {},
   "outputs": [],
   "source": [
    "import matplotlib.pyplot as plt"
   ]
  },
  {
   "cell_type": "code",
   "execution_count": 4,
   "metadata": {},
   "outputs": [],
   "source": [
    "p = 25\n",
    "omega = their_random_graph_2(p, d=0.05)\n",
    "sigma = np.linalg.inv(omega)\n",
    "N = 50\n",
    "X = np.random.multivariate_normal(mean = np.zeros(p), cov = np.linalg.inv(omega), size = N)"
   ]
  },
  {
   "cell_type": "code",
   "execution_count": 14,
   "metadata": {},
   "outputs": [
    {
     "name": "stdout",
     "output_type": "stream",
     "text": [
      "Working on l = 3\n",
      "0 9 -0.48736533743600546\n",
      "[(0.2963948470786346, 0.4150180870094234), (0.2963948470786346, 0.21231533460421873), (0.2963948470786346, 0.31000560085057444), (0.2963948470786346, 0.1682412631298641), (0.2963948470786346, -0.03778703830083699)]\n",
      "4 20 -0.3575702559020905\n",
      "[(0.5788185557299416, 0.6993764646675462), (0.5788185557299416, 0.6725102185738314), (0.5788185557299416, 0.6631444619814107), (0.5788185557299416, 0.7069178112766566), (0.5788185557299416, 0.726445957467842), (0.5788185557299416, 0.6407010687135385), (0.5788185557299416, 0.6705155709932065), (0.5788185557299416, 0.6198588099643301), (0.5788185557299416, 0.5659693252155388), (0.5788185557299416, 0.6152070643122964), (0.5622095160713408, 0.4176377919118176), (0.5788185557299416, 0.6413916824662749), (0.283811205064144, 0.23441359519849797), (0.5788185557299416, 0.6582837857972118), (0.5788185557299416, 0.6233875188031922), (0.5788185557299416, 0.6275137174509574), (0.5788185557299416, 0.5836726170375415), (0.5788185557299416, 0.5257401040576233), (0.2921431086537168, -0.02330298324987028)]\n",
      "7 17 -0.2942354500313015\n",
      "[(0.1789414726864775, -0.12405778606616909)]\n",
      "Working on l = 4\n",
      "Working on l = 5\n",
      "11 19 -0.23540034731936538\n",
      "[(0.3186037612134396, 0.45825373878484454), (0.3186037612134396, 0.23043947641850504), (0.14316046831119214, 0.25056491514409956), (0.3186037612134396, 0.32882325468142515), (0.3186037612134396, 0.39051679142832574), (0.3186037612134396, 0.41919660203807674), (0.3186037612134396, 0.3032241181651863), (0.3186037612134396, 0.305758611815133), (0.3186037612134396, 0.39741627698069015), (0.3186037612134396, 0.3695605005837288), (0.18871812569071983, 0.14161679022413318), (0.3186037612134396, 0.5026279164027047), (0.3186037612134396, 0.4353230368683547), (0.3186037612134396, 0.3528424042116048), (0.3186037612134396, 0.347433207233716), (0.3186037612134396, 0.4811483275152968), (0.27550257125929295, 0.28689891842457926), (0.3186037612134396, 0.538093865731323), (0.3186037612134396, 0.504392278456263), (0.3186037612134396, 0.4123463008224124), (0.3186037612134396, 0.43952807956544276), (0.3186037612134396, 0.4686590225886862), (0.14316046831119214, 0.12354070808794926), (0.3186037612134396, 0.4240409484867783), (0.3186037612134396, 0.31562911468593313), (0.3186037612134396, 0.5116003081079535), (0.3186037612134396, 0.36278127986320624), (0.3186037612134396, 0.3949825548016287), (0.3186037612134396, 0.31989102233244754), (0.3186037612134396, 0.2260509618618288), (0.18871812569071983, 0.3556477447744831), (0.3186037612134396, 0.6191116215128204), (0.3186037612134396, 0.40085880249371936), (0.3186037612134396, 0.4756636197568909), (0.3186037612134396, 0.49192420411680976), (0.3186037612134396, 0.3518526825628417), (0.27550257125929295, 0.2722783963715812), (0.3186037612134396, 0.5043641009499642), (0.3186037612134396, 0.5590434260143192), (0.3186037612134396, 0.30844021645255537), (0.3186037612134396, 0.4274400033354326), (0.14316046831119214, 0.34484744301450426), (0.3186037612134396, 0.37915652208797457), (0.3186037612134396, 0.4924917148107396), (0.3186037612134396, 0.3141649817331748), (0.3186037612134396, 0.46810767556239136), (0.3186037612134396, 0.33781534199179325), (0.3186037612134396, 0.3886133902232768), (0.3186037612134396, 0.3613509182730878), (0.18871812569071983, 0.13831272408136183), (0.3186037612134396, 0.40538229867768055), (0.3186037612134396, 0.5103087120212924), (0.3186037612134396, 0.4011694928213524), (0.3186037612134396, 0.5323435289440877), (0.3186037612134396, 0.29660177577535335), (0.27550257125929295, 0.265928754600093), (0.3186037612134396, 0.2982862245490811), (0.3186037612134396, 0.32469389932653336), (0.3186037612134396, 0.4425839656451897), (0.3186037612134396, 0.3871689905481329), (0.14316046831119214, 0.15883339919204156), (0.14316046831119214, 0.2060489971008646), (0.14316046831119214, 0.260934091952212), (0.14316046831119214, 0.27533006654504755), (0.14316046831119214, -0.008745504734486698)]\n"
     ]
    }
   ],
   "source": [
    "early_stop = 5\n",
    "verbose = False\n",
    "N, p = X.shape\n",
    "M = int(np.power(N, 0.9))\n",
    "if not early_stop:\n",
    "    early_stop = p\n",
    "\n",
    "l = 2\n",
    "edge_deleted = True\n",
    "hypothesis_graph = np.ones((p,p))\n",
    "\n",
    "while edge_deleted and l < early_stop:\n",
    "    l = l+1\n",
    "    print(\"Working on l = {}\".format(l))\n",
    "    all_subsets = list(itertools.combinations(range(p), l))\n",
    "    edge_deleted = False\n",
    "    for edge in get_edges(hypothesis_graph):\n",
    "        i, j = edge\n",
    "        rhos= []\n",
    "        trues = []\n",
    "        for s in all_subsets:\n",
    "            if i not in s or j not in s:\n",
    "                continue\n",
    "            s = list(s)\n",
    "            batch = get_batch(X, M)\n",
    "            sample_cov = np.cov(batch.T)\n",
    "\n",
    "            true = partial_corr(sigma, s, i, j)\n",
    "            rho = partial_corr(sample_cov, s, i, j)\n",
    "            rhos.append(rho)\n",
    "            trues.append(true)\n",
    "            if rho < 0:\n",
    "                #print('Deleted {} {}'.format(i, j))\n",
    "                if omega[i, j] < 0:\n",
    "                    print(i, j, omega[i,j])\n",
    "                    print(list(zip(trues, rhos)))\n",
    "                    #print(rhos)\n",
    "                edge_deleted = True\n",
    "                hypothesis_graph[i, j] = 0\n",
    "                hypothesis_graph[j, i] = 0\n",
    "                break\n",
    "        #assert len(rhos) > 0, (len(rhos), i, j)\n",
    "        # if omega[i, j] == 0 and min(rhos) > 0:\n",
    "        #     if verbose:\n",
    "        #         print(\"False positive\")\n",
    "            #print(trues)\n",
    "            #print(rhos)"
   ]
  },
  {
   "cell_type": "code",
   "execution_count": 9,
   "metadata": {},
   "outputs": [
    {
     "data": {
      "text/plain": [
       "(4, 291, 0, 5)"
      ]
     },
     "execution_count": 9,
     "metadata": {},
     "output_type": "execute_result"
    }
   ],
   "source": [
    "confusion(hypothesis_graph, omega)"
   ]
  },
  {
   "cell_type": "code",
   "execution_count": 94,
   "metadata": {},
   "outputs": [
    {
     "name": "stdout",
     "output_type": "stream",
     "text": [
      "[[1.0989011  0.32967033]\n",
      " [0.32967033 1.0989011 ]]\n",
      "-0.3\n"
     ]
    }
   ],
   "source": [
    "#generate random cobvariance with diagonal 1\n",
    "#size is 5\n",
    "p = 2\n",
    "N = 50\n",
    "# omega = their_random_graph_2(2, 2)\n",
    "# sigma = np.linalg.inv(omega)\n",
    "# M = np.max(np.diag(omega))\n",
    "# print(\"M\", M)\n",
    "\n",
    "omega = np.array([[1, -0.3],[-0.3, 1]])\n",
    "sigma = np.linalg.inv(omega)\n",
    "print(sigma)\n",
    "i = 0\n",
    "j = 1\n",
    "rho_ij = omega[i,j] / np.sqrt(omega[i,i] * omega[j,j])\n",
    "print(rho_ij)"
   ]
  },
  {
   "cell_type": "code",
   "execution_count": 95,
   "metadata": {},
   "outputs": [],
   "source": [
    "diffs = []\n",
    "for t in range(10000):\n",
    "    X = np.random.multivariate_normal(np.zeros(p), sigma, N)\n",
    "    hatsigma = np.cov(X.T)\n",
    "    hatomega = np.linalg.inv(hatsigma)\n",
    "    hatrho_ij = hatomega[i,j] / np.sqrt(hatomega[i,i] * hatomega[j,j])\n",
    "    diff = hatrho_ij - rho_ij\n",
    "    diffs.append(diff)"
   ]
  },
  {
   "cell_type": "code",
   "execution_count": 96,
   "metadata": {},
   "outputs": [
    {
     "data": {
      "text/plain": [
       "(array([4.300e+01, 5.170e+02, 1.954e+03, 3.151e+03, 2.616e+03, 1.265e+03,\n",
       "        3.620e+02, 8.400e+01, 7.000e+00, 1.000e+00]),\n",
       " array([-0.41181414, -0.30382318, -0.19583223, -0.08784128,  0.02014968,\n",
       "         0.12814063,  0.23613158,  0.34412254,  0.45211349,  0.56010444,\n",
       "         0.6680954 ]),\n",
       " <a list of 10 Patch objects>)"
      ]
     },
     "execution_count": 96,
     "metadata": {},
     "output_type": "execute_result"
    },
    {
     "data": {
      "image/png": "[encoded data removed]",
      "text/plain": [
       "<Figure size 432x288 with 1 Axes>"
      ]
     },
     "metadata": {},
     "output_type": "display_data"
    }
   ],
   "source": [
    "plt.hist(diffs)"
   ]
  },
  {
   "cell_type": "code",
   "execution_count": 97,
   "metadata": {},
   "outputs": [],
   "source": [
    "eps = abs(rho_ij)"
   ]
  },
  {
   "cell_type": "code",
   "execution_count": 98,
   "metadata": {},
   "outputs": [
    {
     "data": {
      "text/plain": [
       "0.0186"
      ]
     },
     "execution_count": 98,
     "metadata": {},
     "output_type": "execute_result"
    }
   ],
   "source": [
    "sum(diffs >= eps) / len(diffs)"
   ]
  },
  {
   "cell_type": "code",
   "execution_count": 43,
   "metadata": {},
   "outputs": [
    {
     "data": {
      "text/plain": [
       "7.847446445932518e-46"
      ]
     },
     "execution_count": 43,
     "metadata": {},
     "output_type": "execute_result"
    }
   ],
   "source": [
    "(1-0.0069)**15000"
   ]
  },
  {
   "cell_type": "code",
   "execution_count": 44,
   "metadata": {},
   "outputs": [
    {
     "data": {
      "text/plain": [
       "9.615805480084347"
      ]
     },
     "execution_count": 44,
     "metadata": {},
     "output_type": "execute_result"
    }
   ],
   "source": [
    "np.log(15000)"
   ]
  },
  {
   "cell_type": "code",
   "execution_count": 68,
   "metadata": {},
   "outputs": [
    {
     "data": {
      "text/plain": [
       "0.9851119322142933"
      ]
     },
     "execution_count": 68,
     "metadata": {},
     "output_type": "execute_result"
    }
   ],
   "source": [
    "(1-0.000001)**15000"
   ]
  },
  {
   "cell_type": "code",
   "execution_count": 38,
   "metadata": {},
   "outputs": [
    {
     "data": {
      "text/plain": [
       "1.0"
      ]
     },
     "execution_count": 38,
     "metadata": {},
     "output_type": "execute_result"
    }
   ],
   "source": [
    "1 - (1-0.0069)**(15000) #15000 < 20 choose 5"
   ]
  },
  {
   "cell_type": "code",
   "execution_count": 29,
   "metadata": {},
   "outputs": [
    {
     "name": "stdout",
     "output_type": "stream",
     "text": [
      "23.997512144334134\n"
     ]
    }
   ],
   "source": [
    "print(24 * np.exp(- (N * M * eps**2) / 204800))"
   ]
  },
  {
   "cell_type": "code",
   "execution_count": null,
   "metadata": {},
   "outputs": [],
   "source": []
  }
 ],
 "metadata": {
  "kernelspec": {
   "display_name": "Python 3",
   "language": "python",
   "name": "python3"
  },
  "language_info": {
   "codemirror_mode": {
    "name": "ipython",
    "version": 3
   },
   "file_extension": ".py",
   "mimetype": "text/x-python",
   "name": "python",
   "nbconvert_exporter": "python",
   "pygments_lexer": "ipython3",
   "version": "3.6.5"
  }
 },
 "nbformat": 4,
 "nbformat_minor": 2
}
