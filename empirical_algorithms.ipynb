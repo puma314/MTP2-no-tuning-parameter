{
 "cells": [
  {
   "cell_type": "code",
   "execution_count": 6,
   "metadata": {},
   "outputs": [
    {
     "name": "stdout",
     "output_type": "stream",
     "text": [
      "The autoreload extension is already loaded. To reload it, use:\n",
      "  %reload_ext autoreload\n"
     ]
    }
   ],
   "source": [
    "%load_ext autoreload\n",
    "%autoreload 2\n",
    "import numpy as np\n",
    "import networkx as nx\n",
    "import matplotlib.pyplot as plt\n",
    "%matplotlib inline\n",
    "import itertools\n",
    "from scipy import stats\n",
    "import Util\n",
    "import algo_util"
   ]
  },
  {
   "cell_type": "code",
   "execution_count": 2,
   "metadata": {},
   "outputs": [
    {
     "name": "stdout",
     "output_type": "stream",
     "text": [
      "Took 1 tries\n"
     ]
    },
    {
     "data": {
      "image/png": "[encoded data removed]",
      "text/plain": [
       "<Figure size 576x432 with 1 Axes>"
      ]
     },
     "metadata": {},
     "output_type": "display_data"
    }
   ],
   "source": [
    "p = 15\n",
    "adj = algo_util.generate_connected_mat(p, output = True)"
   ]
  },
  {
   "cell_type": "code",
   "execution_count": 12,
   "metadata": {},
   "outputs": [
    {
     "name": "stdout",
     "output_type": "stream",
     "text": [
      "[5.95848151 4.25516763 3.57546557 3.39794837 3.21430548 3.32059584\n",
      " 2.60246066 2.09055213 1.90009123 0.55815083 1.39039091 1.34852859\n",
      " 1.1273698  0.94553068 0.87497877]\n"
     ]
    }
   ],
   "source": [
    "cov = algo_util.adj_to_cov(adj)\n",
    "prec = np.linalg.inv(cov)\n",
    "print(np.linalg.eigvals(prec))"
   ]
  },
  {
   "cell_type": "code",
   "execution_count": 15,
   "metadata": {},
   "outputs": [],
   "source": [
    "N = 100000"
   ]
  },
  {
   "cell_type": "code",
   "execution_count": 16,
   "metadata": {},
   "outputs": [],
   "source": [
    "sample = np.random.multivariate_normal(np.zeros(p), cov, size = N)"
   ]
  },
  {
   "cell_type": "code",
   "execution_count": 75,
   "metadata": {},
   "outputs": [],
   "source": [
    "#batches = np.array_split(sample, int(np.sqrt(N)))\n",
    "batches = np.array_split(sample, int(np.log(N)))"
   ]
  },
  {
   "cell_type": "code",
   "execution_count": 77,
   "metadata": {},
   "outputs": [
    {
     "name": "stdout",
     "output_type": "stream",
     "text": [
      "316.22776601683796 (9091, 15)\n",
      "11\n"
     ]
    }
   ],
   "source": [
    "print(np.sqrt(N), batches[0].shape)\n",
    "print(len(batches))"
   ]
  },
  {
   "cell_type": "code",
   "execution_count": 78,
   "metadata": {},
   "outputs": [
    {
     "name": "stdout",
     "output_type": "stream",
     "text": [
      "5\n"
     ]
    }
   ],
   "source": [
    "print(Util.get_S(adj))"
   ]
  },
  {
   "cell_type": "code",
   "execution_count": 81,
   "metadata": {},
   "outputs": [
    {
     "name": "stdout",
     "output_type": "stream",
     "text": [
      "Removed 0 1\n",
      "Removed 0 2\n",
      "Removed 0 4\n",
      "Removed 0 5\n",
      "Removed 0 6\n",
      "Removed 0 9\n",
      "Removed 0 10\n",
      "Removed 0 11\n",
      "Removed 0 13\n",
      "Removed 0 14\n",
      "Removed 1 0\n",
      "Removed 1 2\n",
      "Removed 1 3\n",
      "Removed 1 4\n",
      "Removed 1 5\n",
      "Removed 1 6\n",
      "Removed 1 7\n",
      "Removed 1 8\n",
      "Removed 1 9\n",
      "Removed 1 10\n",
      "Removed 1 11\n",
      "Removed 1 12\n",
      "Removed 1 13\n",
      "Removed 2 0\n",
      "Removed 2 1\n",
      "Removed 2 3\n",
      "Removed 2 4\n",
      "Removed 2 5\n",
      "Removed 2 6\n",
      "Removed 2 7\n",
      "Removed 2 8\n",
      "Removed 2 11\n",
      "Removed 2 12\n",
      "Removed 2 13\n",
      "Removed 2 14\n",
      "Removed 3 0\n",
      "Removed 3 1\n",
      "Removed 3 2\n",
      "Removed 3 4\n",
      "Removed 3 5\n",
      "Removed 3 6\n",
      "Removed 3 8\n",
      "Removed 3 9\n",
      "Removed 3 10\n",
      "Removed 3 11\n",
      "Removed 3 12\n",
      "Removed 3 13\n",
      "Removed 3 14\n",
      "Removed 4 0\n",
      "Removed 4 1\n",
      "Removed 4 2\n",
      "Removed 4 3\n",
      "Removed 4 5\n",
      "Removed 4 6\n",
      "Removed 4 7\n",
      "Removed 4 8\n",
      "Removed 4 9\n",
      "Removed 4 10\n",
      "Removed 4 11\n",
      "Removed 4 12\n",
      "Removed 4 14\n",
      "Removed 5 0\n",
      "Removed 5 1\n",
      "Removed 5 2\n",
      "Removed 5 3\n",
      "Removed 5 7\n",
      "Removed 5 9\n",
      "Removed 5 12\n",
      "Removed 5 14\n",
      "Removed 6 0\n",
      "Removed 6 1\n",
      "Removed 6 2\n",
      "Removed 6 4\n",
      "Removed 6 8\n",
      "Removed 6 9\n",
      "Removed 6 10\n",
      "Removed 6 11\n",
      "Removed 6 12\n",
      "Removed 6 13\n",
      "Removed 6 14\n",
      "Removed 7 1\n",
      "Removed 7 2\n",
      "Removed 7 5\n",
      "Removed 7 9\n",
      "Removed 7 10\n",
      "Removed 7 11\n",
      "Removed 7 14\n",
      "Removed 8 2\n",
      "Removed 8 4\n",
      "Removed 8 9\n",
      "Removed 8 10\n",
      "Removed 8 11\n",
      "Removed 8 12\n",
      "Removed 8 13\n",
      "Removed 9 0\n",
      "Removed 9 1\n",
      "Removed 9 3\n",
      "Removed 9 4\n",
      "Removed 9 5\n",
      "Removed 9 6\n",
      "Removed 9 7\n",
      "Removed 9 8\n",
      "Removed 9 11\n",
      "Removed 9 13\n",
      "Removed 9 14\n",
      "Removed 10 0\n",
      "Removed 10 1\n",
      "Removed 10 3\n",
      "Removed 10 4\n",
      "Removed 10 6\n",
      "Removed 10 7\n",
      "Removed 10 8\n",
      "Removed 10 12\n",
      "Removed 10 13\n",
      "Removed 10 14\n",
      "Removed 11 0\n",
      "Removed 11 1\n",
      "Removed 11 2\n",
      "Removed 11 3\n",
      "Removed 11 6\n",
      "Removed 11 7\n",
      "Removed 11 8\n",
      "Removed 11 9\n",
      "Removed 11 12\n",
      "Removed 11 14\n",
      "Removed 12 1\n",
      "Removed 12 2\n",
      "Removed 12 4\n",
      "Removed 12 5\n",
      "Removed 12 6\n",
      "Removed 12 8\n",
      "Removed 12 10\n",
      "Removed 12 11\n",
      "Removed 12 13\n",
      "Removed 12 14\n",
      "Removed 13 0\n",
      "Removed 13 2\n",
      "Removed 13 8\n",
      "Removed 13 9\n",
      "Removed 13 10\n",
      "Removed 13 12\n",
      "Removed 14 0\n",
      "Removed 14 2\n",
      "Removed 14 3\n",
      "Removed 14 5\n",
      "Removed 14 6\n",
      "Removed 14 7\n",
      "Removed 14 9\n",
      "Removed 14 10\n",
      "Removed 14 11\n",
      "Removed 14 12\n"
     ]
    }
   ],
   "source": [
    "#We have hypothesis graph, with full adjacency matrix\n",
    "#For hypothesis edge in adjacency matrix between (k, l)\n",
    "#(best case)\n",
    "#Try random subsets with neigh (k) + \n",
    "#random vertex in connected component + l\n",
    "#if partial correlation is ever negative in any batch, remove edge\n",
    "\n",
    "for k in range(p):\n",
    "    neighs, not_neighs = algo_util.get_connections(k, adj)\n",
    "    for l in not_neighs:\n",
    "        removed = False\n",
    "        subsets = algo_util.assemble_subsets(adj, k, l, num = 1000)\n",
    "        for subset in subsets:\n",
    "            if removed:\n",
    "                break\n",
    "            #print(subset)\n",
    "            for b in batches:\n",
    "                rho = algo_util.get_partial_correlation(b, subset, k, l)\n",
    "                #print(rho)\n",
    "                if rho >= 0:\n",
    "                    print(\"Removed {} {}\".format(k, l))\n",
    "                    removed = True\n",
    "                    break\n",
    "        if not removed and len(subsets) > 0:\n",
    "            print(\"Edge between k={}, l={} would not be removed!\".format(k,l))\n",
    "        else:\n",
    "            pass\n",
    "            #print(\"Removed edge between k={}, l={} successfully\".format(k,l))"
   ]
  },
  {
   "cell_type": "code",
   "execution_count": 82,
   "metadata": {},
   "outputs": [
    {
     "name": "stdout",
     "output_type": "stream",
     "text": [
      "0 7\n",
      "0 8\n",
      "0 12\n",
      "1 14\n",
      "2 9\n",
      "2 10\n",
      "3 7\n",
      "4 13\n",
      "5 6\n",
      "5 8\n",
      "5 10\n",
      "5 11\n",
      "5 13\n",
      "6 5\n",
      "6 7\n",
      "7 0\n",
      "7 3\n",
      "7 6\n",
      "7 8\n",
      "7 12\n",
      "7 13\n",
      "8 0\n",
      "8 5\n",
      "8 7\n",
      "8 14\n",
      "9 2\n",
      "9 10\n",
      "9 12\n",
      "10 2\n",
      "10 5\n",
      "10 9\n",
      "10 11\n",
      "11 5\n",
      "11 10\n",
      "11 13\n",
      "12 0\n",
      "12 7\n",
      "12 9\n",
      "13 4\n",
      "13 5\n",
      "13 7\n",
      "13 11\n",
      "13 14\n",
      "14 1\n",
      "14 8\n",
      "14 13\n"
     ]
    }
   ],
   "source": [
    "for k in range(p):\n",
    "    neighs, not_neighs = algo_util.get_connections(k, adj)\n",
    "    for l in neighs: #makes sure neighbors aren't removed\n",
    "        print(k, l)\n",
    "        removed = False\n",
    "        subsets = []\n",
    "        for _ in range(100): #10 subsets\n",
    "            rand_verts = np.random.choice(p, size = 5, replace = False)\n",
    "            subset = sorted(list(set(list(rand_verts) + [k, l])))\n",
    "            subsets.append(subset)\n",
    "        for subset in subsets:\n",
    "            if removed:\n",
    "                break\n",
    "            #print(subset)\n",
    "            for b in batches:\n",
    "                rho = algo_util.get_partial_correlation(b, subset, k, l)\n",
    "                #print(rho)\n",
    "                if rho >= 0:\n",
    "                    print(subset, rho)\n",
    "                    print(\"Removed {} {}\".format(k, l))\n",
    "                    removed = True\n",
    "                    break\n",
    "        if removed:\n",
    "            print(\"Edge between k={}, l={} erroneously removed!\".format(k,l))\n",
    "        else:\n",
    "            pass\n",
    "            #print(\"Removed edge between k={}, l={} successfully\".format(k,l))"
   ]
  },
  {
   "cell_type": "code",
   "execution_count": null,
   "metadata": {},
   "outputs": [],
   "source": []
  }
 ],
 "metadata": {
  "kernelspec": {
   "display_name": "Python 3",
   "language": "python",
   "name": "python3"
  },
  "language_info": {
   "codemirror_mode": {
    "name": "ipython",
    "version": 3
   },
   "file_extension": ".py",
   "mimetype": "text/x-python",
   "name": "python",
   "nbconvert_exporter": "python",
   "pygments_lexer": "ipython3",
   "version": "3.6.5"
  }
 },
 "nbformat": 4,
 "nbformat_minor": 2
}
