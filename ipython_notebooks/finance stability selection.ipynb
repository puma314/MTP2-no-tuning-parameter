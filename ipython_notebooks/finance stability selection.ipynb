{
 "cells": [
  {
   "cell_type": "code",
   "execution_count": 4,
   "metadata": {},
   "outputs": [],
   "source": [
    "%load_ext autoreload\n",
    "%autoreload 2\n",
    "\n",
    "import numpy as np\n",
    "import pandas as pd\n",
    "import random\n",
    "import networkx as nx\n",
    "import matplotlib.pyplot as plt\n",
    "import time\n",
    "from collections import namedtuple\n",
    "import pickle\n",
    "\n",
    "from final_algo import (GET_ALGOS, get_algo_lambdas, kendall_cov, new_algo_KT, \n",
    "anandkumar_algo_lambda_wrapper_KT, stability_wrapper, glasso_vanilla_KT, SH_stability_wrapper_KT)\n",
    "from paper_sims_util import omega_modularity\n",
    "import sklearn\n",
    "import sklearn.covariance\n",
    "\n",
    "AlgoParams = namedtuple('AlgoParams', 'stability_samples M pi')\n",
    "GraphParams = namedtuple('GraphParams', 'N eta p d ratios')"
   ]
  },
  {
   "cell_type": "code",
   "execution_count": 5,
   "metadata": {},
   "outputs": [],
   "source": [
    "num_stocks = 100\n",
    "run_id = 'kenall_tau_finance_p_{}'.format(num_stocks)"
   ]
  },
  {
   "cell_type": "code",
   "execution_count": 6,
   "metadata": {},
   "outputs": [
    {
     "name": "stdout",
     "output_type": "stream",
     "text": [
      "(1257, 452)\n",
      "(452, 3)\n",
      "{'Health Care', 'Materials', 'Consumer Discretionary', 'Information Technology', 'Energy', 'Telecommunications Services', 'Financials', 'Industrials', 'Consumer Staples', 'Utilities'}\n",
      "(1257, 100)\n"
     ]
    }
   ],
   "source": [
    "stocks = np.load('stockdata_data.npy')\n",
    "stocks_log = np.diff(np.log(stocks), axis = 0)\n",
    "print(stocks_log.shape)\n",
    "\n",
    "info = np.load('stockdata_info.npy')\n",
    "print(info.shape)\n",
    "print(set(info[:, 1]))\n",
    "\n",
    "sector = info[:num_stocks, 1]\n",
    "S = np.cov(stocks_log[:, :num_stocks].T)\n",
    "X = stocks_log[:, :num_stocks]\n",
    "print(X.shape)"
   ]
  },
  {
   "cell_type": "code",
   "execution_count": 7,
   "metadata": {},
   "outputs": [
    {
     "name": "stdout",
     "output_type": "stream",
     "text": [
      "(1257, 452)\n"
     ]
    }
   ],
   "source": [
    "sector_large = info[:, 1]\n",
    "S_large = np.cov(stocks_log[:, :].T)\n",
    "X_large = stocks_log[:, :]\n",
    "print(X_large.shape)"
   ]
  },
  {
   "cell_type": "code",
   "execution_count": 21,
   "metadata": {},
   "outputs": [
    {
     "name": "stdout",
     "output_type": "stream",
     "text": [
      "b'[1] \"Loaded X\"\\n'\n",
      "b'High-deimensional Sparse Undirected Graphical Models.\\n'\n",
      "b'Tuning-Insensitive Graph Estimation and Regression.\\n'\n",
      "b'[1] \"DONE with tiger\"\\n'\n",
      "b''\n"
     ]
    }
   ],
   "source": [
    "#This is for CLIME and Tiger\n",
    "from final_algo import tiger_algo, clime_algo\n",
    "from final_algo import tiger_new_algo, clime_new_algo\n",
    "tiger_res = tiger_algo(X)\n",
    "#clime_res = clime_new_algo(X)"
   ]
  },
  {
   "cell_type": "code",
   "execution_count": 22,
   "metadata": {},
   "outputs": [
    {
     "data": {
      "text/plain": [
       "(100, 100)"
      ]
     },
     "execution_count": 22,
     "metadata": {},
     "output_type": "execute_result"
    }
   ],
   "source": [
    "tiger_res.shape"
   ]
  },
  {
   "cell_type": "code",
   "execution_count": 23,
   "metadata": {},
   "outputs": [
    {
     "data": {
      "text/plain": [
       "array([[1., 0., 0., ..., 0., 0., 0.],\n",
       "       [0., 1., 0., ..., 0., 0., 0.],\n",
       "       [0., 0., 1., ..., 0., 0., 0.],\n",
       "       ...,\n",
       "       [0., 0., 0., ..., 1., 0., 0.],\n",
       "       [0., 0., 0., ..., 0., 1., 0.],\n",
       "       [0., 0., 0., ..., 0., 0., 1.]])"
      ]
     },
     "execution_count": 23,
     "metadata": {},
     "output_type": "execute_result"
    }
   ],
   "source": [
    "tiger_res"
   ]
  },
  {
   "cell_type": "code",
   "execution_count": 24,
   "metadata": {},
   "outputs": [
    {
     "name": "stdout",
     "output_type": "stream",
     "text": [
      "-0.5\n",
      "0\n"
     ]
    }
   ],
   "source": [
    "print(omega_modularity(tiger_res, sector))\n",
    "print(omega_modularity(clime_res, sector))"
   ]
  },
  {
   "cell_type": "code",
   "execution_count": 37,
   "metadata": {},
   "outputs": [
    {
     "name": "stdout",
     "output_type": "stream",
     "text": [
      "Currently on our\n",
      "Running KT VERSION new algorithm\n",
      "N=1257, M=257\n",
      "Working on l = 0\n"
     ]
    },
    {
     "ename": "KeyboardInterrupt",
     "evalue": "",
     "output_type": "error",
     "traceback": [
      "\u001b[0;31m---------------------------------------------------------------------------\u001b[0m",
      "\u001b[0;31mKeyboardInterrupt\u001b[0m                         Traceback (most recent call last)",
      "\u001b[0;32m<ipython-input-37-ac716c1401ff>\u001b[0m in \u001b[0;36m<module>\u001b[0;34m()\u001b[0m\n\u001b[1;32m     33\u001b[0m     \u001b[0mlambdas\u001b[0m \u001b[0;34m=\u001b[0m \u001b[0malgo_lambdas\u001b[0m\u001b[0;34m[\u001b[0m\u001b[0malgo_name\u001b[0m\u001b[0;34m]\u001b[0m\u001b[0;34m\u001b[0m\u001b[0m\n\u001b[1;32m     34\u001b[0m     \u001b[0;32mif\u001b[0m \u001b[0malgo_name\u001b[0m \u001b[0;34m==\u001b[0m \u001b[0;34m'our'\u001b[0m\u001b[0;34m:\u001b[0m\u001b[0;34m\u001b[0m\u001b[0m\n\u001b[0;32m---> 35\u001b[0;31m         \u001b[0mour_algo_res\u001b[0m \u001b[0;34m=\u001b[0m \u001b[0malgo\u001b[0m\u001b[0;34m(\u001b[0m\u001b[0mX\u001b[0m\u001b[0;34m,\u001b[0m \u001b[0malgo_params\u001b[0m\u001b[0;34m.\u001b[0m\u001b[0mM\u001b[0m\u001b[0;34m)\u001b[0m\u001b[0;34m\u001b[0m\u001b[0m\n\u001b[0m\u001b[1;32m     36\u001b[0m         \u001b[0mresults\u001b[0m \u001b[0;34m=\u001b[0m \u001b[0;34m(\u001b[0m\u001b[0mour_algo_res\u001b[0m\u001b[0;34m,\u001b[0m \u001b[0;32mNone\u001b[0m\u001b[0;34m,\u001b[0m \u001b[0;32mNone\u001b[0m\u001b[0;34m)\u001b[0m\u001b[0;34m\u001b[0m\u001b[0m\n\u001b[1;32m     37\u001b[0m     \u001b[0;32melif\u001b[0m \u001b[0malgo_name\u001b[0m \u001b[0;34m==\u001b[0m \u001b[0;34m'anand'\u001b[0m\u001b[0;34m:\u001b[0m\u001b[0;34m\u001b[0m\u001b[0m\n",
      "\u001b[0;32m~/Documents/meng/MTP2-algorithm/final_algo.py\u001b[0m in \u001b[0;36mnew_algo_KT\u001b[0;34m(X, m)\u001b[0m\n\u001b[1;32m    216\u001b[0m                         \u001b[0;31m#d = np.random.randint(K)\u001b[0m\u001b[0;34m\u001b[0m\u001b[0;34m\u001b[0m\u001b[0m\n\u001b[1;32m    217\u001b[0m                         \u001b[0;31m#data = batches[d]\u001b[0m\u001b[0;34m\u001b[0m\u001b[0;34m\u001b[0m\u001b[0m\n\u001b[0;32m--> 218\u001b[0;31m                         \u001b[0msample_cov\u001b[0m \u001b[0;34m=\u001b[0m \u001b[0mkendall_cov\u001b[0m\u001b[0;34m(\u001b[0m\u001b[0mdata\u001b[0m\u001b[0;34m)\u001b[0m\u001b[0;34m\u001b[0m\u001b[0m\n\u001b[0m\u001b[1;32m    219\u001b[0m                         \u001b[0mrho\u001b[0m \u001b[0;34m=\u001b[0m \u001b[0mpartial_cov\u001b[0m\u001b[0;34m(\u001b[0m\u001b[0msample_cov\u001b[0m\u001b[0;34m,\u001b[0m \u001b[0msubset\u001b[0m\u001b[0;34m,\u001b[0m \u001b[0mi\u001b[0m\u001b[0;34m,\u001b[0m \u001b[0mj\u001b[0m\u001b[0;34m)\u001b[0m\u001b[0;34m\u001b[0m\u001b[0m\n\u001b[1;32m    220\u001b[0m                         \u001b[0mrhos\u001b[0m\u001b[0;34m.\u001b[0m\u001b[0mappend\u001b[0m\u001b[0;34m(\u001b[0m\u001b[0mrho\u001b[0m\u001b[0;34m)\u001b[0m\u001b[0;34m\u001b[0m\u001b[0m\n",
      "\u001b[0;32m~/Documents/meng/MTP2-algorithm/final_algo.py\u001b[0m in \u001b[0;36mkendall_cov\u001b[0;34m(data)\u001b[0m\n\u001b[1;32m    537\u001b[0m \u001b[0;32mdef\u001b[0m \u001b[0manandkumar_algo_lambda_wrapper\u001b[0m\u001b[0;34m(\u001b[0m\u001b[0mX\u001b[0m\u001b[0;34m,\u001b[0m \u001b[0mlambdas\u001b[0m\u001b[0;34m)\u001b[0m\u001b[0;34m:\u001b[0m\u001b[0;34m\u001b[0m\u001b[0m\n\u001b[1;32m    538\u001b[0m     \u001b[0mN\u001b[0m\u001b[0;34m,\u001b[0m \u001b[0mp\u001b[0m \u001b[0;34m=\u001b[0m \u001b[0mX\u001b[0m\u001b[0;34m.\u001b[0m\u001b[0mshape\u001b[0m\u001b[0;34m\u001b[0m\u001b[0m\n\u001b[0;32m--> 539\u001b[0;31m     \u001b[0msample_cov\u001b[0m \u001b[0;34m=\u001b[0m \u001b[0mnp\u001b[0m\u001b[0;34m.\u001b[0m\u001b[0mcov\u001b[0m\u001b[0;34m(\u001b[0m\u001b[0mX\u001b[0m\u001b[0;34m.\u001b[0m\u001b[0mT\u001b[0m\u001b[0;34m)\u001b[0m\u001b[0;34m\u001b[0m\u001b[0m\n\u001b[0m\u001b[1;32m    540\u001b[0m     \u001b[0;32massert\u001b[0m \u001b[0msample_cov\u001b[0m\u001b[0;34m.\u001b[0m\u001b[0mshape\u001b[0m \u001b[0;34m==\u001b[0m \u001b[0;34m(\u001b[0m\u001b[0mp\u001b[0m\u001b[0;34m,\u001b[0m\u001b[0mp\u001b[0m\u001b[0;34m)\u001b[0m\u001b[0;34m\u001b[0m\u001b[0m\n\u001b[1;32m    541\u001b[0m \u001b[0;34m\u001b[0m\u001b[0m\n",
      "\u001b[0;32m/usr/local/lib/python3.6/site-packages/pandas/core/frame.py\u001b[0m in \u001b[0;36mcorr\u001b[0;34m(self, method, min_periods)\u001b[0m\n\u001b[1;32m   5513\u001b[0m                         \u001b[0mc\u001b[0m \u001b[0;34m=\u001b[0m \u001b[0mcorrf\u001b[0m\u001b[0;34m(\u001b[0m\u001b[0mac\u001b[0m\u001b[0;34m[\u001b[0m\u001b[0mvalid\u001b[0m\u001b[0;34m]\u001b[0m\u001b[0;34m,\u001b[0m \u001b[0mbc\u001b[0m\u001b[0;34m[\u001b[0m\u001b[0mvalid\u001b[0m\u001b[0;34m]\u001b[0m\u001b[0;34m)\u001b[0m\u001b[0;34m\u001b[0m\u001b[0m\n\u001b[1;32m   5514\u001b[0m                     \u001b[0;32melse\u001b[0m\u001b[0;34m:\u001b[0m\u001b[0;34m\u001b[0m\u001b[0m\n\u001b[0;32m-> 5515\u001b[0;31m                         \u001b[0mc\u001b[0m \u001b[0;34m=\u001b[0m \u001b[0mcorrf\u001b[0m\u001b[0;34m(\u001b[0m\u001b[0mac\u001b[0m\u001b[0;34m,\u001b[0m \u001b[0mbc\u001b[0m\u001b[0;34m)\u001b[0m\u001b[0;34m\u001b[0m\u001b[0m\n\u001b[0m\u001b[1;32m   5516\u001b[0m                     \u001b[0mcorrel\u001b[0m\u001b[0;34m[\u001b[0m\u001b[0mi\u001b[0m\u001b[0;34m,\u001b[0m \u001b[0mj\u001b[0m\u001b[0;34m]\u001b[0m \u001b[0;34m=\u001b[0m \u001b[0mc\u001b[0m\u001b[0;34m\u001b[0m\u001b[0m\n\u001b[1;32m   5517\u001b[0m                     \u001b[0mcorrel\u001b[0m\u001b[0;34m[\u001b[0m\u001b[0mj\u001b[0m\u001b[0;34m,\u001b[0m \u001b[0mi\u001b[0m\u001b[0;34m]\u001b[0m \u001b[0;34m=\u001b[0m \u001b[0mc\u001b[0m\u001b[0;34m\u001b[0m\u001b[0m\n",
      "\u001b[0;32m/usr/local/lib/python3.6/site-packages/pandas/core/nanops.py\u001b[0m in \u001b[0;36m_kendall\u001b[0;34m(a, b)\u001b[0m\n\u001b[1;32m    768\u001b[0m \u001b[0;34m\u001b[0m\u001b[0m\n\u001b[1;32m    769\u001b[0m     \u001b[0;32mdef\u001b[0m \u001b[0m_kendall\u001b[0m\u001b[0;34m(\u001b[0m\u001b[0ma\u001b[0m\u001b[0;34m,\u001b[0m \u001b[0mb\u001b[0m\u001b[0;34m)\u001b[0m\u001b[0;34m:\u001b[0m\u001b[0;34m\u001b[0m\u001b[0m\n\u001b[0;32m--> 770\u001b[0;31m         \u001b[0mrs\u001b[0m \u001b[0;34m=\u001b[0m \u001b[0mkendalltau\u001b[0m\u001b[0;34m(\u001b[0m\u001b[0ma\u001b[0m\u001b[0;34m,\u001b[0m \u001b[0mb\u001b[0m\u001b[0;34m)\u001b[0m\u001b[0;34m\u001b[0m\u001b[0m\n\u001b[0m\u001b[1;32m    771\u001b[0m         \u001b[0;32mif\u001b[0m \u001b[0misinstance\u001b[0m\u001b[0;34m(\u001b[0m\u001b[0mrs\u001b[0m\u001b[0;34m,\u001b[0m \u001b[0mtuple\u001b[0m\u001b[0;34m)\u001b[0m\u001b[0;34m:\u001b[0m\u001b[0;34m\u001b[0m\u001b[0m\n\u001b[1;32m    772\u001b[0m             \u001b[0;32mreturn\u001b[0m \u001b[0mrs\u001b[0m\u001b[0;34m[\u001b[0m\u001b[0;36m0\u001b[0m\u001b[0;34m]\u001b[0m\u001b[0;34m\u001b[0m\u001b[0m\n",
      "\u001b[0;32m/usr/local/lib/python3.6/site-packages/scipy/stats/stats.py\u001b[0m in \u001b[0;36mkendalltau\u001b[0;34m(x, y, initial_lexsort, nan_policy)\u001b[0m\n\u001b[1;32m   3524\u001b[0m \u001b[0;34m\u001b[0m\u001b[0m\n\u001b[1;32m   3525\u001b[0m     \u001b[0msize\u001b[0m \u001b[0;34m=\u001b[0m \u001b[0mx\u001b[0m\u001b[0;34m.\u001b[0m\u001b[0msize\u001b[0m\u001b[0;34m\u001b[0m\u001b[0m\n\u001b[0;32m-> 3526\u001b[0;31m     \u001b[0mperm\u001b[0m \u001b[0;34m=\u001b[0m \u001b[0mnp\u001b[0m\u001b[0;34m.\u001b[0m\u001b[0margsort\u001b[0m\u001b[0;34m(\u001b[0m\u001b[0my\u001b[0m\u001b[0;34m)\u001b[0m  \u001b[0;31m# sort on y and convert y to dense ranks\u001b[0m\u001b[0;34m\u001b[0m\u001b[0m\n\u001b[0m\u001b[1;32m   3527\u001b[0m     \u001b[0mx\u001b[0m\u001b[0;34m,\u001b[0m \u001b[0my\u001b[0m \u001b[0;34m=\u001b[0m \u001b[0mx\u001b[0m\u001b[0;34m[\u001b[0m\u001b[0mperm\u001b[0m\u001b[0;34m]\u001b[0m\u001b[0;34m,\u001b[0m \u001b[0my\u001b[0m\u001b[0;34m[\u001b[0m\u001b[0mperm\u001b[0m\u001b[0;34m]\u001b[0m\u001b[0;34m\u001b[0m\u001b[0m\n\u001b[1;32m   3528\u001b[0m     \u001b[0my\u001b[0m \u001b[0;34m=\u001b[0m \u001b[0mnp\u001b[0m\u001b[0;34m.\u001b[0m\u001b[0mr_\u001b[0m\u001b[0;34m[\u001b[0m\u001b[0;32mTrue\u001b[0m\u001b[0;34m,\u001b[0m \u001b[0my\u001b[0m\u001b[0;34m[\u001b[0m\u001b[0;36m1\u001b[0m\u001b[0;34m:\u001b[0m\u001b[0;34m]\u001b[0m \u001b[0;34m!=\u001b[0m \u001b[0my\u001b[0m\u001b[0;34m[\u001b[0m\u001b[0;34m:\u001b[0m\u001b[0;34m-\u001b[0m\u001b[0;36m1\u001b[0m\u001b[0;34m]\u001b[0m\u001b[0;34m]\u001b[0m\u001b[0;34m.\u001b[0m\u001b[0mcumsum\u001b[0m\u001b[0;34m(\u001b[0m\u001b[0mdtype\u001b[0m\u001b[0;34m=\u001b[0m\u001b[0mnp\u001b[0m\u001b[0;34m.\u001b[0m\u001b[0mintp\u001b[0m\u001b[0;34m)\u001b[0m\u001b[0;34m\u001b[0m\u001b[0m\n",
      "\u001b[0;32m/usr/local/lib/python3.6/site-packages/numpy/core/fromnumeric.py\u001b[0m in \u001b[0;36margsort\u001b[0;34m(a, axis, kind, order)\u001b[0m\n\u001b[1;32m   1032\u001b[0m \u001b[0;34m\u001b[0m\u001b[0m\n\u001b[1;32m   1033\u001b[0m     \"\"\"\n\u001b[0;32m-> 1034\u001b[0;31m     \u001b[0;32mreturn\u001b[0m \u001b[0m_wrapfunc\u001b[0m\u001b[0;34m(\u001b[0m\u001b[0ma\u001b[0m\u001b[0;34m,\u001b[0m \u001b[0;34m'argsort'\u001b[0m\u001b[0;34m,\u001b[0m \u001b[0maxis\u001b[0m\u001b[0;34m=\u001b[0m\u001b[0maxis\u001b[0m\u001b[0;34m,\u001b[0m \u001b[0mkind\u001b[0m\u001b[0;34m=\u001b[0m\u001b[0mkind\u001b[0m\u001b[0;34m,\u001b[0m \u001b[0morder\u001b[0m\u001b[0;34m=\u001b[0m\u001b[0morder\u001b[0m\u001b[0;34m)\u001b[0m\u001b[0;34m\u001b[0m\u001b[0m\n\u001b[0m\u001b[1;32m   1035\u001b[0m \u001b[0;34m\u001b[0m\u001b[0m\n\u001b[1;32m   1036\u001b[0m \u001b[0;34m\u001b[0m\u001b[0m\n",
      "\u001b[0;32m/usr/local/lib/python3.6/site-packages/numpy/core/fromnumeric.py\u001b[0m in \u001b[0;36m_wrapfunc\u001b[0;34m(obj, method, *args, **kwds)\u001b[0m\n\u001b[1;32m     54\u001b[0m \u001b[0;32mdef\u001b[0m \u001b[0m_wrapfunc\u001b[0m\u001b[0;34m(\u001b[0m\u001b[0mobj\u001b[0m\u001b[0;34m,\u001b[0m \u001b[0mmethod\u001b[0m\u001b[0;34m,\u001b[0m \u001b[0;34m*\u001b[0m\u001b[0margs\u001b[0m\u001b[0;34m,\u001b[0m \u001b[0;34m**\u001b[0m\u001b[0mkwds\u001b[0m\u001b[0;34m)\u001b[0m\u001b[0;34m:\u001b[0m\u001b[0;34m\u001b[0m\u001b[0m\n\u001b[1;32m     55\u001b[0m     \u001b[0;32mtry\u001b[0m\u001b[0;34m:\u001b[0m\u001b[0;34m\u001b[0m\u001b[0m\n\u001b[0;32m---> 56\u001b[0;31m         \u001b[0;32mreturn\u001b[0m \u001b[0mgetattr\u001b[0m\u001b[0;34m(\u001b[0m\u001b[0mobj\u001b[0m\u001b[0;34m,\u001b[0m \u001b[0mmethod\u001b[0m\u001b[0;34m)\u001b[0m\u001b[0;34m(\u001b[0m\u001b[0;34m*\u001b[0m\u001b[0margs\u001b[0m\u001b[0;34m,\u001b[0m \u001b[0;34m**\u001b[0m\u001b[0mkwds\u001b[0m\u001b[0;34m)\u001b[0m\u001b[0;34m\u001b[0m\u001b[0m\n\u001b[0m\u001b[1;32m     57\u001b[0m \u001b[0;34m\u001b[0m\u001b[0m\n\u001b[1;32m     58\u001b[0m     \u001b[0;31m# An AttributeError occurs if the object does not have\u001b[0m\u001b[0;34m\u001b[0m\u001b[0;34m\u001b[0m\u001b[0m\n",
      "\u001b[0;31mKeyboardInterrupt\u001b[0m: "
     ]
    }
   ],
   "source": [
    "algo_params = AlgoParams(stability_samples = 100, M = 7./9., pi = 0.8)\n",
    "graph_params = GraphParams(p=num_stocks, N = 1257, eta=1, ratios=None, d=None)\n",
    "with open('{}_algo_params.pkl'.format(run_id), 'wb') as f:\n",
    "    pickle.dump(algo_params, f)\n",
    "with open('{}_graph_params.pkl'.format(run_id), 'wb') as f:\n",
    "    pickle.dump(graph_params, f)\n",
    "with open('{}_sector_X.pkl'.format(run_id), 'wb') as f:\n",
    "    pickle.dump((sector, X), f)\n",
    "    \n",
    "algos = GET_ALGOS(algo_params.stability_samples)\n",
    "#algo_lambdas = get_algo_lambdas(algo_params.M, graph_params.eta, graph_params.N, graph_params.p)\n",
    "algo_lambdas = {\n",
    "    'our': 7./9.,\n",
    "    'SH': [0.7, 0.8, 0.9, 0.95, 0.99, 1],\n",
    "    'nbsel':[0.0001, 0.0005, 0.001, 0.005, 0.01, 0.05, 0.1],\n",
    "    'glasso':  [0.0001, 0.0005, 0.001, 0.005, 0.01, 0.05, 0.1],\n",
    "    'anand': [(x, 1) for x in [0.0001, 0.0005, 0.001, 0.005, 0.01, 0.05, 0.1]]\n",
    "}\n",
    "\n",
    "KT_algos = {\n",
    "    'our': new_algo_KT,\n",
    "    'glasso': stability_wrapper(glasso_vanilla_KT, algo_params.stability_samples),\n",
    "    'anand': anandkumar_algo_lambda_wrapper_KT,\n",
    "    'SH': SH_stability_wrapper_KT(algo_params.stability_samples)\n",
    "}\n",
    "    \n",
    "with open('{}_algo_lambdas.pkl'.format(run_id), 'wb') as f:\n",
    "    pickle.dump(algo_lambdas, f)\n",
    "\n",
    "np.random.seed(random.SystemRandom().randint(0, 2**32-2))\n",
    "ALL_RESULTS = {}\n",
    "for algo_name, algo in KT_algos.items():\n",
    "    print(\"Currently on {}\".format(algo_name))\n",
    "    lambdas = algo_lambdas[algo_name]\n",
    "    if algo_name == 'our':\n",
    "        our_algo_res = algo(X, algo_params.M)\n",
    "        results = (our_algo_res, None, None)\n",
    "    elif algo_name == 'anand':\n",
    "        lamb_to_res = algo(X, lambdas)\n",
    "        for lamb, res in lamb_to_res.items():\n",
    "            omega_hat = res[0]\n",
    "            ALL_RESULTS[algo_name + str(lamb)] = res\n",
    "            mod = omega_modularity(omega_hat, sector)\n",
    "            print(lamb, mod)\n",
    "    else:\n",
    "        results = algo(X, lambdas, algo_params.pi)\n",
    "    ALL_RESULTS[algo_name] = results\n",
    "    with open('{}_{}_algo.pkl'.format(run_id, algo_name), 'wb') as f:\n",
    "        pickle.dump(results, f)\n",
    "    omega_hat = results[0]\n",
    "    mod = omega_modularity(omega_hat, sector)\n",
    "    print(mod)"
   ]
  },
  {
   "cell_type": "code",
   "execution_count": 12,
   "metadata": {},
   "outputs": [
    {
     "name": "stderr",
     "output_type": "stream",
     "text": [
      "/usr/local/lib/python3.6/site-packages/sklearn/model_selection/_split.py:2053: FutureWarning: You should specify a value for 'cv' instead of relying on the default value. The default value will change from 3 to 5 in version 0.22.\n",
      "  warnings.warn(CV_WARNING, FutureWarning)\n",
      "/usr/local/lib/python3.6/site-packages/sklearn/covariance/graph_lasso_.py:240: RuntimeWarning: invalid value encountered in multiply\n",
      "  * coefs)\n",
      "/usr/local/lib/python3.6/site-packages/sklearn/covariance/graph_lasso_.py:242: RuntimeWarning: invalid value encountered in multiply\n",
      "  * coefs)\n"
     ]
    },
    {
     "name": "stdout",
     "output_type": "stream",
     "text": [
      "3.4703355082314923e-09\n",
      "0.1742955978861081\n"
     ]
    }
   ],
   "source": [
    "glasso_cv = sklearn.covariance.GraphicalLassoCV(20)\n",
    "#glasso_cv.fit(np.cov(X.T))\n",
    "glasso_cv.fit(kendall_cov(X))\n",
    "omega_hat = glasso_cv.get_precision()\n",
    "non_zero = np.nonzero(omega_hat)\n",
    "N, p = X.shape\n",
    "A = np.zeros((p,p))\n",
    "A[non_zero] = 1\n",
    "print(glasso_cv.alpha_)\n",
    "print(omega_modularity(A, sector))"
   ]
  },
  {
   "cell_type": "code",
   "execution_count": 13,
   "metadata": {},
   "outputs": [
    {
     "name": "stdout",
     "output_type": "stream",
     "text": [
      "-0.008814141414141318\n"
     ]
    }
   ],
   "source": [
    "with open('first_finance_p_100_anand_algo.pkl', 'rb') as f:\n",
    "    anand_result = pickle.load(f)\n",
    "    omega_hat = anand_result[0]\n",
    "    mod = omega_modularity(omega_hat, sector)\n",
    "    print(mod)"
   ]
  },
  {
   "cell_type": "code",
   "execution_count": 12,
   "metadata": {},
   "outputs": [
    {
     "name": "stdout",
     "output_type": "stream",
     "text": [
      "our\n",
      "SH\n",
      "glasso\n",
      "nbsel\n",
      "anand\n",
      "{'SH': 0.41821131782205856, 'glasso': 0, 'nbsel': 0.3501047863710129}\n"
     ]
    }
   ],
   "source": [
    "mods = {}\n",
    "for algo_name in algos.keys():\n",
    "    print(algo_name)\n",
    "    try:\n",
    "        with open('{}_{}_algo.pkl'.format(run_id, algo_name), 'rb') as f:\n",
    "            result = pickle.load(f)\n",
    "    except:\n",
    "        continue\n",
    "    if type(result) is dict:\n",
    "        result = next(iter(result.values()))\n",
    "    omega_hat = result[0]\n",
    "    mod = omega_modularity(omega_hat, sector)\n",
    "    mods[algo_name] = mod\n",
    "print(mods)"
   ]
  },
  {
   "cell_type": "code",
   "execution_count": 181,
   "metadata": {},
   "outputs": [
    {
     "name": "stdout",
     "output_type": "stream",
     "text": [
      "[(1, 1e-06), (1, 2.3930257311804994e-06), (1, 5.7265721500919525e-06), (1, 1.370383450663168e-05), (1, 3.279362859020883e-05), (1, 7.847599703514623e-05), (1, 0.00018779508018514912), (1, 0.00044939845907216705), (1, 0.001075422076112561), (1, 0.00257351270001691), (1, 0.006158482110660267), (1, 0.014737406155824811), (1, 0.03526699214174659), (1, 0.08439481965654007), (1, 0.20195897501643817), (1, 0.4832930238571752), (1, 1.1565326417902513), (1, 2.7676123707542306), (1, 6.622967617148325), (1, 15.848931924611133)]\n",
      "Working on 1 1e-06\n",
      "Working on 1 2.3930257311804994e-06\n",
      "Working on 1 5.7265721500919525e-06\n",
      "Working on 1 1.370383450663168e-05\n",
      "Working on 1 3.279362859020883e-05\n",
      "Working on 1 7.847599703514623e-05\n",
      "Working on 1 0.00018779508018514912\n",
      "Working on 1 0.00044939845907216705\n",
      "Working on 1 0.001075422076112561\n",
      "Working on 1 0.00257351270001691\n",
      "Working on 1 0.006158482110660267\n",
      "Working on 1 0.014737406155824811\n",
      "Working on 1 0.03526699214174659\n",
      "Working on 1 0.08439481965654007\n",
      "Working on 1 0.20195897501643817\n",
      "Working on 1 0.4832930238571752\n",
      "Working on 1 1.1565326417902513\n",
      "Working on 1 2.7676123707542306\n",
      "Working on 1 6.622967617148325\n",
      "Working on 1 15.848931924611133\n"
     ]
    }
   ],
   "source": [
    "from final_algo import anandkumar_algo_lambda_wrapper\n",
    "anand_lambdas = [(1,x) for x in np.logspace(-6,1.2, num=20)]\n",
    "print(anand_lambdas)\n",
    "results, recon_info = anandkumar_algo_lambda_wrapper(X, anand_lambdas)"
   ]
  },
  {
   "cell_type": "code",
   "execution_count": 182,
   "metadata": {},
   "outputs": [
    {
     "name": "stdout",
     "output_type": "stream",
     "text": [
      "-0.008814141414141318\n",
      "-0.008814141414141318\n",
      "-0.008814141414141318\n",
      "-0.008814141414141318\n",
      "-0.008814141414141318\n",
      "-0.008814141414141318\n",
      "-0.008814141414141318\n",
      "-0.008814141414141318\n",
      "-0.008814141414141318\n",
      "-0.008814141414141318\n",
      "-0.008814141414141318\n",
      "-0.008814141414141318\n",
      "-0.008795782290459762\n",
      "-0.008992033591761496\n",
      "-0.008963865582473538\n",
      "-0.009032287441955769\n",
      "-0.009675122886049393\n",
      "-0.00955680432202777\n",
      "-0.008508482986767473\n",
      "-0.008954113555868537\n"
     ]
    }
   ],
   "source": [
    "for params, omega_hat in results.items():\n",
    "    print(omega_modularity(omega_hat, sector))"
   ]
  },
  {
   "cell_type": "code",
   "execution_count": 190,
   "metadata": {},
   "outputs": [
    {
     "name": "stdout",
     "output_type": "stream",
     "text": [
      "Working on 1 1e-06\n"
     ]
    },
    {
     "ename": "KeyboardInterrupt",
     "evalue": "",
     "output_type": "error",
     "traceback": [
      "\u001b[0;31m---------------------------------------------------------------------------\u001b[0m",
      "\u001b[0;31mKeyboardInterrupt\u001b[0m                         Traceback (most recent call last)",
      "\u001b[0;32m<ipython-input-190-12d88d64b592>\u001b[0m in \u001b[0;36m<module>\u001b[0;34m()\u001b[0m\n\u001b[0;32m----> 1\u001b[0;31m \u001b[0mresults_large\u001b[0m\u001b[0;34m,\u001b[0m \u001b[0mrecon_info\u001b[0m \u001b[0;34m=\u001b[0m \u001b[0manandkumar_algo_lambda_wrapper\u001b[0m\u001b[0;34m(\u001b[0m\u001b[0mX_large\u001b[0m\u001b[0;34m,\u001b[0m \u001b[0manand_lambdas\u001b[0m\u001b[0;34m)\u001b[0m\u001b[0;34m\u001b[0m\u001b[0m\n\u001b[0m",
      "\u001b[0;32m~/Documents/meng/MTP2-algorithm/final_algo.py\u001b[0m in \u001b[0;36manandkumar_algo_lambda_wrapper\u001b[0;34m(X, lambdas)\u001b[0m\n\u001b[1;32m    363\u001b[0m                             \u001b[0mpc\u001b[0m \u001b[0;34m=\u001b[0m \u001b[0mpartial_covs\u001b[0m\u001b[0;34m[\u001b[0m\u001b[0mtuple\u001b[0m\u001b[0;34m(\u001b[0m\u001b[0msubset_i_j\u001b[0m\u001b[0;34m)\u001b[0m\u001b[0;34m]\u001b[0m\u001b[0;34m\u001b[0m\u001b[0m\n\u001b[1;32m    364\u001b[0m                         \u001b[0;32melse\u001b[0m\u001b[0;34m:\u001b[0m\u001b[0;34m\u001b[0m\u001b[0m\n\u001b[0;32m--> 365\u001b[0;31m                             \u001b[0mpc\u001b[0m \u001b[0;34m=\u001b[0m \u001b[0mnp\u001b[0m\u001b[0;34m.\u001b[0m\u001b[0mabs\u001b[0m\u001b[0;34m(\u001b[0m\u001b[0mpartial_cov\u001b[0m\u001b[0;34m(\u001b[0m\u001b[0msample_cov\u001b[0m\u001b[0;34m,\u001b[0m \u001b[0msubset_i_j\u001b[0m\u001b[0;34m,\u001b[0m \u001b[0mi\u001b[0m\u001b[0;34m,\u001b[0m \u001b[0mj\u001b[0m\u001b[0;34m)\u001b[0m\u001b[0;34m)\u001b[0m\u001b[0;34m\u001b[0m\u001b[0m\n\u001b[0m\u001b[1;32m    366\u001b[0m                             \u001b[0mpartial_covs\u001b[0m\u001b[0;34m[\u001b[0m\u001b[0mtuple\u001b[0m\u001b[0;34m(\u001b[0m\u001b[0msubset_i_j\u001b[0m\u001b[0;34m)\u001b[0m\u001b[0;34m]\u001b[0m \u001b[0;34m=\u001b[0m \u001b[0mpc\u001b[0m\u001b[0;34m\u001b[0m\u001b[0m\n\u001b[1;32m    367\u001b[0m                         \u001b[0;32mif\u001b[0m  \u001b[0mpc\u001b[0m \u001b[0;34m<=\u001b[0m \u001b[0mxi\u001b[0m\u001b[0;34m:\u001b[0m\u001b[0;34m\u001b[0m\u001b[0m\n",
      "\u001b[0;32m~/Documents/meng/MTP2-algorithm/final_algo.py\u001b[0m in \u001b[0;36mpartial_cov\u001b[0;34m(S, subset, k, l)\u001b[0m\n\u001b[1;32m     73\u001b[0m     \u001b[0mix_grid\u001b[0m \u001b[0;34m=\u001b[0m \u001b[0mnp\u001b[0m\u001b[0;34m.\u001b[0m\u001b[0mix_\u001b[0m\u001b[0;34m(\u001b[0m\u001b[0msubset\u001b[0m\u001b[0;34m,\u001b[0m \u001b[0msubset\u001b[0m\u001b[0;34m)\u001b[0m\u001b[0;34m\u001b[0m\u001b[0m\n\u001b[1;32m     74\u001b[0m     \u001b[0msubmatrix\u001b[0m \u001b[0;34m=\u001b[0m \u001b[0mS\u001b[0m\u001b[0;34m[\u001b[0m\u001b[0mix_grid\u001b[0m\u001b[0;34m]\u001b[0m\u001b[0;34m\u001b[0m\u001b[0m\n\u001b[0;32m---> 75\u001b[0;31m     \u001b[0minv\u001b[0m \u001b[0;34m=\u001b[0m \u001b[0mnp\u001b[0m\u001b[0;34m.\u001b[0m\u001b[0mlinalg\u001b[0m\u001b[0;34m.\u001b[0m\u001b[0minv\u001b[0m\u001b[0;34m(\u001b[0m\u001b[0msubmatrix\u001b[0m\u001b[0;34m)\u001b[0m\u001b[0;34m\u001b[0m\u001b[0m\n\u001b[0m\u001b[1;32m     76\u001b[0m     \u001b[0mk_idx\u001b[0m \u001b[0;34m=\u001b[0m \u001b[0msubset\u001b[0m\u001b[0;34m.\u001b[0m\u001b[0mindex\u001b[0m\u001b[0;34m(\u001b[0m\u001b[0mk\u001b[0m\u001b[0;34m)\u001b[0m\u001b[0;34m\u001b[0m\u001b[0m\n\u001b[1;32m     77\u001b[0m     \u001b[0ml_idx\u001b[0m \u001b[0;34m=\u001b[0m \u001b[0msubset\u001b[0m\u001b[0;34m.\u001b[0m\u001b[0mindex\u001b[0m\u001b[0;34m(\u001b[0m\u001b[0ml\u001b[0m\u001b[0;34m)\u001b[0m\u001b[0;34m\u001b[0m\u001b[0m\n",
      "\u001b[0;32m/usr/local/lib/python3.6/site-packages/numpy/linalg/linalg.py\u001b[0m in \u001b[0;36minv\u001b[0;34m(a)\u001b[0m\n\u001b[1;32m    549\u001b[0m     \u001b[0msignature\u001b[0m \u001b[0;34m=\u001b[0m \u001b[0;34m'D->D'\u001b[0m \u001b[0;32mif\u001b[0m \u001b[0misComplexType\u001b[0m\u001b[0;34m(\u001b[0m\u001b[0mt\u001b[0m\u001b[0;34m)\u001b[0m \u001b[0;32melse\u001b[0m \u001b[0;34m'd->d'\u001b[0m\u001b[0;34m\u001b[0m\u001b[0m\n\u001b[1;32m    550\u001b[0m     \u001b[0mextobj\u001b[0m \u001b[0;34m=\u001b[0m \u001b[0mget_linalg_error_extobj\u001b[0m\u001b[0;34m(\u001b[0m\u001b[0m_raise_linalgerror_singular\u001b[0m\u001b[0;34m)\u001b[0m\u001b[0;34m\u001b[0m\u001b[0m\n\u001b[0;32m--> 551\u001b[0;31m     \u001b[0mainv\u001b[0m \u001b[0;34m=\u001b[0m \u001b[0m_umath_linalg\u001b[0m\u001b[0;34m.\u001b[0m\u001b[0minv\u001b[0m\u001b[0;34m(\u001b[0m\u001b[0ma\u001b[0m\u001b[0;34m,\u001b[0m \u001b[0msignature\u001b[0m\u001b[0;34m=\u001b[0m\u001b[0msignature\u001b[0m\u001b[0;34m,\u001b[0m \u001b[0mextobj\u001b[0m\u001b[0;34m=\u001b[0m\u001b[0mextobj\u001b[0m\u001b[0;34m)\u001b[0m\u001b[0;34m\u001b[0m\u001b[0m\n\u001b[0m\u001b[1;32m    552\u001b[0m     \u001b[0;32mreturn\u001b[0m \u001b[0mwrap\u001b[0m\u001b[0;34m(\u001b[0m\u001b[0mainv\u001b[0m\u001b[0;34m.\u001b[0m\u001b[0mastype\u001b[0m\u001b[0;34m(\u001b[0m\u001b[0mresult_t\u001b[0m\u001b[0;34m,\u001b[0m \u001b[0mcopy\u001b[0m\u001b[0;34m=\u001b[0m\u001b[0;32mFalse\u001b[0m\u001b[0;34m)\u001b[0m\u001b[0;34m)\u001b[0m\u001b[0;34m\u001b[0m\u001b[0m\n\u001b[1;32m    553\u001b[0m \u001b[0;34m\u001b[0m\u001b[0m\n",
      "\u001b[0;31mKeyboardInterrupt\u001b[0m: "
     ]
    }
   ],
   "source": [
    "results_large, recon_info = anandkumar_algo_lambda_wrapper(X_large, anand_lambdas)"
   ]
  },
  {
   "cell_type": "code",
   "execution_count": null,
   "metadata": {},
   "outputs": [],
   "source": []
  }
 ],
 "metadata": {
  "kernelspec": {
   "display_name": "Python 3",
   "language": "python",
   "name": "python3"
  },
  "language_info": {
   "codemirror_mode": {
    "name": "ipython",
    "version": 3
   },
   "file_extension": ".py",
   "mimetype": "text/x-python",
   "name": "python",
   "nbconvert_exporter": "python",
   "pygments_lexer": "ipython3",
   "version": "3.6.5"
  }
 },
 "nbformat": 4,
 "nbformat_minor": 2
}
