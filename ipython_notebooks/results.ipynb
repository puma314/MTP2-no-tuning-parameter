{
 "cells": [
  {
   "cell_type": "code",
   "execution_count": 1,
   "metadata": {},
   "outputs": [],
   "source": [
    "%load_ext autoreload\n",
    "%autoreload 2\n",
    "import pickle\n",
    "import numpy as np\n",
    "from collections import namedtuple, defaultdict\n",
    "from paper_sims_util import MCC\n",
    "from running_wrappers import get_loaders\n",
    "import matplotlib.pyplot as plt\n",
    "import seaborn as sns\n",
    "%matplotlib inline\n",
    "LOADERS = get_loaders()\n",
    "AlgoParams = namedtuple('AlgoParams', 'stability_samples M pi')\n",
    "GraphParams = namedtuple('GraphParams', 'N eta p d ratios')\n",
    "import pandas as pd\n",
    "import time"
   ]
  },
  {
   "cell_type": "code",
   "execution_count": null,
   "metadata": {},
   "outputs": [],
   "source": [
    "#S-H calculation\n",
    "\n",
    "# total trials: 50\n",
    "# for each graph, run MTP2 N_SAMPLE times at 10 seconds each\n",
    "# graphs, parameters\n",
    "#for each graph, run MTP2 N_SAMPLES times, (10 seconds)\n",
    "10 seconds * N_samples * # graphs \n",
    "#graphs = 4 * 4 = 16 * trials per graph"
   ]
  },
  {
   "cell_type": "code",
   "execution_count": 20,
   "metadata": {},
   "outputs": [],
   "source": [
    "run_name = 'DO_p_100_slashedp'\n",
    "run_ids = range(20)\n",
    "with open(\"{}_algo_params.pkl\".format(run_name), 'rb') as f:\n",
    "    algo_params = pickle.load(f)\n",
    "with open(\"{}_graph_params_dict.pkl\".format(run_name), 'rb') as f:\n",
    "    graph_params_dict = pickle.load(f)\n",
    "# graph_params_dict = {\n",
    "#     'chain': GraphParams(p=20, N=[20, 25, 30, 35, 40], eta=1, ratios=None, d=None), #p, N, eta\n",
    "#     'star': GraphParams(p=20, d=[10, 15, 20, 25, 30], N=50, eta=1, ratios=None), #p, d, N, eta\n",
    "#     'random': GraphParams(p=20, d=0.01, ratios=[r/500. for r in [300, 375, 500, 750, 1000]], eta=1, N=None), #p, d, ratio over 500, eta\n",
    "#     'grid_3D': GraphParams(p=2, ratios=[0.5, 0.85, 1., 1.25, 1.5, 2], eta=2, N=None, d=None), #p, ratio over 524, eta\n",
    "#     'grid': GraphParams(p=7, ratios=[0.5, 0.85, 1., 1.25, 1.5, 2], eta=2, N=None, d=None) #p, ratio over 529, eta\n",
    "# }"
   ]
  },
  {
   "cell_type": "code",
   "execution_count": 40,
   "metadata": {},
   "outputs": [],
   "source": [
    "graph_params_dict = {'chain': GraphParams(N=[25, 50, 100, 200, 500, 1000], eta=1, p=100, d=None, ratios=None), \n",
    "                     'star': GraphParams(N=50, eta=1, p=100, d=[2,3, 4, 5], ratios=None), \n",
    "                     'random': GraphParams(N=None, eta=1, p=100, d=0.01, ratios=[0.25, 0.5, 1.0, 2.0, 5.0, 10.0]), \n",
    "                     'grid': GraphParams(N=None, eta=1, p=10, d=None, ratios=[0.25, 0.5, 1.0, 2.0, 5.0, 10.0])}"
   ]
  },
  {
   "cell_type": "code",
   "execution_count": 6,
   "metadata": {},
   "outputs": [],
   "source": [
    "def get_new_omega_hat(MTP2_precs):\n",
    "    from final_algo import attr_threshold_new, get_stability_edges\n",
    "    p = 100\n",
    "    pi = 0.7\n",
    "    lambdas = [0., 0.01, 0.05, 0.1, 0.2, 0.3]\n",
    "    results = defaultdict(list)\n",
    "    probs = {}\n",
    "    edges = []\n",
    "    for i in range(p):\n",
    "        for j in range(i+1, p):\n",
    "            edges.append((i,j))\n",
    "    for q in lambdas:\n",
    "        for prec in MTP2_precs:\n",
    "            results[q].append(attr_threshold_new(prec, q))\n",
    "\n",
    "        probs[q] = defaultdict(int)\n",
    "        for res in results[q]:\n",
    "            for e in edges:\n",
    "                e_val = res[e]\n",
    "                if e_val != 0:\n",
    "                    probs[q][e] += 1\n",
    "        for e in edges:\n",
    "            probs[q][e] /= len(results[q])\n",
    "\n",
    "    stable_edges = get_stability_edges(probs, lambdas, pi)\n",
    "    omega = np.zeros((p,p))\n",
    "    for e in stable_edges:\n",
    "        omega[e] = 1\n",
    "        omega[e[::-1]] = 1\n",
    "    return omega"
   ]
  },
  {
   "cell_type": "code",
   "execution_count": 43,
   "metadata": {},
   "outputs": [],
   "source": [
    "def get_points(loaded_data):\n",
    "    points = defaultdict(lambda: defaultdict(list))\n",
    "    print(loaded_data.keys())\n",
    "    for x_label, trials in loaded_data.items(): #x_;\n",
    "        print(x_label)\n",
    "        for t_i, trial in enumerate(trials):\n",
    "            if t_i > 5: #use 5 trials only\n",
    "                continue\n",
    "            print(t_i)\n",
    "            #print(type(trial))\n",
    "#             if type(trial) != dict:\n",
    "#                 continue\n",
    "            #print(x_label)\n",
    "            #print(trials.keys())\n",
    "            omega = trial[0]\n",
    "            #print(np.sum(omega))\n",
    "            results = trial[1]\n",
    "            for algo_name, algo_results in results.items():\n",
    "                if algo_name == 'SH':\n",
    "                    omega_hat = get_new_omega_hat(algo_results[3])\n",
    "                else:\n",
    "                    omega_hat = algo_results[0]\n",
    "                #print(algo_name, np.sum(omega_hat))\n",
    "                algo_mcc = MCC(omega_hat, omega)\n",
    "                points[algo_name][x_label].append(algo_mcc)\n",
    "        print(points)\n",
    "    return points"
   ]
  },
  {
   "cell_type": "code",
   "execution_count": 41,
   "metadata": {},
   "outputs": [],
   "source": [
    "graph_params_dict = {\n",
    "    'chain': GraphParams(p=100, N=[25, 50, 100, 200, 500, 1000], eta=1, ratios=None, d=None), #p, N, eta\n",
    "    'star': GraphParams(p=100, d=[10, 20, 30, 50], N=50, eta=1, ratios=None), #p, d, N, eta\n",
    "    'random': GraphParams(p=100, d=0.01, ratios=[r/100. for r in [25, 50, 100, 200, 500, 1000]], eta=1, N=None), #p, d, ratio over 500, eta\n",
    "    #'grid_3D': GraphParams(p=4, ratios=new_grid_ratios, eta=2, N=None, d=None), #p, ratio over 524, eta\n",
    "    'grid': GraphParams(p=10, ratios=[r/100. for r in [500,1000]], eta=1, N=None, d=None) #p, ratio over 529, eta\n",
    "}\n",
    "run_name = 'NIPS_rebuttal_clime'\n",
    "run_ids = [0,1]\n",
    "algo_params = AlgoParams(stability_samples=50, M=7./9., pi=0.8)\n",
    "LOADED_DATA = LOADERS['random'](graph_params_dict['random'], \n",
    "                                  algo_params, \n",
    "                                  run_name,\n",
    "                                  run_ids)"
   ]
  },
  {
   "cell_type": "code",
   "execution_count": 44,
   "metadata": {},
   "outputs": [
    {
     "name": "stdout",
     "output_type": "stream",
     "text": [
      "dict_keys([25, 50, 100, 200, 500, 1000])\n",
      "25\n",
      "0\n",
      "defaultdict(<function get_points.<locals>.<lambda> at 0x12470fbf8>, {'our': defaultdict(<class 'list'>, {25: [0.23238616400293136]}), 'tiger': defaultdict(<class 'list'>, {25: [0]})})\n",
      "50\n",
      "0\n",
      "defaultdict(<function get_points.<locals>.<lambda> at 0x12470fbf8>, {'our': defaultdict(<class 'list'>, {25: [0.23238616400293136], 50: [0.36330652284980947]}), 'tiger': defaultdict(<class 'list'>, {25: [0], 50: [0]})})\n",
      "100\n",
      "0\n",
      "defaultdict(<function get_points.<locals>.<lambda> at 0x12470fbf8>, {'our': defaultdict(<class 'list'>, {25: [0.23238616400293136], 50: [0.36330652284980947], 100: [0.7971051377573558]}), 'tiger': defaultdict(<class 'list'>, {25: [0], 50: [0], 100: [0.38153247446045285]})})\n",
      "200\n",
      "0\n",
      "defaultdict(<function get_points.<locals>.<lambda> at 0x12470fbf8>, {'our': defaultdict(<class 'list'>, {25: [0.23238616400293136], 50: [0.36330652284980947], 100: [0.7971051377573558], 200: [0.9896423604508253]}), 'tiger': defaultdict(<class 'list'>, {25: [0], 50: [0], 100: [0.38153247446045285], 200: [0.7839743459747518]})})\n",
      "500\n",
      "0\n",
      "defaultdict(<function get_points.<locals>.<lambda> at 0x12470fbf8>, {'our': defaultdict(<class 'list'>, {25: [0.23238616400293136], 50: [0.36330652284980947], 100: [0.7971051377573558], 200: [0.9896423604508253], 500: [1.0]}), 'tiger': defaultdict(<class 'list'>, {25: [0], 50: [0], 100: [0.38153247446045285], 200: [0.7839743459747518], 500: [0.8807853939282816]})})\n",
      "1000\n",
      "0\n",
      "defaultdict(<function get_points.<locals>.<lambda> at 0x12470fbf8>, {'our': defaultdict(<class 'list'>, {25: [0.23238616400293136], 50: [0.36330652284980947], 100: [0.7971051377573558], 200: [0.9896423604508253], 500: [1.0], 1000: [0.9912405211538695]}), 'tiger': defaultdict(<class 'list'>, {25: [0], 50: [0], 100: [0.38153247446045285], 200: [0.7839743459747518], 500: [0.8807853939282816], 1000: [0.7799960393006726]})})\n"
     ]
    }
   ],
   "source": [
    "new_points = get_points(LOADED_DATA)"
   ]
  },
  {
   "cell_type": "code",
   "execution_count": null,
   "metadata": {},
   "outputs": [],
   "source": []
  },
  {
   "cell_type": "code",
   "execution_count": 94,
   "metadata": {},
   "outputs": [
    {
     "name": "stdout",
     "output_type": "stream",
     "text": [
      "Loaded data\n",
      "dict_keys([25, 50, 100, 200, 500, 1000])\n",
      "25\n",
      "0\n",
      "1\n",
      "defaultdict(<function get_points.<locals>.<lambda> at 0x117e99400>, {'our': defaultdict(<class 'list'>, {25: [0.3247111758487925, 0.4616937218441082]}), 'tiger': defaultdict(<class 'list'>, {25: [0, 0]}), 'clime': defaultdict(<class 'list'>, {25: [0, 0]})})\n",
      "50\n",
      "0\n",
      "1\n",
      "defaultdict(<function get_points.<locals>.<lambda> at 0x117e99400>, {'our': defaultdict(<class 'list'>, {25: [0.3247111758487925, 0.4616937218441082], 50: [0.4629623016275518, 0.5352685946455787]}), 'tiger': defaultdict(<class 'list'>, {25: [0, 0], 50: [0, 0]}), 'clime': defaultdict(<class 'list'>, {25: [0, 0], 50: [0, 0]})})\n",
      "100\n",
      "0\n",
      "1\n",
      "defaultdict(<function get_points.<locals>.<lambda> at 0x117e99400>, {'our': defaultdict(<class 'list'>, {25: [0.3247111758487925, 0.4616937218441082], 50: [0.4629623016275518, 0.5352685946455787], 100: [0.9204418823932796, 0.886970163929273]}), 'tiger': defaultdict(<class 'list'>, {25: [0, 0], 50: [0, 0], 100: [0.5834148688386414, 0.30741890511895864]}), 'clime': defaultdict(<class 'list'>, {25: [0, 0], 50: [0, 0], 100: [0.4663357823889656, 0.5767817262732917]})})\n",
      "200\n",
      "0\n",
      "1\n",
      "defaultdict(<function get_points.<locals>.<lambda> at 0x117e99400>, {'our': defaultdict(<class 'list'>, {25: [0.3247111758487925, 0.4616937218441082], 50: [0.4629623016275518, 0.5352685946455787], 100: [0.9204418823932796, 0.886970163929273], 200: [0.9902368569825387, 0.9343961346722429]}), 'tiger': defaultdict(<class 'list'>, {25: [0, 0], 50: [0, 0], 100: [0.5834148688386414, 0.30741890511895864], 200: [0.677103317506553, 0.5404473875677629]}), 'clime': defaultdict(<class 'list'>, {25: [0, 0], 50: [0, 0], 100: [0.4663357823889656, 0.5767817262732917], 200: [0.909359037791828, 0.7421807221136217]})})\n",
      "500\n",
      "0\n",
      "1\n",
      "defaultdict(<function get_points.<locals>.<lambda> at 0x117e99400>, {'our': defaultdict(<class 'list'>, {25: [0.3247111758487925, 0.4616937218441082], 50: [0.4629623016275518, 0.5352685946455787], 100: [0.9204418823932796, 0.886970163929273], 200: [0.9902368569825387, 0.9343961346722429], 500: [1.0, 1.0]}), 'tiger': defaultdict(<class 'list'>, {25: [0, 0], 50: [0, 0], 100: [0.5834148688386414, 0.30741890511895864], 200: [0.677103317506553, 0.5404473875677629], 500: [0.8581460875205482, 0.8193994393313133]}), 'clime': defaultdict(<class 'list'>, {25: [0, 0], 50: [0, 0], 100: [0.4663357823889656, 0.5767817262732917], 200: [0.909359037791828, 0.7421807221136217], 500: [0.9902368569825387, 0.9817799176611269]})})\n",
      "1000\n",
      "0\n",
      "1\n",
      "defaultdict(<function get_points.<locals>.<lambda> at 0x117e99400>, {'our': defaultdict(<class 'list'>, {25: [0.3247111758487925, 0.4616937218441082], 50: [0.4629623016275518, 0.5352685946455787], 100: [0.9204418823932796, 0.886970163929273], 200: [0.9902368569825387, 0.9343961346722429], 500: [1.0, 1.0], 1000: [1.0, 1.0]}), 'tiger': defaultdict(<class 'list'>, {25: [0, 0], 50: [0, 0], 100: [0.5834148688386414, 0.30741890511895864], 200: [0.677103317506553, 0.5404473875677629], 500: [0.8581460875205482, 0.8193994393313133], 1000: [0.6505993347537503, 0.6889145236180416]}), 'clime': defaultdict(<class 'list'>, {25: [0, 0], 50: [0, 0], 100: [0.4663357823889656, 0.5767817262732917], 200: [0.909359037791828, 0.7421807221136217], 500: [0.9902368569825387, 0.9817799176611269], 1000: [0.9820987917031032, 0.9502233559408529]})})\n"
     ]
    }
   ],
   "source": [
    "run_name = 'NIPS_rebuttal_ALL'\n",
    "points, lines = plot('random', ret=True)"
   ]
  },
  {
   "cell_type": "code",
   "execution_count": 95,
   "metadata": {},
   "outputs": [
    {
     "data": {
      "text/plain": [
       "([25, 50, 100, 200, 500, 1000],\n",
       " defaultdict(list,\n",
       "             {'our': [0.39320244884645034,\n",
       "               0.4991154481365653,\n",
       "               0.9037060231612764,\n",
       "               0.9623164958273909,\n",
       "               1.0,\n",
       "               1.0],\n",
       "              'tiger': [0.0,\n",
       "               0.0,\n",
       "               0.4454168869788,\n",
       "               0.608775352537158,\n",
       "               0.8387727634259308,\n",
       "               0.669756929185896],\n",
       "              'clime': [0.0,\n",
       "               0.0,\n",
       "               0.5215587543311286,\n",
       "               0.8257698799527249,\n",
       "               0.9860083873218328,\n",
       "               0.9661610738219781]}))"
      ]
     },
     "execution_count": 95,
     "metadata": {},
     "output_type": "execute_result"
    }
   ],
   "source": [
    "lines"
   ]
  },
  {
   "cell_type": "code",
   "execution_count": 85,
   "metadata": {},
   "outputs": [],
   "source": [
    "tiger_clime_chain_new_lines = {\n",
    "    'tiger': [0.0,\n",
    "               0.0,\n",
    "               0.5924444245315027,\n",
    "               0.4643498979975773,\n",
    "               0.37476974169170074,\n",
    "               0.3180514237833764],\n",
    "    'clime': [-0.014136305599865527,\n",
    "               0.24149120175628813,\n",
    "               0.5917055413578214,\n",
    "               0.7256028647254352,\n",
    "               0.5890150893739515,\n",
    "               0.7189815250392788]}"
   ]
  },
  {
   "cell_type": "code",
   "execution_count": 96,
   "metadata": {},
   "outputs": [],
   "source": [
    "tiger_clime_random_new_lines = {\n",
    "'our': [0.39320244884645034,\n",
    "               0.4991154481365653,\n",
    "               0.9037060231612764,\n",
    "               0.9623164958273909,\n",
    "               1.0,\n",
    "               1.0],\n",
    "'tiger': [0.0,\n",
    "           0.0,\n",
    "           0.5834148688386414,\n",
    "           0.677103317506553,\n",
    "           0.8581460875205482,\n",
    "           0.6505993347537503],\n",
    "'clime': [0.0,\n",
    "            0.0,\n",
    "            0.4663357823889656,\n",
    "            0.909359037791828,\n",
    "            0.9902368569825387,\n",
    "            0.9820987917031032]\n",
    "    }"
   ]
  },
  {
   "cell_type": "code",
   "execution_count": 37,
   "metadata": {},
   "outputs": [],
   "source": [
    "def plot_lines(d):\n",
    "    lines = defaultdict(list)\n",
    "    x_labels = list(next(iter(d.values())).keys())\n",
    "    for algo_name, x_label_to_trials in d.items():\n",
    "        for x_label in x_labels:\n",
    "            trial_MCCs = x_label_to_trials[x_label]\n",
    "            lines[algo_name].append(np.mean(trial_MCCs))\n",
    "    return x_labels, lines"
   ]
  },
  {
   "cell_type": "code",
   "execution_count": 38,
   "metadata": {},
   "outputs": [],
   "source": [
    "def plot(graph_type, ret = False):\n",
    "    loaded_data = LOADERS[graph_type](graph_params_dict[graph_type], \n",
    "                                  algo_params, \n",
    "                                  run_name,\n",
    "                                  run_ids)\n",
    "    print('Loaded data')\n",
    "    points = get_points(loaded_data)\n",
    "    lines = plot_lines(points)\n",
    "    if ret:\n",
    "        return points, lines\n",
    "    for algo, line in lines[1].items():\n",
    "        plt.plot(lines[0], line, label=algo)\n",
    "    plt.title(graph_type)\n",
    "    plt.legend()\n",
    "    plt.show()"
   ]
  },
  {
   "cell_type": "code",
   "execution_count": 87,
   "metadata": {},
   "outputs": [],
   "source": [
    "graph_type = 'random'\n",
    "try:\n",
    "    with open('{}_{}_points_lines.pkl'.format(run_name, graph_type), 'rb') as f:\n",
    "        points,lines = pickle.load(f)\n",
    "#     with open('{}_{}_lines_extra.pkl'.format(run_name, graph_type), 'rb') as f:\n",
    "#         extra = pickle.load(f)\n",
    "except:\n",
    "    points, lines = plot(graph_type, True)\n",
    "    with open('{}_{}_points_lines.pkl'.format(run_name, graph_type), 'wb') as f:\n",
    "        pickle.dump((dict(points),lines), f)"
   ]
  },
  {
   "cell_type": "markdown",
   "metadata": {},
   "source": [
    "#### To add additional metrics"
   ]
  },
  {
   "cell_type": "code",
   "execution_count": 77,
   "metadata": {},
   "outputs": [
    {
     "name": "stdout",
     "output_type": "stream",
     "text": [
      "25\n",
      "50\n",
      "100\n",
      "200\n",
      "500\n",
      "1000\n",
      "105.04951596260071\n"
     ]
    }
   ],
   "source": [
    "from final_algo import SH_lambda_wrapper, new_algo\n",
    "from paper_sims_util import grid_graph, random_graph, chain, confusion\n",
    "graph = random_graph(100, 0.01)\n",
    "sh_lambdas = [0.7, 0.75, 0.8, 0.85, 0.9, 0.95, 0.99]\n",
    "sh_other_lambdas = [0., 0.01, 0.05, 0.1, 0.2, 0.3]\n",
    "WHICH_LAMBDAS = sh_lambdas + sh_other_lambdas \n",
    "lambdas_to_res = defaultdict(list)\n",
    "start = time.time()\n",
    "for N in [25,50,100,200, 500, 1000]:\n",
    "    print(N)\n",
    "    X = np.random.multivariate_normal(np.zeros(100), np.linalg.inv(graph), N)\n",
    "    sh_res, _ = SH_lambda_wrapper(X, WHICH_LAMBDAS)\n",
    "    for lamb, omega_hat in sh_res.items():\n",
    "#         TP, TN, FP, FN = confusion(omega_hat, graph)\n",
    "#         TPR = TP/(TP + FN)\n",
    "#         FPR = FP/(FP + TN)\n",
    "        mcc = MCC(omega_hat, graph)\n",
    "        #print(lamb, \":\", TPR, FPR, mcc)\n",
    "        lambdas_to_res[lamb].append(mcc)\n",
    "#print(lambdas_to_res)\n",
    "print(time.time() - start)"
   ]
  },
  {
   "cell_type": "code",
   "execution_count": 78,
   "metadata": {},
   "outputs": [],
   "source": [
    "SH_best_lambdas = []\n",
    "SH_best_res = []\n",
    "for i in range(6):\n",
    "    N_res = []\n",
    "    for l in lambdas_to_res.keys():\n",
    "        N_res.append(lambdas_to_res[l][i])\n",
    "    best = max(N_res)\n",
    "    best_l = list(lambdas_to_res.keys())[np.argmax(N_res)]\n",
    "    SH_best_lambdas.append(best_l)\n",
    "    SH_best_res.append(best)"
   ]
  },
  {
   "cell_type": "code",
   "execution_count": 79,
   "metadata": {},
   "outputs": [
    {
     "name": "stdout",
     "output_type": "stream",
     "text": [
      "[0.271152222804026, 0.3573292196115288, 0.5333698062021649, 0.5905547355036888, 0.6262545417259255, 0.6435545226818463]\n",
      "[0.01, 0.05, 0.05, 0.05, 0.05, 0.05]\n"
     ]
    }
   ],
   "source": [
    "print(SH_best_res)\n",
    "print(SH_best_lambdas)"
   ]
  },
  {
   "cell_type": "code",
   "execution_count": 249,
   "metadata": {},
   "outputs": [
    {
     "name": "stdout",
     "output_type": "stream",
     "text": [
      "Running new algorithm\n",
      "N=500, M=196\n",
      "Working on l = 0\n",
      "Working on l = 1\n",
      "Working on l = 2\n",
      "Working on l = 3\n",
      "Working on l = 4\n",
      "1.0 0.0 1.0\n",
      "Running new algorithm\n",
      "N=1000, M=354\n",
      "Working on l = 0\n",
      "Working on l = 1\n",
      "Working on l = 2\n",
      "Working on l = 3\n",
      "Working on l = 4\n",
      "1.0 0.0 1.0\n"
     ]
    }
   ],
   "source": [
    "from final_algo import new_algo\n",
    "graph = grid_graph(10)\n",
    "res = [0.193828297809358, 0.37307241242620476, 0.6849048978277202, 0.894310804995154]\n",
    "for N in [25, 50, 100, 200, 500, 1000]:\n",
    "    X = np.random.multivariate_normal(np.zeros(100), np.linalg.inv(graph), N)\n",
    "    omega_hat = new_algo(X, 0.85)\n",
    "    TP, TN, FP, FN = confusion(omega_hat, graph)\n",
    "    TPR = TP/(TP + FN)\n",
    "    FPR = FP/(FP + TN)\n",
    "    mcc = MCC(omega_hat, graph)\n",
    "    print(TPR, FPR, mcc)\n",
    "    res.append(mcc)"
   ]
  },
  {
   "cell_type": "code",
   "execution_count": 114,
   "metadata": {},
   "outputs": [
    {
     "name": "stdout",
     "output_type": "stream",
     "text": [
      "Running new algorithm\n",
      "N=25, M=15\n",
      "Working on l = 0\n",
      "Working on l = 1\n",
      "Working on l = 2\n",
      "Working on l = 3\n",
      "Running new algorithm\n",
      "N=50, M=27\n",
      "Working on l = 0\n",
      "Working on l = 1\n",
      "Working on l = 2\n",
      "Working on l = 3\n",
      "Working on l = 4\n",
      "Running new algorithm\n",
      "N=100, M=50\n",
      "Working on l = 0\n",
      "Working on l = 1\n",
      "Working on l = 2\n",
      "Working on l = 3\n",
      "Working on l = 4\n",
      "Running new algorithm\n",
      "N=200, M=90\n",
      "Working on l = 0\n",
      "Working on l = 1\n",
      "Working on l = 2\n",
      "Working on l = 3\n",
      "Working on l = 4\n",
      "Running new algorithm\n",
      "N=500, M=196\n",
      "Working on l = 0\n"
     ]
    },
    {
     "ename": "KeyboardInterrupt",
     "evalue": "",
     "output_type": "error",
     "traceback": [
      "\u001b[0;31m---------------------------------------------------------------------------\u001b[0m",
      "\u001b[0;31mKeyboardInterrupt\u001b[0m                         Traceback (most recent call last)",
      "\u001b[0;32m<ipython-input-114-e73ea11e4263>\u001b[0m in \u001b[0;36m<module>\u001b[0;34m()\u001b[0m\n\u001b[1;32m      7\u001b[0m \u001b[0;32mfor\u001b[0m \u001b[0mN\u001b[0m \u001b[0;32min\u001b[0m \u001b[0;34m[\u001b[0m\u001b[0;36m25\u001b[0m\u001b[0;34m,\u001b[0m \u001b[0;36m50\u001b[0m\u001b[0;34m,\u001b[0m \u001b[0;36m100\u001b[0m\u001b[0;34m,\u001b[0m \u001b[0;36m200\u001b[0m\u001b[0;34m,\u001b[0m \u001b[0;36m500\u001b[0m\u001b[0;34m,\u001b[0m \u001b[0;36m1000\u001b[0m\u001b[0;34m]\u001b[0m\u001b[0;34m:\u001b[0m\u001b[0;34m\u001b[0m\u001b[0m\n\u001b[1;32m      8\u001b[0m     \u001b[0mX\u001b[0m \u001b[0;34m=\u001b[0m \u001b[0mnp\u001b[0m\u001b[0;34m.\u001b[0m\u001b[0mrandom\u001b[0m\u001b[0;34m.\u001b[0m\u001b[0mmultivariate_normal\u001b[0m\u001b[0;34m(\u001b[0m\u001b[0mnp\u001b[0m\u001b[0;34m.\u001b[0m\u001b[0mzeros\u001b[0m\u001b[0;34m(\u001b[0m\u001b[0;36m100\u001b[0m\u001b[0;34m)\u001b[0m\u001b[0;34m,\u001b[0m \u001b[0mnp\u001b[0m\u001b[0;34m.\u001b[0m\u001b[0mlinalg\u001b[0m\u001b[0;34m.\u001b[0m\u001b[0minv\u001b[0m\u001b[0;34m(\u001b[0m\u001b[0mgraph\u001b[0m\u001b[0;34m)\u001b[0m\u001b[0;34m,\u001b[0m \u001b[0mN\u001b[0m\u001b[0;34m)\u001b[0m\u001b[0;34m\u001b[0m\u001b[0m\n\u001b[0;32m----> 9\u001b[0;31m     \u001b[0momega_hat\u001b[0m \u001b[0;34m=\u001b[0m \u001b[0mnew_algo\u001b[0m\u001b[0;34m(\u001b[0m\u001b[0mX\u001b[0m\u001b[0;34m,\u001b[0m \u001b[0;36m0.85\u001b[0m\u001b[0;34m)\u001b[0m\u001b[0;34m\u001b[0m\u001b[0m\n\u001b[0m\u001b[1;32m     10\u001b[0m     \u001b[0mTP\u001b[0m\u001b[0;34m,\u001b[0m \u001b[0mTN\u001b[0m\u001b[0;34m,\u001b[0m \u001b[0mFP\u001b[0m\u001b[0;34m,\u001b[0m \u001b[0mFN\u001b[0m \u001b[0;34m=\u001b[0m \u001b[0mconfusion\u001b[0m\u001b[0;34m(\u001b[0m\u001b[0momega_hat\u001b[0m\u001b[0;34m,\u001b[0m \u001b[0mgraph\u001b[0m\u001b[0;34m)\u001b[0m\u001b[0;34m\u001b[0m\u001b[0m\n\u001b[1;32m     11\u001b[0m     \u001b[0mTPR\u001b[0m \u001b[0;34m=\u001b[0m \u001b[0mTP\u001b[0m\u001b[0;34m/\u001b[0m\u001b[0;34m(\u001b[0m\u001b[0mTP\u001b[0m \u001b[0;34m+\u001b[0m \u001b[0mFN\u001b[0m\u001b[0;34m)\u001b[0m\u001b[0;34m\u001b[0m\u001b[0m\n",
      "\u001b[0;32m~/Documents/meng/MTP2-algorithm/final_algo.py\u001b[0m in \u001b[0;36mnew_algo\u001b[0;34m(X, m)\u001b[0m\n\u001b[1;32m    357\u001b[0m                     \u001b[0;32mif\u001b[0m \u001b[0;32mnot\u001b[0m \u001b[0mstop\u001b[0m\u001b[0;34m:\u001b[0m\u001b[0;34m\u001b[0m\u001b[0m\n\u001b[1;32m    358\u001b[0m                         \u001b[0msubset\u001b[0m \u001b[0;34m=\u001b[0m \u001b[0msorted\u001b[0m\u001b[0;34m(\u001b[0m\u001b[0mS\u001b[0m \u001b[0;34m+\u001b[0m \u001b[0;34m[\u001b[0m\u001b[0mk\u001b[0m\u001b[0;34m]\u001b[0m \u001b[0;34m+\u001b[0m \u001b[0;34m[\u001b[0m\u001b[0mi\u001b[0m\u001b[0;34m]\u001b[0m \u001b[0;34m+\u001b[0m \u001b[0;34m[\u001b[0m\u001b[0mj\u001b[0m\u001b[0;34m]\u001b[0m\u001b[0;34m)\u001b[0m\u001b[0;34m\u001b[0m\u001b[0m\n\u001b[0;32m--> 359\u001b[0;31m                         \u001b[0mdata\u001b[0m \u001b[0;34m=\u001b[0m \u001b[0mget_batch\u001b[0m\u001b[0;34m(\u001b[0m\u001b[0mX\u001b[0m\u001b[0;34m,\u001b[0m \u001b[0mM\u001b[0m\u001b[0;34m)\u001b[0m\u001b[0;34m\u001b[0m\u001b[0m\n\u001b[0m\u001b[1;32m    360\u001b[0m                         \u001b[0;31m#d = np.random.randint(K)\u001b[0m\u001b[0;34m\u001b[0m\u001b[0;34m\u001b[0m\u001b[0m\n\u001b[1;32m    361\u001b[0m                         \u001b[0;31m#data = batches[d]\u001b[0m\u001b[0;34m\u001b[0m\u001b[0;34m\u001b[0m\u001b[0m\n",
      "\u001b[0;32m~/Documents/meng/MTP2-algorithm/final_algo.py\u001b[0m in \u001b[0;36mget_batch\u001b[0;34m(X, B)\u001b[0m\n\u001b[1;32m    104\u001b[0m     \u001b[0;32massert\u001b[0m \u001b[0mtype\u001b[0m\u001b[0;34m(\u001b[0m\u001b[0mB\u001b[0m\u001b[0;34m)\u001b[0m \u001b[0;34m==\u001b[0m \u001b[0mint\u001b[0m\u001b[0;34m\u001b[0m\u001b[0m\n\u001b[1;32m    105\u001b[0m     \u001b[0mN\u001b[0m\u001b[0;34m,\u001b[0m \u001b[0mp\u001b[0m \u001b[0;34m=\u001b[0m \u001b[0mX\u001b[0m\u001b[0;34m.\u001b[0m\u001b[0mshape\u001b[0m\u001b[0;34m\u001b[0m\u001b[0m\n\u001b[0;32m--> 106\u001b[0;31m     \u001b[0msubset_idx\u001b[0m \u001b[0;34m=\u001b[0m \u001b[0mnp\u001b[0m\u001b[0;34m.\u001b[0m\u001b[0mrandom\u001b[0m\u001b[0;34m.\u001b[0m\u001b[0mchoice\u001b[0m\u001b[0;34m(\u001b[0m\u001b[0mN\u001b[0m\u001b[0;34m,\u001b[0m \u001b[0mB\u001b[0m\u001b[0;34m,\u001b[0m \u001b[0mreplace\u001b[0m\u001b[0;34m=\u001b[0m\u001b[0;32mFalse\u001b[0m\u001b[0;34m)\u001b[0m\u001b[0;34m\u001b[0m\u001b[0m\n\u001b[0m\u001b[1;32m    107\u001b[0m     \u001b[0mret\u001b[0m \u001b[0;34m=\u001b[0m \u001b[0mX\u001b[0m\u001b[0;34m[\u001b[0m\u001b[0msubset_idx\u001b[0m\u001b[0;34m]\u001b[0m\u001b[0;34m\u001b[0m\u001b[0m\n\u001b[1;32m    108\u001b[0m     \u001b[0;32massert\u001b[0m \u001b[0mret\u001b[0m\u001b[0;34m.\u001b[0m\u001b[0mshape\u001b[0m \u001b[0;34m==\u001b[0m \u001b[0;34m(\u001b[0m\u001b[0mB\u001b[0m\u001b[0;34m,\u001b[0m \u001b[0mp\u001b[0m\u001b[0;34m)\u001b[0m\u001b[0;34m,\u001b[0m \u001b[0mret\u001b[0m\u001b[0;34m.\u001b[0m\u001b[0mshape\u001b[0m\u001b[0;34m\u001b[0m\u001b[0m\n",
      "\u001b[0;31mKeyboardInterrupt\u001b[0m: "
     ]
    }
   ],
   "source": [
    "from final_algo import new_algo\n",
    "from paper_sims_util import grid_graph, confusion\n",
    "graph = grid_graph(10)\n",
    "tpr_arr = []\n",
    "fpr_arr = []\n",
    "mcc_arr = []\n",
    "for N in [25, 50, 100, 200, 500, 1000]:\n",
    "    X = np.random.multivariate_normal(np.zeros(100), np.linalg.inv(graph), N)\n",
    "    omega_hat = new_algo(X, 0.85)\n",
    "    TP, TN, FP, FN = confusion(omega_hat, graph)\n",
    "    TPR = TP/(TP + FN)\n",
    "    FPR = FP/(FP + TN)\n",
    "    tpr_arr.append(TPR)\n",
    "    fpr_arr.append(FPR)\n",
    "print(tpr_arr)\n",
    "print(fpr_arr)"
   ]
  },
  {
   "cell_type": "code",
   "execution_count": 115,
   "metadata": {},
   "outputs": [
    {
     "data": {
      "text/plain": [
       "[0.16111111111111112, 0.28888888888888886, 0.5222222222222223, 0.8]"
      ]
     },
     "execution_count": 115,
     "metadata": {},
     "output_type": "execute_result"
    }
   ],
   "source": [
    "tpr_arr"
   ]
  },
  {
   "cell_type": "code",
   "execution_count": 116,
   "metadata": {},
   "outputs": [
    {
     "data": {
      "text/plain": [
       "[0.007966457023060796,\n",
       " 0.006918238993710692,\n",
       " 0.0037735849056603774,\n",
       " 0.0008385744234800838]"
      ]
     },
     "execution_count": 116,
     "metadata": {},
     "output_type": "execute_result"
    }
   ],
   "source": [
    "fpr_arr"
   ]
  },
  {
   "cell_type": "code",
   "execution_count": 250,
   "metadata": {},
   "outputs": [
    {
     "data": {
      "text/plain": [
       "[0.193828297809358,\n",
       " 0.37307241242620476,\n",
       " 0.6849048978277202,\n",
       " 0.894310804995154,\n",
       " 1.0,\n",
       " 1.0]"
      ]
     },
     "execution_count": 250,
     "metadata": {},
     "output_type": "execute_result"
    }
   ],
   "source": [
    "res"
   ]
  },
  {
   "cell_type": "code",
   "execution_count": 88,
   "metadata": {},
   "outputs": [],
   "source": [
    "lines[1]['SH_best'] = SH_best_res\n",
    "#lines[1]['our_85'] = res"
   ]
  },
  {
   "cell_type": "code",
   "execution_count": 98,
   "metadata": {},
   "outputs": [],
   "source": [
    "lines = pickle.load(open('grid_ALL_lines.pkl', 'rb'))"
   ]
  },
  {
   "cell_type": "code",
   "execution_count": 287,
   "metadata": {},
   "outputs": [],
   "source": [
    "with open('grid_ALL_lines.pkl', 'wb') as f:\n",
    "    pickle.dump(lines, f)"
   ]
  },
  {
   "cell_type": "markdown",
   "metadata": {},
   "source": [
    "### Generate Plot"
   ]
  },
  {
   "cell_type": "code",
   "execution_count": 103,
   "metadata": {},
   "outputs": [
    {
     "name": "stdout",
     "output_type": "stream",
     "text": [
      "hi\n",
      "([25, 50, 100, 200, 500, 1000], defaultdict(<class 'list'>, {'our': [0.27464882127676016, 0.48177578123423237, 0.6312842695358478, 0.7552502954324526, 0.8439905456245846, 0.883700190277259], 'SH': [0.08301721931586961, 0.07461103309779746, 0.11469145760865318, 0.11092940156228329, 0.08480352108274589, 0.06737038765331188], 'glasso': [0.0, 0.42590747456001676, 0.5005116200513858, 0.6238366471366892, 0.7285668805937994, 0.7180889258611899], 'nbsel': [0.3081346461710842, 0.412110951733384, 0.36600987845433497, 0.331525274704135, 0.4421525932077029, 0.6719846724372143], 'anand': [0.19646773173426724, 0.22788439060784066, 0.2557099943095421, 0.29851803805262606, 0.4305144068309068, 0.645279782662899]}))\n"
     ]
    }
   ],
   "source": [
    "run_name = 'pickle/DO_p_100_slashedp'\n",
    "graph_type = 'random'\n",
    "try:\n",
    "    with open('{}_{}_points_lines.pkl'.format(run_name, graph_type), 'rb') as f:\n",
    "        points,lines = pickle.load(f)\n",
    "        print('hi')\n",
    "        print(lines)\n",
    "#     with open('{}_{}_lines_extra.pkl'.format(run_name, graph_type), 'rb') as f:\n",
    "#         extra = pickle.load(f)\n",
    "except:\n",
    "    points, lines = plot(graph_type, True)\n",
    "    with open('{}_{}_points_lines.pkl'.format(run_name, graph_type), 'wb') as f:\n",
    "        pickle.dump((dict(points),lines), f)"
   ]
  },
  {
   "cell_type": "code",
   "execution_count": 104,
   "metadata": {},
   "outputs": [],
   "source": [
    "#To use new value of SH lol\n",
    "#lines = new_lines"
   ]
  },
  {
   "cell_type": "code",
   "execution_count": 105,
   "metadata": {},
   "outputs": [
    {
     "data": {
      "text/plain": [
       "{'our': [0.39320244884645034,\n",
       "  0.4991154481365653,\n",
       "  0.9037060231612764,\n",
       "  0.9623164958273909,\n",
       "  1.0,\n",
       "  1.0],\n",
       " 'tiger': [0.0,\n",
       "  0.0,\n",
       "  0.5834148688386414,\n",
       "  0.677103317506553,\n",
       "  0.8581460875205482,\n",
       "  0.6505993347537503],\n",
       " 'clime': [0.0,\n",
       "  0.0,\n",
       "  0.4663357823889656,\n",
       "  0.909359037791828,\n",
       "  0.9902368569825387,\n",
       "  0.9820987917031032]}"
      ]
     },
     "execution_count": 105,
     "metadata": {},
     "output_type": "execute_result"
    }
   ],
   "source": [
    "tiger_clime_random_new_lines"
   ]
  },
  {
   "cell_type": "code",
   "execution_count": 106,
   "metadata": {},
   "outputs": [],
   "source": [
    "tiger_clime_dict = tiger_clime_random_new_lines\n",
    "lines[1]['tiger'] = tiger_clime_dict['tiger']\n",
    "lines[1]['clime'] = tiger_clime_dict['clime']\n",
    "if 'our' in tiger_clime_dict:\n",
    "    lines[1]['our'] = tiger_clime_dict['our']"
   ]
  },
  {
   "cell_type": "code",
   "execution_count": 107,
   "metadata": {},
   "outputs": [],
   "source": [
    "tups = []\n",
    "for algo_name in lines[1].keys():\n",
    "    for t in zip(lines[0], lines[1][algo_name]):\n",
    "        tups.append((algo_name,) + t)"
   ]
  },
  {
   "cell_type": "code",
   "execution_count": 108,
   "metadata": {},
   "outputs": [],
   "source": [
    "df = pd.DataFrame(tups, columns = ['Algorithm', 'N', 'MCC'])"
   ]
  },
  {
   "cell_type": "code",
   "execution_count": 109,
   "metadata": {},
   "outputs": [
    {
     "data": {
      "text/html": [
       "<div>\n",
       "<style scoped>\n",
       "    .dataframe tbody tr th:only-of-type {\n",
       "        vertical-align: middle;\n",
       "    }\n",
       "\n",
       "    .dataframe tbody tr th {\n",
       "        vertical-align: top;\n",
       "    }\n",
       "\n",
       "    .dataframe thead th {\n",
       "        text-align: right;\n",
       "    }\n",
       "</style>\n",
       "<table border=\"1\" class=\"dataframe\">\n",
       "  <thead>\n",
       "    <tr style=\"text-align: right;\">\n",
       "      <th></th>\n",
       "      <th>Algorithm</th>\n",
       "      <th>N</th>\n",
       "      <th>MCC</th>\n",
       "    </tr>\n",
       "  </thead>\n",
       "  <tbody>\n",
       "    <tr>\n",
       "      <th>0</th>\n",
       "      <td>our</td>\n",
       "      <td>25</td>\n",
       "      <td>0.393202</td>\n",
       "    </tr>\n",
       "    <tr>\n",
       "      <th>1</th>\n",
       "      <td>our</td>\n",
       "      <td>50</td>\n",
       "      <td>0.499115</td>\n",
       "    </tr>\n",
       "    <tr>\n",
       "      <th>2</th>\n",
       "      <td>our</td>\n",
       "      <td>100</td>\n",
       "      <td>0.903706</td>\n",
       "    </tr>\n",
       "    <tr>\n",
       "      <th>3</th>\n",
       "      <td>our</td>\n",
       "      <td>200</td>\n",
       "      <td>0.962316</td>\n",
       "    </tr>\n",
       "    <tr>\n",
       "      <th>4</th>\n",
       "      <td>our</td>\n",
       "      <td>500</td>\n",
       "      <td>1.000000</td>\n",
       "    </tr>\n",
       "    <tr>\n",
       "      <th>5</th>\n",
       "      <td>our</td>\n",
       "      <td>1000</td>\n",
       "      <td>1.000000</td>\n",
       "    </tr>\n",
       "    <tr>\n",
       "      <th>6</th>\n",
       "      <td>SH</td>\n",
       "      <td>25</td>\n",
       "      <td>0.083017</td>\n",
       "    </tr>\n",
       "    <tr>\n",
       "      <th>7</th>\n",
       "      <td>SH</td>\n",
       "      <td>50</td>\n",
       "      <td>0.074611</td>\n",
       "    </tr>\n",
       "    <tr>\n",
       "      <th>8</th>\n",
       "      <td>SH</td>\n",
       "      <td>100</td>\n",
       "      <td>0.114691</td>\n",
       "    </tr>\n",
       "    <tr>\n",
       "      <th>9</th>\n",
       "      <td>SH</td>\n",
       "      <td>200</td>\n",
       "      <td>0.110929</td>\n",
       "    </tr>\n",
       "    <tr>\n",
       "      <th>10</th>\n",
       "      <td>SH</td>\n",
       "      <td>500</td>\n",
       "      <td>0.084804</td>\n",
       "    </tr>\n",
       "    <tr>\n",
       "      <th>11</th>\n",
       "      <td>SH</td>\n",
       "      <td>1000</td>\n",
       "      <td>0.067370</td>\n",
       "    </tr>\n",
       "    <tr>\n",
       "      <th>12</th>\n",
       "      <td>glasso</td>\n",
       "      <td>25</td>\n",
       "      <td>0.000000</td>\n",
       "    </tr>\n",
       "    <tr>\n",
       "      <th>13</th>\n",
       "      <td>glasso</td>\n",
       "      <td>50</td>\n",
       "      <td>0.425907</td>\n",
       "    </tr>\n",
       "    <tr>\n",
       "      <th>14</th>\n",
       "      <td>glasso</td>\n",
       "      <td>100</td>\n",
       "      <td>0.500512</td>\n",
       "    </tr>\n",
       "    <tr>\n",
       "      <th>15</th>\n",
       "      <td>glasso</td>\n",
       "      <td>200</td>\n",
       "      <td>0.623837</td>\n",
       "    </tr>\n",
       "    <tr>\n",
       "      <th>16</th>\n",
       "      <td>glasso</td>\n",
       "      <td>500</td>\n",
       "      <td>0.728567</td>\n",
       "    </tr>\n",
       "    <tr>\n",
       "      <th>17</th>\n",
       "      <td>glasso</td>\n",
       "      <td>1000</td>\n",
       "      <td>0.718089</td>\n",
       "    </tr>\n",
       "    <tr>\n",
       "      <th>18</th>\n",
       "      <td>nbsel</td>\n",
       "      <td>25</td>\n",
       "      <td>0.308135</td>\n",
       "    </tr>\n",
       "    <tr>\n",
       "      <th>19</th>\n",
       "      <td>nbsel</td>\n",
       "      <td>50</td>\n",
       "      <td>0.412111</td>\n",
       "    </tr>\n",
       "    <tr>\n",
       "      <th>20</th>\n",
       "      <td>nbsel</td>\n",
       "      <td>100</td>\n",
       "      <td>0.366010</td>\n",
       "    </tr>\n",
       "    <tr>\n",
       "      <th>21</th>\n",
       "      <td>nbsel</td>\n",
       "      <td>200</td>\n",
       "      <td>0.331525</td>\n",
       "    </tr>\n",
       "    <tr>\n",
       "      <th>22</th>\n",
       "      <td>nbsel</td>\n",
       "      <td>500</td>\n",
       "      <td>0.442153</td>\n",
       "    </tr>\n",
       "    <tr>\n",
       "      <th>23</th>\n",
       "      <td>nbsel</td>\n",
       "      <td>1000</td>\n",
       "      <td>0.671985</td>\n",
       "    </tr>\n",
       "    <tr>\n",
       "      <th>24</th>\n",
       "      <td>anand</td>\n",
       "      <td>25</td>\n",
       "      <td>0.196468</td>\n",
       "    </tr>\n",
       "    <tr>\n",
       "      <th>25</th>\n",
       "      <td>anand</td>\n",
       "      <td>50</td>\n",
       "      <td>0.227884</td>\n",
       "    </tr>\n",
       "    <tr>\n",
       "      <th>26</th>\n",
       "      <td>anand</td>\n",
       "      <td>100</td>\n",
       "      <td>0.255710</td>\n",
       "    </tr>\n",
       "    <tr>\n",
       "      <th>27</th>\n",
       "      <td>anand</td>\n",
       "      <td>200</td>\n",
       "      <td>0.298518</td>\n",
       "    </tr>\n",
       "    <tr>\n",
       "      <th>28</th>\n",
       "      <td>anand</td>\n",
       "      <td>500</td>\n",
       "      <td>0.430514</td>\n",
       "    </tr>\n",
       "    <tr>\n",
       "      <th>29</th>\n",
       "      <td>anand</td>\n",
       "      <td>1000</td>\n",
       "      <td>0.645280</td>\n",
       "    </tr>\n",
       "    <tr>\n",
       "      <th>30</th>\n",
       "      <td>tiger</td>\n",
       "      <td>25</td>\n",
       "      <td>0.000000</td>\n",
       "    </tr>\n",
       "    <tr>\n",
       "      <th>31</th>\n",
       "      <td>tiger</td>\n",
       "      <td>50</td>\n",
       "      <td>0.000000</td>\n",
       "    </tr>\n",
       "    <tr>\n",
       "      <th>32</th>\n",
       "      <td>tiger</td>\n",
       "      <td>100</td>\n",
       "      <td>0.583415</td>\n",
       "    </tr>\n",
       "    <tr>\n",
       "      <th>33</th>\n",
       "      <td>tiger</td>\n",
       "      <td>200</td>\n",
       "      <td>0.677103</td>\n",
       "    </tr>\n",
       "    <tr>\n",
       "      <th>34</th>\n",
       "      <td>tiger</td>\n",
       "      <td>500</td>\n",
       "      <td>0.858146</td>\n",
       "    </tr>\n",
       "    <tr>\n",
       "      <th>35</th>\n",
       "      <td>tiger</td>\n",
       "      <td>1000</td>\n",
       "      <td>0.650599</td>\n",
       "    </tr>\n",
       "    <tr>\n",
       "      <th>36</th>\n",
       "      <td>clime</td>\n",
       "      <td>25</td>\n",
       "      <td>0.000000</td>\n",
       "    </tr>\n",
       "    <tr>\n",
       "      <th>37</th>\n",
       "      <td>clime</td>\n",
       "      <td>50</td>\n",
       "      <td>0.000000</td>\n",
       "    </tr>\n",
       "    <tr>\n",
       "      <th>38</th>\n",
       "      <td>clime</td>\n",
       "      <td>100</td>\n",
       "      <td>0.466336</td>\n",
       "    </tr>\n",
       "    <tr>\n",
       "      <th>39</th>\n",
       "      <td>clime</td>\n",
       "      <td>200</td>\n",
       "      <td>0.909359</td>\n",
       "    </tr>\n",
       "    <tr>\n",
       "      <th>40</th>\n",
       "      <td>clime</td>\n",
       "      <td>500</td>\n",
       "      <td>0.990237</td>\n",
       "    </tr>\n",
       "    <tr>\n",
       "      <th>41</th>\n",
       "      <td>clime</td>\n",
       "      <td>1000</td>\n",
       "      <td>0.982099</td>\n",
       "    </tr>\n",
       "  </tbody>\n",
       "</table>\n",
       "</div>"
      ],
      "text/plain": [
       "   Algorithm     N       MCC\n",
       "0        our    25  0.393202\n",
       "1        our    50  0.499115\n",
       "2        our   100  0.903706\n",
       "3        our   200  0.962316\n",
       "4        our   500  1.000000\n",
       "5        our  1000  1.000000\n",
       "6         SH    25  0.083017\n",
       "7         SH    50  0.074611\n",
       "8         SH   100  0.114691\n",
       "9         SH   200  0.110929\n",
       "10        SH   500  0.084804\n",
       "11        SH  1000  0.067370\n",
       "12    glasso    25  0.000000\n",
       "13    glasso    50  0.425907\n",
       "14    glasso   100  0.500512\n",
       "15    glasso   200  0.623837\n",
       "16    glasso   500  0.728567\n",
       "17    glasso  1000  0.718089\n",
       "18     nbsel    25  0.308135\n",
       "19     nbsel    50  0.412111\n",
       "20     nbsel   100  0.366010\n",
       "21     nbsel   200  0.331525\n",
       "22     nbsel   500  0.442153\n",
       "23     nbsel  1000  0.671985\n",
       "24     anand    25  0.196468\n",
       "25     anand    50  0.227884\n",
       "26     anand   100  0.255710\n",
       "27     anand   200  0.298518\n",
       "28     anand   500  0.430514\n",
       "29     anand  1000  0.645280\n",
       "30     tiger    25  0.000000\n",
       "31     tiger    50  0.000000\n",
       "32     tiger   100  0.583415\n",
       "33     tiger   200  0.677103\n",
       "34     tiger   500  0.858146\n",
       "35     tiger  1000  0.650599\n",
       "36     clime    25  0.000000\n",
       "37     clime    50  0.000000\n",
       "38     clime   100  0.466336\n",
       "39     clime   200  0.909359\n",
       "40     clime   500  0.990237\n",
       "41     clime  1000  0.982099"
      ]
     },
     "execution_count": 109,
     "metadata": {},
     "output_type": "execute_result"
    }
   ],
   "source": [
    "df"
   ]
  },
  {
   "cell_type": "code",
   "execution_count": 110,
   "metadata": {},
   "outputs": [
    {
     "name": "stdout",
     "output_type": "stream",
     "text": [
      "Manually set graph type\n"
     ]
    },
    {
     "data": {
      "image/png": "[encoded data removed]",
      "text/plain": [
       "<Figure size 360x360 with 1 Axes>"
      ]
     },
     "metadata": {},
     "output_type": "display_data"
    }
   ],
   "source": [
    "groupby = df.groupby('Algorithm')\n",
    "labels = {'our': 'Our algorithm', \n",
    "          'SH_best': 'SH (best q)', \n",
    "          'SH_0.7': 'SH (no stability selection)',\n",
    "          'SH': 'SH', \n",
    "          'nbsel': 'nbsel', \n",
    "          'glasso': 'glasso', \n",
    "          'anand': 'CMIT',\n",
    "          'our_85':  \"Our algorithm: \" + r'$\\gamma=0.85$',\n",
    "          'tiger': 'TIGER',\n",
    "          'clime': 'CLIME'}\n",
    "markers = {'our': 'o', \n",
    "           'SH_best': '<', \n",
    "           'SH_0.7': '<', \n",
    "           'SH': '>', \n",
    "           'nbsel': '^', 'glasso': 'v', 'anand': 'd', 'our_85': '*', \n",
    "          'tiger': '<', 'clime': '*'}\n",
    "linestyles = {'our': 'solid', \n",
    "              'SH_best': 'dashdot', \n",
    "              'SH_0.7': 'dashdot', \n",
    "              'SH': 'dashdot', \n",
    "              'nbsel': 'dotted', \n",
    "              'glasso': (0, (3, 1, 1, 1)), \n",
    "              'anand': 'dashed',\n",
    "              'our_85': 'solid', \n",
    "              'tiger': 'dotted', \n",
    "              'clime': 'solid'}\n",
    "colors = {\n",
    "    'our': 'C0',\n",
    "    'glasso': 'C1',\n",
    "    'nbsel': 'C2',\n",
    "    'anand': 'C3',\n",
    "    'SH': 'C4',\n",
    "    'SH_best': 'C6',\n",
    "    'SH_0.7': 'C6',\n",
    "    'our_85': 'C9',\n",
    "    'tiger': 'C8',\n",
    "    'clime': 'C7'\n",
    "}\n",
    "sns.set_style(\"whitegrid\")\n",
    "fig = plt.figure(figsize=(5, 5))\n",
    "ax = fig.gca()\n",
    "ax.set_yticks(np.linspace(0, 1.0, 6))\n",
    "#plt.xlim((0,1000))\n",
    "all_graphs = ['our', 'our_85', 'SH', 'SH_0.7', 'nbsel', 'glasso', 'anand']\n",
    "main_graphs = ['our', 'SH', 'nbsel', 'glasso', 'anand', 'tiger', 'clime'] #'SH_best' used to be in here\n",
    "relevant_graphs = ['our', 'our_85', 'SH', 'SH_0.7']\n",
    "#rebuttal_graphs = ['our', 'tiger', 'clime']\n",
    "use_graphs = main_graphs\n",
    "for algo_name in use_graphs:\n",
    "    item = groupby.get_group(algo_name)\n",
    "    plt.plot(item.N, item.MCC, \n",
    "             label = labels[algo_name],\n",
    "             marker = markers[algo_name],\n",
    "             linestyle = linestyles[algo_name],\n",
    "             linewidth=1.5,\n",
    "             color=colors[algo_name])\n",
    "\n",
    "plt.legend(loc='lower right')\n",
    "graph_type = 'Random Graph (p=100)'\n",
    "print(\"Manually set graph type\")\n",
    "plt.title(graph_type)\n",
    "plt.xlabel(\"N\")\n",
    "plt.ylabel(\"MCC\")\n",
    "plt.show()\n",
    "save_path = '/{}_no_stab.png'\n",
    "# if input(\"save to {}\".format(save_path)) == 'Y':\n",
    "#     fig.savefig((save_path).format(graph_type))"
   ]
  },
  {
   "cell_type": "code",
   "execution_count": null,
   "metadata": {},
   "outputs": [],
   "source": []
  },
  {
   "cell_type": "code",
   "execution_count": null,
   "metadata": {},
   "outputs": [],
   "source": []
  }
 ],
 "metadata": {
  "kernelspec": {
   "display_name": "Python 3",
   "language": "python",
   "name": "python3"
  },
  "language_info": {
   "codemirror_mode": {
    "name": "ipython",
    "version": 3
   },
   "file_extension": ".py",
   "mimetype": "text/x-python",
   "name": "python",
   "nbconvert_exporter": "python",
   "pygments_lexer": "ipython3",
   "version": "3.6.5"
  }
 },
 "nbformat": 4,
 "nbformat_minor": 2
}
