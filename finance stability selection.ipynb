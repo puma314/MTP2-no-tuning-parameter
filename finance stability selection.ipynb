{
 "cells": [
  {
   "cell_type": "code",
   "execution_count": 11,
   "metadata": {},
   "outputs": [
    {
     "name": "stdout",
     "output_type": "stream",
     "text": [
      "The autoreload extension is already loaded. To reload it, use:\n",
      "  %reload_ext autoreload\n"
     ]
    }
   ],
   "source": [
    "%load_ext autoreload\n",
    "%autoreload 2\n",
    "\n",
    "import numpy as np\n",
    "import pandas as pd\n",
    "import random\n",
    "import networkx as nx\n",
    "import matplotlib.pyplot as plt\n",
    "import time\n",
    "from collections import namedtuple\n",
    "import pickle\n",
    "\n",
    "from final_algo import GET_ALGOS, get_algo_lambdas\n",
    "from paper_sims_util import omega_modularity\n",
    "import sklearn\n",
    "import sklearn.covariance\n",
    "\n",
    "AlgoParams = namedtuple('AlgoParams', 'stability_samples M pi')\n",
    "GraphParams = namedtuple('GraphParams', 'N eta p d ratios')"
   ]
  },
  {
   "cell_type": "code",
   "execution_count": 3,
   "metadata": {},
   "outputs": [],
   "source": [
    "num_stocks = 100\n",
    "run_id = 'large_stabsamps_finance_p_{}'.format(num_stocks)"
   ]
  },
  {
   "cell_type": "code",
   "execution_count": 4,
   "metadata": {},
   "outputs": [
    {
     "name": "stdout",
     "output_type": "stream",
     "text": [
      "(1257, 452)\n",
      "(452, 3)\n",
      "{'Industrials', 'Information Technology', 'Consumer Staples', 'Materials', 'Health Care', 'Consumer Discretionary', 'Financials', 'Utilities', 'Telecommunications Services', 'Energy'}\n",
      "(1257, 100)\n"
     ]
    }
   ],
   "source": [
    "stocks = np.load('stockdata_data.npy')\n",
    "stocks_log = np.diff(np.log(stocks), axis = 0)\n",
    "print(stocks_log.shape)\n",
    "\n",
    "info = np.load('stockdata_info.npy')\n",
    "print(info.shape)\n",
    "print(set(info[:, 1]))\n",
    "\n",
    "sector = info[:num_stocks, 1]\n",
    "S = np.cov(stocks_log[:, :num_stocks].T)\n",
    "X = stocks_log[:, :num_stocks]\n",
    "print(X.shape)"
   ]
  },
  {
   "cell_type": "code",
   "execution_count": 5,
   "metadata": {},
   "outputs": [
    {
     "name": "stdout",
     "output_type": "stream",
     "text": [
      "(1257, 452)\n"
     ]
    }
   ],
   "source": [
    "sector_large = info[:, 1]\n",
    "S_large = np.cov(stocks_log[:, :].T)\n",
    "X_large = stocks_log[:, :]\n",
    "print(X_large.shape)"
   ]
  },
  {
   "cell_type": "code",
   "execution_count": 9,
   "metadata": {},
   "outputs": [],
   "source": [
    "def kendall_cov(data):\n",
    "    df = pd.DataFrame(data)\n",
    "    kendall_corr_mat = df.corr(method='kendall').values\n",
    "    corr_mat = np.sin(0.5 * np.pi * kendall_corr_mat)\n",
    "    stdmat = np.diag(np.sqrt(np.diag(np.cov(data.T))))\n",
    "    return stdmat.dot(corr_mat).dot(stdmat)"
   ]
  },
  {
   "cell_type": "code",
   "execution_count": 22,
   "metadata": {},
   "outputs": [
    {
     "data": {
      "text/plain": [
       "(3, 5, True)"
      ]
     },
     "execution_count": 22,
     "metadata": {},
     "output_type": "execute_result"
    }
   ],
   "source": [
    "(3,5) + (True,)"
   ]
  },
  {
   "cell_type": "code",
   "execution_count": 25,
   "metadata": {},
   "outputs": [
    {
     "name": "stdout",
     "output_type": "stream",
     "text": [
      "{'our': 0.7777777777777778, 'SH': [(0.7, True), (0.8, True), (0.9, True), (0.95, True), (0.99, True), (1, True)], 'nbsel': [(0.0001, True), (0.0005, True), (0.001, True), (0.005, True), (0.01, True), (0.05, True), (0.1, True)], 'glasso': [(0.0001, True), (0.0005, True), (0.001, True), (0.005, True), (0.01, True), (0.05, True), (0.1, True)], 'anand': [(0.0001, 1, True), (0.0005, 1, True), (0.001, 1, True), (0.005, 1, True), (0.01, 1, True), (0.05, 1, True), (0.1, 1, True)]}\n",
      "Currently on SH\n",
      "IN SH STABILITY\n",
      "running single MTP\n",
      "done with single MTP 10.772793292999268\n",
      "running single MTP\n",
      "done with single MTP 10.02143406867981\n",
      "running single MTP\n",
      "done with single MTP 10.015457153320312\n",
      "running single MTP\n",
      "done with single MTP 10.168890237808228\n",
      "running single MTP\n",
      "done with single MTP 10.126805067062378\n",
      "running single MTP\n",
      "done with single MTP 9.966478109359741\n",
      "running single MTP\n",
      "done with single MTP 9.51542592048645\n",
      "running single MTP\n",
      "done with single MTP 9.678555965423584\n",
      "running single MTP\n",
      "done with single MTP 10.065211296081543\n",
      "running single MTP\n",
      "done with single MTP 9.601878881454468\n",
      "running single MTP\n",
      "done with single MTP 9.518122911453247\n",
      "running single MTP\n",
      "done with single MTP 9.51195502281189\n",
      "running single MTP\n",
      "done with single MTP 9.7253897190094\n",
      "running single MTP\n",
      "done with single MTP 9.878645181655884\n",
      "running single MTP\n",
      "done with single MTP 10.047319889068604\n",
      "running single MTP\n",
      "done with single MTP 10.106657028198242\n",
      "running single MTP\n",
      "done with single MTP 9.820988178253174\n",
      "running single MTP\n",
      "done with single MTP 10.129124879837036\n",
      "running single MTP\n",
      "done with single MTP 10.03573203086853\n",
      "running single MTP\n",
      "done with single MTP 9.900734901428223\n",
      "running single MTP\n",
      "done with single MTP 9.931096076965332\n",
      "running single MTP\n",
      "done with single MTP 9.822736978530884\n",
      "running single MTP\n",
      "done with single MTP 10.03390097618103\n",
      "running single MTP\n",
      "done with single MTP 9.892982006072998\n",
      "running single MTP\n",
      "done with single MTP 10.134172201156616\n",
      "running single MTP\n",
      "done with single MTP 9.892899751663208\n",
      "running single MTP\n",
      "done with single MTP 9.74415111541748\n",
      "running single MTP\n",
      "done with single MTP 9.482276201248169\n",
      "running single MTP\n",
      "done with single MTP 9.463744878768921\n",
      "running single MTP\n",
      "done with single MTP 9.540311098098755\n",
      "running single MTP\n",
      "done with single MTP 9.53333568572998\n",
      "running single MTP\n",
      "done with single MTP 9.863121747970581\n",
      "running single MTP\n",
      "done with single MTP 9.946397066116333\n",
      "running single MTP\n",
      "done with single MTP 9.731498003005981\n",
      "running single MTP\n",
      "done with single MTP 9.610754013061523\n",
      "running single MTP\n",
      "done with single MTP 9.651817083358765\n",
      "running single MTP\n",
      "done with single MTP 9.831977844238281\n",
      "running single MTP\n",
      "done with single MTP 9.50722885131836\n",
      "running single MTP\n",
      "done with single MTP 9.635966062545776\n",
      "running single MTP\n",
      "done with single MTP 9.80073070526123\n",
      "running single MTP\n",
      "done with single MTP 9.880455255508423\n",
      "running single MTP\n",
      "done with single MTP 9.880386114120483\n",
      "running single MTP\n",
      "done with single MTP 9.973127841949463\n",
      "running single MTP\n",
      "done with single MTP 9.807259321212769\n",
      "running single MTP\n",
      "done with single MTP 9.833659887313843\n",
      "running single MTP\n",
      "done with single MTP 9.77152419090271\n",
      "running single MTP\n",
      "done with single MTP 9.795797109603882\n",
      "running single MTP\n",
      "done with single MTP 9.891865968704224\n",
      "running single MTP\n",
      "done with single MTP 9.866872072219849\n",
      "running single MTP\n",
      "done with single MTP 9.835962057113647\n",
      "running single MTP\n",
      "done with single MTP 9.83995509147644\n",
      "running single MTP\n",
      "done with single MTP 9.831580877304077\n",
      "running single MTP\n",
      "done with single MTP 9.897531270980835\n",
      "running single MTP\n",
      "done with single MTP 9.809383153915405\n",
      "running single MTP\n",
      "done with single MTP 9.905674934387207\n",
      "running single MTP\n",
      "done with single MTP 9.888909101486206\n",
      "running single MTP\n",
      "done with single MTP 9.776141881942749\n",
      "running single MTP\n",
      "done with single MTP 9.802690029144287\n",
      "running single MTP\n",
      "done with single MTP 9.856718063354492\n",
      "running single MTP\n",
      "done with single MTP 9.819189071655273\n",
      "running single MTP\n",
      "done with single MTP 9.882652997970581\n",
      "running single MTP\n",
      "done with single MTP 10.021278858184814\n",
      "running single MTP\n",
      "done with single MTP 9.89428424835205\n",
      "running single MTP\n",
      "done with single MTP 9.88939881324768\n",
      "running single MTP\n",
      "done with single MTP 9.788799047470093\n",
      "running single MTP\n",
      "done with single MTP 10.075238704681396\n",
      "running single MTP\n",
      "done with single MTP 9.778243780136108\n",
      "running single MTP\n",
      "done with single MTP 9.884753942489624\n",
      "running single MTP\n",
      "done with single MTP 9.960225105285645\n",
      "running single MTP\n",
      "done with single MTP 9.964191913604736\n",
      "running single MTP\n",
      "done with single MTP 9.810024976730347\n",
      "running single MTP\n",
      "done with single MTP 9.98010802268982\n",
      "running single MTP\n",
      "done with single MTP 9.604753255844116\n",
      "running single MTP\n",
      "done with single MTP 9.725625038146973\n",
      "running single MTP\n",
      "done with single MTP 9.68300199508667\n",
      "running single MTP\n",
      "done with single MTP 9.87300419807434\n",
      "running single MTP\n",
      "done with single MTP 9.921147108078003\n",
      "running single MTP\n",
      "done with single MTP 9.834237098693848\n",
      "running single MTP\n",
      "done with single MTP 9.861005067825317\n",
      "running single MTP\n",
      "done with single MTP 10.114362955093384\n",
      "running single MTP\n",
      "done with single MTP 9.388073921203613\n",
      "running single MTP\n",
      "done with single MTP 10.091384172439575\n",
      "running single MTP\n",
      "done with single MTP 10.29611325263977\n",
      "running single MTP\n",
      "done with single MTP 10.371745824813843\n",
      "running single MTP\n",
      "done with single MTP 10.455085754394531\n",
      "running single MTP\n",
      "done with single MTP 9.914231061935425\n",
      "running single MTP\n",
      "done with single MTP 9.593600988388062\n",
      "running single MTP\n",
      "done with single MTP 10.090808868408203\n",
      "running single MTP\n",
      "done with single MTP 9.811432838439941\n",
      "running single MTP\n",
      "done with single MTP 10.108402967453003\n",
      "running single MTP\n",
      "done with single MTP 9.7083101272583\n",
      "running single MTP\n",
      "done with single MTP 9.567887783050537\n",
      "running single MTP\n",
      "done with single MTP 9.619796991348267\n",
      "running single MTP\n",
      "done with single MTP 9.513753175735474\n",
      "running single MTP\n",
      "done with single MTP 9.535718202590942\n",
      "running single MTP\n",
      "done with single MTP 9.612804889678955\n",
      "running single MTP\n",
      "done with single MTP 9.496365785598755\n",
      "running single MTP\n",
      "done with single MTP 9.546375036239624\n",
      "running single MTP\n",
      "done with single MTP 9.554340124130249\n",
      "running single MTP\n",
      "done with single MTP 9.500679016113281\n"
     ]
    },
    {
     "ename": "TypeError",
     "evalue": "unsupported operand type(s) for -: 'int' and 'tuple'",
     "output_type": "error",
     "traceback": [
      "\u001b[0;31m---------------------------------------------------------------------------\u001b[0m",
      "\u001b[0;31mTypeError\u001b[0m                                 Traceback (most recent call last)",
      "\u001b[0;32m<ipython-input-25-887087391a14>\u001b[0m in \u001b[0;36m<module>\u001b[0;34m()\u001b[0m\n\u001b[1;32m     48\u001b[0m         \u001b[0mresults\u001b[0m \u001b[0;34m=\u001b[0m \u001b[0;34m(\u001b[0m\u001b[0mour_algo_res\u001b[0m\u001b[0;34m,\u001b[0m \u001b[0;32mNone\u001b[0m\u001b[0;34m,\u001b[0m \u001b[0;32mNone\u001b[0m\u001b[0;34m)\u001b[0m\u001b[0;34m\u001b[0m\u001b[0m\n\u001b[1;32m     49\u001b[0m     \u001b[0;32melse\u001b[0m\u001b[0;34m:\u001b[0m\u001b[0;34m\u001b[0m\u001b[0m\n\u001b[0;32m---> 50\u001b[0;31m         \u001b[0mresults\u001b[0m \u001b[0;34m=\u001b[0m \u001b[0malgo\u001b[0m\u001b[0;34m(\u001b[0m\u001b[0mX\u001b[0m\u001b[0;34m,\u001b[0m \u001b[0mlambdas\u001b[0m\u001b[0;34m,\u001b[0m \u001b[0malgo_params\u001b[0m\u001b[0;34m.\u001b[0m\u001b[0mpi\u001b[0m\u001b[0;34m)\u001b[0m\u001b[0;34m\u001b[0m\u001b[0m\n\u001b[0m\u001b[1;32m     51\u001b[0m     \u001b[0mALL_RESULTS\u001b[0m\u001b[0;34m[\u001b[0m\u001b[0malgo_name\u001b[0m\u001b[0;34m]\u001b[0m \u001b[0;34m=\u001b[0m \u001b[0mresults\u001b[0m\u001b[0;34m\u001b[0m\u001b[0m\n\u001b[1;32m     52\u001b[0m     \u001b[0;32mwith\u001b[0m \u001b[0mopen\u001b[0m\u001b[0;34m(\u001b[0m\u001b[0;34m'{}_{}_algo.pkl'\u001b[0m\u001b[0;34m.\u001b[0m\u001b[0mformat\u001b[0m\u001b[0;34m(\u001b[0m\u001b[0mrun_id\u001b[0m\u001b[0;34m,\u001b[0m \u001b[0malgo_name\u001b[0m\u001b[0;34m)\u001b[0m\u001b[0;34m,\u001b[0m \u001b[0;34m'wb'\u001b[0m\u001b[0;34m)\u001b[0m \u001b[0;32mas\u001b[0m \u001b[0mf\u001b[0m\u001b[0;34m:\u001b[0m\u001b[0;34m\u001b[0m\u001b[0m\n",
      "\u001b[0;32m~/Documents/meng/MTP2-algorithm/final_algo.py\u001b[0m in \u001b[0;36mSH_stability\u001b[0;34m(data, lambdas, pi)\u001b[0m\n\u001b[1;32m    298\u001b[0m         \u001b[0;32mfor\u001b[0m \u001b[0mthres\u001b[0m \u001b[0;32min\u001b[0m \u001b[0mlambdas\u001b[0m\u001b[0;34m:\u001b[0m\u001b[0;34m\u001b[0m\u001b[0m\n\u001b[1;32m    299\u001b[0m             \u001b[0;32mfor\u001b[0m \u001b[0mprec\u001b[0m \u001b[0;32min\u001b[0m \u001b[0mMTP2_precs\u001b[0m\u001b[0;34m:\u001b[0m\u001b[0;34m\u001b[0m\u001b[0m\n\u001b[0;32m--> 300\u001b[0;31m                 \u001b[0mresults\u001b[0m\u001b[0;34m[\u001b[0m\u001b[0mthres\u001b[0m\u001b[0;34m]\u001b[0m\u001b[0;34m.\u001b[0m\u001b[0mappend\u001b[0m\u001b[0;34m(\u001b[0m\u001b[0mattr_threshold\u001b[0m\u001b[0;34m(\u001b[0m\u001b[0mprec\u001b[0m\u001b[0;34m,\u001b[0m \u001b[0mthres\u001b[0m\u001b[0;34m)\u001b[0m\u001b[0;34m)\u001b[0m\u001b[0;34m\u001b[0m\u001b[0m\n\u001b[0m\u001b[1;32m    301\u001b[0m \u001b[0;34m\u001b[0m\u001b[0m\n\u001b[1;32m    302\u001b[0m             \u001b[0mprobs\u001b[0m\u001b[0;34m[\u001b[0m\u001b[0mthres\u001b[0m\u001b[0;34m]\u001b[0m \u001b[0;34m=\u001b[0m \u001b[0mdefaultdict\u001b[0m\u001b[0;34m(\u001b[0m\u001b[0mint\u001b[0m\u001b[0;34m)\u001b[0m\u001b[0;34m\u001b[0m\u001b[0m\n",
      "\u001b[0;32m~/Documents/meng/MTP2-algorithm/final_algo.py\u001b[0m in \u001b[0;36mattr_threshold\u001b[0;34m(prec, q)\u001b[0m\n\u001b[1;32m    517\u001b[0m             \u001b[0;32mif\u001b[0m \u001b[0mprec\u001b[0m\u001b[0;34m[\u001b[0m\u001b[0mi\u001b[0m\u001b[0;34m,\u001b[0m \u001b[0mj\u001b[0m\u001b[0;34m]\u001b[0m \u001b[0;34m!=\u001b[0m \u001b[0;36m0\u001b[0m\u001b[0;34m:\u001b[0m\u001b[0;34m\u001b[0m\u001b[0m\n\u001b[1;32m    518\u001b[0m                 \u001b[0moff_diags\u001b[0m\u001b[0;34m.\u001b[0m\u001b[0mappend\u001b[0m\u001b[0;34m(\u001b[0m\u001b[0mprec\u001b[0m\u001b[0;34m[\u001b[0m\u001b[0mi\u001b[0m\u001b[0;34m,\u001b[0m\u001b[0mj\u001b[0m\u001b[0;34m]\u001b[0m\u001b[0;34m)\u001b[0m\u001b[0;34m\u001b[0m\u001b[0m\n\u001b[0;32m--> 519\u001b[0;31m     \u001b[0midx\u001b[0m \u001b[0;34m=\u001b[0m \u001b[0mint\u001b[0m\u001b[0;34m(\u001b[0m\u001b[0;34m(\u001b[0m\u001b[0;36m1\u001b[0m\u001b[0;34m-\u001b[0m\u001b[0mq\u001b[0m\u001b[0;34m)\u001b[0m \u001b[0;34m*\u001b[0m \u001b[0mlen\u001b[0m\u001b[0;34m(\u001b[0m\u001b[0moff_diags\u001b[0m\u001b[0;34m)\u001b[0m\u001b[0;34m)\u001b[0m\u001b[0;34m\u001b[0m\u001b[0m\n\u001b[0m\u001b[1;32m    520\u001b[0m     \u001b[0msort\u001b[0m \u001b[0;34m=\u001b[0m \u001b[0msorted\u001b[0m\u001b[0;34m(\u001b[0m\u001b[0mnp\u001b[0m\u001b[0;34m.\u001b[0m\u001b[0mabs\u001b[0m\u001b[0;34m(\u001b[0m\u001b[0moff_diags\u001b[0m\u001b[0;34m)\u001b[0m\u001b[0;34m)\u001b[0m\u001b[0;34m\u001b[0m\u001b[0m\n\u001b[1;32m    521\u001b[0m     \u001b[0mthres\u001b[0m \u001b[0;34m=\u001b[0m \u001b[0msort\u001b[0m\u001b[0;34m[\u001b[0m\u001b[0midx\u001b[0m\u001b[0;34m]\u001b[0m\u001b[0;34m\u001b[0m\u001b[0m\n",
      "\u001b[0;31mTypeError\u001b[0m: unsupported operand type(s) for -: 'int' and 'tuple'"
     ]
    }
   ],
   "source": [
    "algo_params = AlgoParams(stability_samples = 100, M = 7./9., pi = 0.8)\n",
    "graph_params = GraphParams(p=num_stocks, N = 1257, eta=1, ratios=None, d=None)\n",
    "with open('{}_algo_params.pkl'.format(run_id), 'wb') as f:\n",
    "    pickle.dump(algo_params, f)\n",
    "with open('{}_graph_params.pkl'.format(run_id), 'wb') as f:\n",
    "    pickle.dump(graph_params, f)\n",
    "with open('{}_sector_X.pkl'.format(run_id), 'wb') as f:\n",
    "    pickle.dump((sector, X), f)\n",
    "    \n",
    "algos = GET_ALGOS(algo_params.stability_samples)\n",
    "#algo_lambdas = get_algo_lambdas(algo_params.M, graph_params.eta, graph_params.N, graph_params.p)\n",
    "algo_lambdas = {\n",
    "    'our': 7./9.,\n",
    "    'SH': [0.7, 0.8, 0.9, 0.95, 0.99, 1],\n",
    "    'nbsel':[0.0001, 0.0005, 0.001, 0.005, 0.01, 0.05, 0.1],\n",
    "    'glasso':  [0.0001, 0.0005, 0.001, 0.005, 0.01, 0.05, 0.1],\n",
    "    'anand': [(x, 1) for x in [0.0001, 0.0005, 0.001, 0.005, 0.01, 0.05, 0.1]]\n",
    "}\n",
    "\n",
    "use_KT = True\n",
    "if use_KT:\n",
    "    for algo_name, lambdas in algo_lambdas.items():\n",
    "        if algo_name is 'our':\n",
    "            continue\n",
    "        new_lambdas = []\n",
    "        if type(lambdas[0]) is tuple:\n",
    "            for l in lambdas:\n",
    "                new_lambdas.append(l + (True,))\n",
    "        else:\n",
    "            for l in lambdas:\n",
    "                new_lambdas.append((l, True))\n",
    "        algo_lambdas[algo_name] = new_lambdas\n",
    "\n",
    "    print(algo_lambdas)\n",
    "    \n",
    "with open('{}_algo_lambdas.pkl'.format(run_id), 'wb') as f:\n",
    "    pickle.dump(algo_lambdas, f)\n",
    "\n",
    "np.random.seed(random.SystemRandom().randint(0, 2**32-2))\n",
    "ALL_RESULTS = {}\n",
    "for algo_name, algo in algos.items():\n",
    "    if algo_name not in ['SH']:\n",
    "        continue\n",
    "    print(\"Currently on {}\".format(algo_name))\n",
    "    lambdas = algo_lambdas[algo_name]\n",
    "    if algo_name == 'our':\n",
    "        our_algo_res = algo(X, algo_params.M, use_KT)\n",
    "        results = (our_algo_res, None, None)\n",
    "    else:\n",
    "        results = algo(X, lambdas, algo_params.pi)\n",
    "    ALL_RESULTS[algo_name] = results\n",
    "    with open('{}_{}_algo.pkl'.format(run_id, algo_name), 'wb') as f:\n",
    "        pickle.dump(results, f)\n",
    "    omega_hat = results[0]\n",
    "    mod = omega_modularity(omega_hat, sector)\n",
    "    print(mod)"
   ]
  },
  {
   "cell_type": "code",
   "execution_count": 159,
   "metadata": {},
   "outputs": [
    {
     "data": {
      "text/plain": [
       "{'our': 0.7777777777777778,\n",
       " 'SH': [0.7, 0.8, 0.9, 0.95, 0.99, 1],\n",
       " 'nbsel': [0.0001, 0.0005, 0.001, 0.005, 0.01, 0.05, 0.1],\n",
       " 'glasso': [0.0001, 0.0005, 0.001, 0.005, 0.01, 0.05, 0.1],\n",
       " 'anand': [(0.0001, 1),\n",
       "  (0.0005, 1),\n",
       "  (0.001, 1),\n",
       "  (0.005, 1),\n",
       "  (0.01, 1),\n",
       "  (0.05, 1),\n",
       "  (0.1, 1)]}"
      ]
     },
     "execution_count": 159,
     "metadata": {},
     "output_type": "execute_result"
    }
   ],
   "source": [
    "algo_lambdas"
   ]
  },
  {
   "cell_type": "code",
   "execution_count": 12,
   "metadata": {},
   "outputs": [
    {
     "name": "stderr",
     "output_type": "stream",
     "text": [
      "/usr/local/lib/python3.6/site-packages/sklearn/model_selection/_split.py:2053: FutureWarning: You should specify a value for 'cv' instead of relying on the default value. The default value will change from 3 to 5 in version 0.22.\n",
      "  warnings.warn(CV_WARNING, FutureWarning)\n",
      "/usr/local/lib/python3.6/site-packages/sklearn/covariance/graph_lasso_.py:240: RuntimeWarning: invalid value encountered in multiply\n",
      "  * coefs)\n",
      "/usr/local/lib/python3.6/site-packages/sklearn/covariance/graph_lasso_.py:242: RuntimeWarning: invalid value encountered in multiply\n",
      "  * coefs)\n"
     ]
    },
    {
     "name": "stdout",
     "output_type": "stream",
     "text": [
      "3.4703355082314923e-09\n",
      "0.1742955978861081\n"
     ]
    }
   ],
   "source": [
    "glasso_cv = sklearn.covariance.GraphicalLassoCV(20)\n",
    "#glasso_cv.fit(np.cov(X.T))\n",
    "glasso_cv.fit(kendall_cov(X))\n",
    "omega_hat = glasso_cv.get_precision()\n",
    "non_zero = np.nonzero(omega_hat)\n",
    "N, p = X.shape\n",
    "A = np.zeros((p,p))\n",
    "A[non_zero] = 1\n",
    "print(glasso_cv.alpha_)\n",
    "print(omega_modularity(A, sector))"
   ]
  },
  {
   "cell_type": "code",
   "execution_count": 13,
   "metadata": {},
   "outputs": [
    {
     "name": "stdout",
     "output_type": "stream",
     "text": [
      "-0.008814141414141318\n"
     ]
    }
   ],
   "source": [
    "with open('first_finance_p_100_anand_algo.pkl', 'rb') as f:\n",
    "    anand_result = pickle.load(f)\n",
    "    omega_hat = anand_result[0]\n",
    "    mod = omega_modularity(omega_hat, sector)\n",
    "    print(mod)"
   ]
  },
  {
   "cell_type": "code",
   "execution_count": 12,
   "metadata": {},
   "outputs": [
    {
     "name": "stdout",
     "output_type": "stream",
     "text": [
      "our\n",
      "SH\n",
      "glasso\n",
      "nbsel\n",
      "anand\n",
      "{'SH': 0.41821131782205856, 'glasso': 0, 'nbsel': 0.3501047863710129}\n"
     ]
    }
   ],
   "source": [
    "mods = {}\n",
    "for algo_name in algos.keys():\n",
    "    print(algo_name)\n",
    "    try:\n",
    "        with open('{}_{}_algo.pkl'.format(run_id, algo_name), 'rb') as f:\n",
    "            result = pickle.load(f)\n",
    "    except:\n",
    "        continue\n",
    "    if type(result) is dict:\n",
    "        result = next(iter(result.values()))\n",
    "    omega_hat = result[0]\n",
    "    mod = omega_modularity(omega_hat, sector)\n",
    "    mods[algo_name] = mod\n",
    "print(mods)"
   ]
  },
  {
   "cell_type": "code",
   "execution_count": 181,
   "metadata": {},
   "outputs": [
    {
     "name": "stdout",
     "output_type": "stream",
     "text": [
      "[(1, 1e-06), (1, 2.3930257311804994e-06), (1, 5.7265721500919525e-06), (1, 1.370383450663168e-05), (1, 3.279362859020883e-05), (1, 7.847599703514623e-05), (1, 0.00018779508018514912), (1, 0.00044939845907216705), (1, 0.001075422076112561), (1, 0.00257351270001691), (1, 0.006158482110660267), (1, 0.014737406155824811), (1, 0.03526699214174659), (1, 0.08439481965654007), (1, 0.20195897501643817), (1, 0.4832930238571752), (1, 1.1565326417902513), (1, 2.7676123707542306), (1, 6.622967617148325), (1, 15.848931924611133)]\n",
      "Working on 1 1e-06\n",
      "Working on 1 2.3930257311804994e-06\n",
      "Working on 1 5.7265721500919525e-06\n",
      "Working on 1 1.370383450663168e-05\n",
      "Working on 1 3.279362859020883e-05\n",
      "Working on 1 7.847599703514623e-05\n",
      "Working on 1 0.00018779508018514912\n",
      "Working on 1 0.00044939845907216705\n",
      "Working on 1 0.001075422076112561\n",
      "Working on 1 0.00257351270001691\n",
      "Working on 1 0.006158482110660267\n",
      "Working on 1 0.014737406155824811\n",
      "Working on 1 0.03526699214174659\n",
      "Working on 1 0.08439481965654007\n",
      "Working on 1 0.20195897501643817\n",
      "Working on 1 0.4832930238571752\n",
      "Working on 1 1.1565326417902513\n",
      "Working on 1 2.7676123707542306\n",
      "Working on 1 6.622967617148325\n",
      "Working on 1 15.848931924611133\n"
     ]
    }
   ],
   "source": [
    "from final_algo import anandkumar_algo_lambda_wrapper\n",
    "anand_lambdas = [(1,x) for x in np.logspace(-6,1.2, num=20)]\n",
    "print(anand_lambdas)\n",
    "results, recon_info = anandkumar_algo_lambda_wrapper(X, anand_lambdas)"
   ]
  },
  {
   "cell_type": "code",
   "execution_count": 182,
   "metadata": {},
   "outputs": [
    {
     "name": "stdout",
     "output_type": "stream",
     "text": [
      "-0.008814141414141318\n",
      "-0.008814141414141318\n",
      "-0.008814141414141318\n",
      "-0.008814141414141318\n",
      "-0.008814141414141318\n",
      "-0.008814141414141318\n",
      "-0.008814141414141318\n",
      "-0.008814141414141318\n",
      "-0.008814141414141318\n",
      "-0.008814141414141318\n",
      "-0.008814141414141318\n",
      "-0.008814141414141318\n",
      "-0.008795782290459762\n",
      "-0.008992033591761496\n",
      "-0.008963865582473538\n",
      "-0.009032287441955769\n",
      "-0.009675122886049393\n",
      "-0.00955680432202777\n",
      "-0.008508482986767473\n",
      "-0.008954113555868537\n"
     ]
    }
   ],
   "source": [
    "for params, omega_hat in results.items():\n",
    "    print(omega_modularity(omega_hat, sector))"
   ]
  },
  {
   "cell_type": "code",
   "execution_count": 190,
   "metadata": {},
   "outputs": [
    {
     "name": "stdout",
     "output_type": "stream",
     "text": [
      "Working on 1 1e-06\n"
     ]
    },
    {
     "ename": "KeyboardInterrupt",
     "evalue": "",
     "output_type": "error",
     "traceback": [
      "\u001b[0;31m---------------------------------------------------------------------------\u001b[0m",
      "\u001b[0;31mKeyboardInterrupt\u001b[0m                         Traceback (most recent call last)",
      "\u001b[0;32m<ipython-input-190-12d88d64b592>\u001b[0m in \u001b[0;36m<module>\u001b[0;34m()\u001b[0m\n\u001b[0;32m----> 1\u001b[0;31m \u001b[0mresults_large\u001b[0m\u001b[0;34m,\u001b[0m \u001b[0mrecon_info\u001b[0m \u001b[0;34m=\u001b[0m \u001b[0manandkumar_algo_lambda_wrapper\u001b[0m\u001b[0;34m(\u001b[0m\u001b[0mX_large\u001b[0m\u001b[0;34m,\u001b[0m \u001b[0manand_lambdas\u001b[0m\u001b[0;34m)\u001b[0m\u001b[0;34m\u001b[0m\u001b[0m\n\u001b[0m",
      "\u001b[0;32m~/Documents/meng/MTP2-algorithm/final_algo.py\u001b[0m in \u001b[0;36manandkumar_algo_lambda_wrapper\u001b[0;34m(X, lambdas)\u001b[0m\n\u001b[1;32m    363\u001b[0m                             \u001b[0mpc\u001b[0m \u001b[0;34m=\u001b[0m \u001b[0mpartial_covs\u001b[0m\u001b[0;34m[\u001b[0m\u001b[0mtuple\u001b[0m\u001b[0;34m(\u001b[0m\u001b[0msubset_i_j\u001b[0m\u001b[0;34m)\u001b[0m\u001b[0;34m]\u001b[0m\u001b[0;34m\u001b[0m\u001b[0m\n\u001b[1;32m    364\u001b[0m                         \u001b[0;32melse\u001b[0m\u001b[0;34m:\u001b[0m\u001b[0;34m\u001b[0m\u001b[0m\n\u001b[0;32m--> 365\u001b[0;31m                             \u001b[0mpc\u001b[0m \u001b[0;34m=\u001b[0m \u001b[0mnp\u001b[0m\u001b[0;34m.\u001b[0m\u001b[0mabs\u001b[0m\u001b[0;34m(\u001b[0m\u001b[0mpartial_cov\u001b[0m\u001b[0;34m(\u001b[0m\u001b[0msample_cov\u001b[0m\u001b[0;34m,\u001b[0m \u001b[0msubset_i_j\u001b[0m\u001b[0;34m,\u001b[0m \u001b[0mi\u001b[0m\u001b[0;34m,\u001b[0m \u001b[0mj\u001b[0m\u001b[0;34m)\u001b[0m\u001b[0;34m)\u001b[0m\u001b[0;34m\u001b[0m\u001b[0m\n\u001b[0m\u001b[1;32m    366\u001b[0m                             \u001b[0mpartial_covs\u001b[0m\u001b[0;34m[\u001b[0m\u001b[0mtuple\u001b[0m\u001b[0;34m(\u001b[0m\u001b[0msubset_i_j\u001b[0m\u001b[0;34m)\u001b[0m\u001b[0;34m]\u001b[0m \u001b[0;34m=\u001b[0m \u001b[0mpc\u001b[0m\u001b[0;34m\u001b[0m\u001b[0m\n\u001b[1;32m    367\u001b[0m                         \u001b[0;32mif\u001b[0m  \u001b[0mpc\u001b[0m \u001b[0;34m<=\u001b[0m \u001b[0mxi\u001b[0m\u001b[0;34m:\u001b[0m\u001b[0;34m\u001b[0m\u001b[0m\n",
      "\u001b[0;32m~/Documents/meng/MTP2-algorithm/final_algo.py\u001b[0m in \u001b[0;36mpartial_cov\u001b[0;34m(S, subset, k, l)\u001b[0m\n\u001b[1;32m     73\u001b[0m     \u001b[0mix_grid\u001b[0m \u001b[0;34m=\u001b[0m \u001b[0mnp\u001b[0m\u001b[0;34m.\u001b[0m\u001b[0mix_\u001b[0m\u001b[0;34m(\u001b[0m\u001b[0msubset\u001b[0m\u001b[0;34m,\u001b[0m \u001b[0msubset\u001b[0m\u001b[0;34m)\u001b[0m\u001b[0;34m\u001b[0m\u001b[0m\n\u001b[1;32m     74\u001b[0m     \u001b[0msubmatrix\u001b[0m \u001b[0;34m=\u001b[0m \u001b[0mS\u001b[0m\u001b[0;34m[\u001b[0m\u001b[0mix_grid\u001b[0m\u001b[0;34m]\u001b[0m\u001b[0;34m\u001b[0m\u001b[0m\n\u001b[0;32m---> 75\u001b[0;31m     \u001b[0minv\u001b[0m \u001b[0;34m=\u001b[0m \u001b[0mnp\u001b[0m\u001b[0;34m.\u001b[0m\u001b[0mlinalg\u001b[0m\u001b[0;34m.\u001b[0m\u001b[0minv\u001b[0m\u001b[0;34m(\u001b[0m\u001b[0msubmatrix\u001b[0m\u001b[0;34m)\u001b[0m\u001b[0;34m\u001b[0m\u001b[0m\n\u001b[0m\u001b[1;32m     76\u001b[0m     \u001b[0mk_idx\u001b[0m \u001b[0;34m=\u001b[0m \u001b[0msubset\u001b[0m\u001b[0;34m.\u001b[0m\u001b[0mindex\u001b[0m\u001b[0;34m(\u001b[0m\u001b[0mk\u001b[0m\u001b[0;34m)\u001b[0m\u001b[0;34m\u001b[0m\u001b[0m\n\u001b[1;32m     77\u001b[0m     \u001b[0ml_idx\u001b[0m \u001b[0;34m=\u001b[0m \u001b[0msubset\u001b[0m\u001b[0;34m.\u001b[0m\u001b[0mindex\u001b[0m\u001b[0;34m(\u001b[0m\u001b[0ml\u001b[0m\u001b[0;34m)\u001b[0m\u001b[0;34m\u001b[0m\u001b[0m\n",
      "\u001b[0;32m/usr/local/lib/python3.6/site-packages/numpy/linalg/linalg.py\u001b[0m in \u001b[0;36minv\u001b[0;34m(a)\u001b[0m\n\u001b[1;32m    549\u001b[0m     \u001b[0msignature\u001b[0m \u001b[0;34m=\u001b[0m \u001b[0;34m'D->D'\u001b[0m \u001b[0;32mif\u001b[0m \u001b[0misComplexType\u001b[0m\u001b[0;34m(\u001b[0m\u001b[0mt\u001b[0m\u001b[0;34m)\u001b[0m \u001b[0;32melse\u001b[0m \u001b[0;34m'd->d'\u001b[0m\u001b[0;34m\u001b[0m\u001b[0m\n\u001b[1;32m    550\u001b[0m     \u001b[0mextobj\u001b[0m \u001b[0;34m=\u001b[0m \u001b[0mget_linalg_error_extobj\u001b[0m\u001b[0;34m(\u001b[0m\u001b[0m_raise_linalgerror_singular\u001b[0m\u001b[0;34m)\u001b[0m\u001b[0;34m\u001b[0m\u001b[0m\n\u001b[0;32m--> 551\u001b[0;31m     \u001b[0mainv\u001b[0m \u001b[0;34m=\u001b[0m \u001b[0m_umath_linalg\u001b[0m\u001b[0;34m.\u001b[0m\u001b[0minv\u001b[0m\u001b[0;34m(\u001b[0m\u001b[0ma\u001b[0m\u001b[0;34m,\u001b[0m \u001b[0msignature\u001b[0m\u001b[0;34m=\u001b[0m\u001b[0msignature\u001b[0m\u001b[0;34m,\u001b[0m \u001b[0mextobj\u001b[0m\u001b[0;34m=\u001b[0m\u001b[0mextobj\u001b[0m\u001b[0;34m)\u001b[0m\u001b[0;34m\u001b[0m\u001b[0m\n\u001b[0m\u001b[1;32m    552\u001b[0m     \u001b[0;32mreturn\u001b[0m \u001b[0mwrap\u001b[0m\u001b[0;34m(\u001b[0m\u001b[0mainv\u001b[0m\u001b[0;34m.\u001b[0m\u001b[0mastype\u001b[0m\u001b[0;34m(\u001b[0m\u001b[0mresult_t\u001b[0m\u001b[0;34m,\u001b[0m \u001b[0mcopy\u001b[0m\u001b[0;34m=\u001b[0m\u001b[0;32mFalse\u001b[0m\u001b[0;34m)\u001b[0m\u001b[0;34m)\u001b[0m\u001b[0;34m\u001b[0m\u001b[0m\n\u001b[1;32m    553\u001b[0m \u001b[0;34m\u001b[0m\u001b[0m\n",
      "\u001b[0;31mKeyboardInterrupt\u001b[0m: "
     ]
    }
   ],
   "source": [
    "results_large, recon_info = anandkumar_algo_lambda_wrapper(X_large, anand_lambdas)"
   ]
  },
  {
   "cell_type": "code",
   "execution_count": null,
   "metadata": {},
   "outputs": [],
   "source": []
  }
 ],
 "metadata": {
  "kernelspec": {
   "display_name": "Python 3",
   "language": "python",
   "name": "python3"
  },
  "language_info": {
   "codemirror_mode": {
    "name": "ipython",
    "version": 3
   },
   "file_extension": ".py",
   "mimetype": "text/x-python",
   "name": "python",
   "nbconvert_exporter": "python",
   "pygments_lexer": "ipython3",
   "version": "3.6.5"
  }
 },
 "nbformat": 4,
 "nbformat_minor": 2
}
