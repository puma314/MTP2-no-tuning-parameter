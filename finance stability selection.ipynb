{
 "cells": [
  {
   "cell_type": "code",
   "execution_count": 29,
   "metadata": {},
   "outputs": [
    {
     "name": "stdout",
     "output_type": "stream",
     "text": [
      "The autoreload extension is already loaded. To reload it, use:\n",
      "  %reload_ext autoreload\n"
     ]
    }
   ],
   "source": [
    "%load_ext autoreload\n",
    "%autoreload 2\n",
    "\n",
    "import numpy as np\n",
    "import random\n",
    "import networkx as nx\n",
    "import matplotlib.pyplot as plt\n",
    "import time\n",
    "from collections import namedtuple\n",
    "import pickle\n",
    "\n",
    "from final_algo import GET_ALGOS, get_algo_lambdas\n",
    "from paper_sims_util import omega_modularity\n",
    "\n",
    "AlgoParams = namedtuple('AlgoParams', 'stability_samples M pi')\n",
    "GraphParams = namedtuple('GraphParams', 'N eta p d ratios')"
   ]
  },
  {
   "cell_type": "code",
   "execution_count": 30,
   "metadata": {},
   "outputs": [],
   "source": [
    "num_stocks = 100\n",
    "run_id = 'first_finance_p_{}'.format(num_stocks)"
   ]
  },
  {
   "cell_type": "code",
   "execution_count": 31,
   "metadata": {},
   "outputs": [
    {
     "name": "stdout",
     "output_type": "stream",
     "text": [
      "(1257, 452)\n",
      "(452, 3)\n",
      "{'Financials', 'Telecommunications Services', 'Consumer Staples', 'Utilities', 'Energy', 'Materials', 'Industrials', 'Consumer Discretionary', 'Information Technology', 'Health Care'}\n",
      "(1257, 100)\n"
     ]
    }
   ],
   "source": [
    "stocks = np.load('stockdata_data.npy')\n",
    "stocks_log = np.diff(np.log(stocks), axis = 0)\n",
    "print(stocks_log.shape)\n",
    "\n",
    "info = np.load('stockdata_info.npy')\n",
    "print(info.shape)\n",
    "print(set(info[:, 1]))\n",
    "\n",
    "sector = info[:num_stocks, 1]\n",
    "S = np.cov(stocks_log[:, :num_stocks].T)\n",
    "X = stocks_log[:, :num_stocks]\n",
    "print(X.shape)"
   ]
  },
  {
   "cell_type": "code",
   "execution_count": 37,
   "metadata": {},
   "outputs": [
    {
     "name": "stdout",
     "output_type": "stream",
     "text": [
      "Currently on glasso\n",
      "Working on 0.1\n",
      "Working on 0.5\n",
      "Working on 1.0\n",
      "Working on 2.0\n",
      "Working on 8.0\n"
     ]
    },
    {
     "name": "stderr",
     "output_type": "stream",
     "text": [
      "/Users/umaroy/Documents/meng/MTP2-algorithm/paper_sims_util.py:34: RuntimeWarning: invalid value encountered in double_scalars\n",
      "  # print(k_i*k_j / (2*E))\n"
     ]
    },
    {
     "name": "stdout",
     "output_type": "stream",
     "text": [
      "nan\n",
      "Currently on nbsel\n",
      "Working on 0.1\n",
      "Working on 0.5\n",
      "Working on 1.0\n",
      "Working on 2.0\n",
      "Working on 8.0\n"
     ]
    },
    {
     "name": "stderr",
     "output_type": "stream",
     "text": [
      "/Users/umaroy/Documents/meng/MTP2-algorithm/paper_sims_util.py:34: RuntimeWarning: invalid value encountered in double_scalars\n",
      "  # print(k_i*k_j / (2*E))\n"
     ]
    },
    {
     "name": "stdout",
     "output_type": "stream",
     "text": [
      "nan\n",
      "Currently on anand\n",
      "Working on (0.006052784381982069, 1)\n",
      "Working on (0.06052784381982068, 1)\n",
      "Working on (0.48422275055856545, 1)\n",
      "-0.008814141414141318\n"
     ]
    }
   ],
   "source": [
    "algo_params = AlgoParams(stability_samples = 10, M = 7./9., pi = 0.8)\n",
    "graph_params = GraphParams(p=num_stocks, N = 1257, eta=1, ratios=None, d=None)\n",
    "with open('{}_algo_params.pkl'.format(run_id), 'wb') as f:\n",
    "    pickle.dump(algo_params, f)\n",
    "with open('{}_graph_params.pkl'.format(run_id), 'wb') as f:\n",
    "    pickle.dump(graph_params, f)\n",
    "with open('{}_sector_X.pkl'.format(run_id), 'wb') as f:\n",
    "    pickle.dump((sector, X), f)\n",
    "    \n",
    "algos = GET_ALGOS(algo_params.stability_samples)\n",
    "algo_lambdas = get_algo_lambdas(algo_params.M, graph_params.eta, graph_params.N, graph_params.p)\n",
    "np.random.seed(random.SystemRandom().randint(0, 2**32-2))\n",
    "ALL_RESULTS = {}\n",
    "for algo_name, algo in algos.items():\n",
    "    if algo_name in ['our', 'SH']:\n",
    "        continue\n",
    "    print(\"Currently on {}\".format(algo_name))\n",
    "    lambdas = algo_lambdas[algo_name]\n",
    "    if algo_name == 'our':\n",
    "        our_algo_res = algo(X, algo_params.M)\n",
    "        results = (our_algo_res, None, None)\n",
    "    else:\n",
    "        results = algo(X, lambdas, algo_params.pi)\n",
    "    ALL_RESULTS[algo_name] = results\n",
    "    with open('{}_{}_algo.pkl'.format(run_id, algo_name), 'wb') as f:\n",
    "        pickle.dump(results, f)\n",
    "    omega_hat = results[0]\n",
    "    mod = omega_modularity(omega_hat, sector)\n",
    "    print(mod)"
   ]
  },
  {
   "cell_type": "code",
   "execution_count": null,
   "metadata": {},
   "outputs": [],
   "source": [
    "mods = {}\n",
    "for algo_name in algos.keys():\n",
    "    print(algo_name)\n",
    "    with open('{}_{}_algo.pkl'.format(run_id, algo_name), 'rb') as f:\n",
    "        result = pickle.load(f)\n",
    "    omega_hat = result[0]\n",
    "    mod = omega_modularity(omega_hat, sector)\n",
    "    mods[algo_name] = mod\n",
    "print(mods)"
   ]
  },
  {
   "cell_type": "code",
   "execution_count": 34,
   "metadata": {},
   "outputs": [],
   "source": [
    "# with open(\"first_finance_p_100_SH_algo.pkl\", 'wb') as f:\n",
    "#     pickle.dump(ALL_RESULTS['SH'], f)"
   ]
  }
 ],
 "metadata": {
  "kernelspec": {
   "display_name": "Python 3",
   "language": "python",
   "name": "python3"
  },
  "language_info": {
   "codemirror_mode": {
    "name": "ipython",
    "version": 3
   },
   "file_extension": ".py",
   "mimetype": "text/x-python",
   "name": "python",
   "nbconvert_exporter": "python",
   "pygments_lexer": "ipython3",
   "version": "3.6.5"
  }
 },
 "nbformat": 4,
 "nbformat_minor": 2
}
