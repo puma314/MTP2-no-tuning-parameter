{
 "cells": [
  {
   "cell_type": "code",
   "execution_count": 2,
   "metadata": {},
   "outputs": [],
   "source": [
    "%load_ext autoreload\n",
    "%autoreload 2\n",
    "\n",
    "import numpy as np\n",
    "import random\n",
    "import networkx as nx\n",
    "import matplotlib.pyplot as plt\n",
    "import time\n",
    "from collections import namedtuple\n",
    "import pickle\n",
    "\n",
    "from final_algo import GET_ALGOS, get_algo_lambdas\n",
    "from paper_sims_util import omega_modularity\n",
    "\n",
    "AlgoParams = namedtuple('AlgoParams', 'stability_samples M pi')\n",
    "GraphParams = namedtuple('GraphParams', 'N eta p d ratios')"
   ]
  },
  {
   "cell_type": "code",
   "execution_count": 3,
   "metadata": {},
   "outputs": [],
   "source": [
    "num_stocks = 100\n",
    "run_id = 'large_stabsamps_finance_p_{}'.format(num_stocks)"
   ]
  },
  {
   "cell_type": "code",
   "execution_count": 4,
   "metadata": {},
   "outputs": [
    {
     "name": "stdout",
     "output_type": "stream",
     "text": [
      "(1257, 452)\n",
      "(452, 3)\n",
      "{'Consumer Staples', 'Telecommunications Services', 'Information Technology', 'Materials', 'Energy', 'Consumer Discretionary', 'Financials', 'Utilities', 'Industrials', 'Health Care'}\n",
      "(1257, 100)\n"
     ]
    }
   ],
   "source": [
    "stocks = np.load('stockdata_data.npy')\n",
    "stocks_log = np.diff(np.log(stocks), axis = 0)\n",
    "print(stocks_log.shape)\n",
    "\n",
    "info = np.load('stockdata_info.npy')\n",
    "print(info.shape)\n",
    "print(set(info[:, 1]))\n",
    "\n",
    "sector = info[:num_stocks, 1]\n",
    "S = np.cov(stocks_log[:, :num_stocks].T)\n",
    "X = stocks_log[:, :num_stocks]\n",
    "print(X.shape)"
   ]
  },
  {
   "cell_type": "code",
   "execution_count": 5,
   "metadata": {},
   "outputs": [
    {
     "name": "stdout",
     "output_type": "stream",
     "text": [
      "(1257, 452)\n"
     ]
    }
   ],
   "source": [
    "sector_large = info[:, 1]\n",
    "S_large = np.cov(stocks_log[:, :].T)\n",
    "X_large = stocks_log[:, :]\n",
    "print(X_large.shape)"
   ]
  },
  {
   "cell_type": "code",
   "execution_count": 6,
   "metadata": {},
   "outputs": [],
   "source": [
    "def kendall_cov(data):\n",
    "    df = pd.DataFrame(data)\n",
    "    kendall_corr_mat = df.corr(method='kendall').values\n",
    "    corr_mat = np.sin(0.5 * np.pi * kendall_corr_mat)\n",
    "    stdmat = np.diag(np.sqrt(np.diag(np.cov(data.T))))\n",
    "    return stdmat.dot(corr_mat).dot(stdmat)"
   ]
  },
  {
   "cell_type": "code",
   "execution_count": 9,
   "metadata": {},
   "outputs": [
    {
     "name": "stdout",
     "output_type": "stream",
     "text": [
      "Currently on SH\n",
      "IN SH STABILITY\n",
      "running single MTP\n",
      "done with single MTP 10.262763023376465\n",
      "running single MTP\n",
      "done with single MTP 9.332568168640137\n",
      "running single MTP\n",
      "done with single MTP 9.287232160568237\n",
      "running single MTP\n",
      "done with single MTP 9.479828119277954\n",
      "running single MTP\n",
      "done with single MTP 9.37214708328247\n",
      "running single MTP\n",
      "done with single MTP 9.328461170196533\n",
      "running single MTP\n",
      "done with single MTP 9.455199956893921\n",
      "running single MTP\n",
      "done with single MTP 9.381957054138184\n",
      "running single MTP\n",
      "done with single MTP 9.249487161636353\n",
      "running single MTP\n",
      "done with single MTP 9.25632905960083\n",
      "running single MTP\n",
      "done with single MTP 9.301454067230225\n",
      "running single MTP\n",
      "done with single MTP 9.482610940933228\n",
      "running single MTP\n",
      "done with single MTP 9.247582197189331\n",
      "running single MTP\n",
      "done with single MTP 9.256134271621704\n",
      "running single MTP\n",
      "done with single MTP 9.345211267471313\n",
      "running single MTP\n",
      "done with single MTP 9.27931022644043\n",
      "running single MTP\n",
      "done with single MTP 9.313935041427612\n",
      "running single MTP\n",
      "done with single MTP 9.36343502998352\n",
      "running single MTP\n",
      "done with single MTP 9.344273328781128\n",
      "running single MTP\n",
      "done with single MTP 9.262688875198364\n",
      "running single MTP\n",
      "done with single MTP 9.205026865005493\n",
      "running single MTP\n",
      "done with single MTP 9.519620895385742\n",
      "running single MTP\n",
      "done with single MTP 9.306922912597656\n",
      "running single MTP\n",
      "done with single MTP 9.260101079940796\n",
      "running single MTP\n",
      "done with single MTP 9.351975917816162\n",
      "running single MTP\n",
      "done with single MTP 9.293200254440308\n",
      "running single MTP\n",
      "done with single MTP 9.294474124908447\n",
      "running single MTP\n",
      "done with single MTP 9.261991262435913\n",
      "running single MTP\n",
      "done with single MTP 9.395188093185425\n",
      "running single MTP\n",
      "done with single MTP 9.370151996612549\n",
      "running single MTP\n",
      "done with single MTP 9.491225004196167\n",
      "running single MTP\n",
      "done with single MTP 9.248582124710083\n",
      "running single MTP\n",
      "done with single MTP 9.296751260757446\n",
      "running single MTP\n",
      "done with single MTP 9.274222135543823\n",
      "running single MTP\n",
      "done with single MTP 9.324100971221924\n",
      "running single MTP\n",
      "done with single MTP 9.313749074935913\n",
      "running single MTP\n",
      "done with single MTP 9.171828985214233\n",
      "running single MTP\n",
      "done with single MTP 9.41087007522583\n",
      "running single MTP\n",
      "done with single MTP 9.410630226135254\n",
      "running single MTP\n",
      "done with single MTP 9.390102863311768\n",
      "running single MTP\n",
      "done with single MTP 9.263794898986816\n",
      "running single MTP\n",
      "done with single MTP 9.311247825622559\n",
      "running single MTP\n",
      "done with single MTP 9.25477910041809\n",
      "running single MTP\n",
      "done with single MTP 9.547604084014893\n",
      "running single MTP\n",
      "done with single MTP 9.377886295318604\n",
      "running single MTP\n",
      "done with single MTP 9.238900899887085\n",
      "running single MTP\n",
      "done with single MTP 9.315344095230103\n",
      "running single MTP\n",
      "done with single MTP 9.285529851913452\n",
      "running single MTP\n",
      "done with single MTP 9.257220983505249\n",
      "running single MTP\n",
      "done with single MTP 9.307513236999512\n",
      "running single MTP\n",
      "done with single MTP 9.331002950668335\n",
      "running single MTP\n",
      "done with single MTP 9.437501192092896\n",
      "running single MTP\n",
      "done with single MTP 9.272995948791504\n",
      "running single MTP\n",
      "done with single MTP 9.3353750705719\n",
      "running single MTP\n",
      "done with single MTP 9.22600507736206\n",
      "running single MTP\n",
      "done with single MTP 9.667840003967285\n",
      "running single MTP\n",
      "done with single MTP 9.274554967880249\n",
      "running single MTP\n",
      "done with single MTP 9.217961072921753\n",
      "running single MTP\n",
      "done with single MTP 9.279968738555908\n",
      "running single MTP\n",
      "done with single MTP 9.238351106643677\n",
      "running single MTP\n",
      "done with single MTP 9.359565019607544\n",
      "running single MTP\n",
      "done with single MTP 9.272104978561401\n",
      "running single MTP\n",
      "done with single MTP 9.259817123413086\n",
      "running single MTP\n",
      "done with single MTP 9.317973852157593\n",
      "running single MTP\n",
      "done with single MTP 9.421349048614502\n",
      "running single MTP\n",
      "done with single MTP 9.32334280014038\n",
      "running single MTP\n",
      "done with single MTP 9.254925966262817\n",
      "running single MTP\n",
      "done with single MTP 9.351639986038208\n",
      "running single MTP\n",
      "done with single MTP 9.352970123291016\n",
      "running single MTP\n",
      "done with single MTP 9.274931907653809\n",
      "running single MTP\n",
      "done with single MTP 9.15865707397461\n",
      "running single MTP\n",
      "done with single MTP 9.230438947677612\n",
      "running single MTP\n",
      "done with single MTP 9.318579912185669\n",
      "running single MTP\n",
      "done with single MTP 9.295751810073853\n",
      "running single MTP\n",
      "done with single MTP 9.659168720245361\n",
      "running single MTP\n",
      "done with single MTP 9.455201864242554\n",
      "running single MTP\n",
      "done with single MTP 9.901546955108643\n",
      "running single MTP\n",
      "done with single MTP 9.414490938186646\n",
      "running single MTP\n",
      "done with single MTP 9.621741771697998\n",
      "running single MTP\n",
      "done with single MTP 9.397588014602661\n",
      "running single MTP\n",
      "done with single MTP 9.441878080368042\n",
      "running single MTP\n",
      "done with single MTP 9.383445024490356\n",
      "running single MTP\n",
      "done with single MTP 9.456399917602539\n",
      "running single MTP\n",
      "done with single MTP 9.484254121780396\n",
      "running single MTP\n",
      "done with single MTP 9.374424934387207\n",
      "running single MTP\n",
      "done with single MTP 9.384385108947754\n",
      "running single MTP\n",
      "done with single MTP 9.372822046279907\n",
      "running single MTP\n",
      "done with single MTP 9.388765096664429\n",
      "running single MTP\n",
      "done with single MTP 9.425564050674438\n",
      "running single MTP\n",
      "done with single MTP 9.569743871688843\n",
      "running single MTP\n",
      "done with single MTP 9.380733013153076\n",
      "running single MTP\n",
      "done with single MTP 9.45235300064087\n",
      "running single MTP\n",
      "done with single MTP 9.585986852645874\n",
      "running single MTP\n",
      "done with single MTP 9.365689039230347\n",
      "running single MTP\n",
      "done with single MTP 9.49859094619751\n",
      "running single MTP\n",
      "done with single MTP 9.399372100830078\n",
      "running single MTP\n",
      "done with single MTP 9.458789110183716\n",
      "running single MTP\n",
      "done with single MTP 9.410790920257568\n",
      "running single MTP\n",
      "done with single MTP 9.42755913734436\n",
      "running single MTP\n",
      "done with single MTP 9.319749116897583\n",
      "4.367048025131226 HIIIIIIIII\n",
      "0.41821131782205856\n"
     ]
    }
   ],
   "source": [
    "algo_params = AlgoParams(stability_samples = 100, M = 7./9., pi = 0.8)\n",
    "graph_params = GraphParams(p=num_stocks, N = 1257, eta=1, ratios=None, d=None)\n",
    "with open('{}_algo_params.pkl'.format(run_id), 'wb') as f:\n",
    "    pickle.dump(algo_params, f)\n",
    "with open('{}_graph_params.pkl'.format(run_id), 'wb') as f:\n",
    "    pickle.dump(graph_params, f)\n",
    "with open('{}_sector_X.pkl'.format(run_id), 'wb') as f:\n",
    "    pickle.dump((sector, X), f)\n",
    "    \n",
    "algos = GET_ALGOS(algo_params.stability_samples)\n",
    "#algo_lambdas = get_algo_lambdas(algo_params.M, graph_params.eta, graph_params.N, graph_params.p)\n",
    "algo_lambdas = {\n",
    "    'our': 7./9.,\n",
    "    'SH': [0.7, 0.8, 0.9, 0.95, 0.99, 1],\n",
    "    'nbsel':[0.0001, 0.0005, 0.001, 0.005, 0.01, 0.05, 0.1],\n",
    "    'glasso':  [0.0001, 0.0005, 0.001, 0.005, 0.01, 0.05, 0.1],\n",
    "    'anand': [(x, 1) for x in [0.0001, 0.0005, 0.001, 0.005, 0.01, 0.05, 0.1]]\n",
    "}\n",
    "with open('{}_algo_lambdas.pkl'.format(run_id), 'wb') as f:\n",
    "    pickle.dump(algo_lambdas, f)\n",
    "\n",
    "np.random.seed(random.SystemRandom().randint(0, 2**32-2))\n",
    "ALL_RESULTS = {}\n",
    "for algo_name, algo in algos.items():\n",
    "    if algo_name not in ['SH']:\n",
    "        continue\n",
    "    print(\"Currently on {}\".format(algo_name))\n",
    "    lambdas = algo_lambdas[algo_name]\n",
    "    if algo_name == 'our':\n",
    "        our_algo_res = algo(X, algo_params.M)\n",
    "        results = (our_algo_res, None, None)\n",
    "    else:\n",
    "        results = algo(X, lambdas, algo_params.pi)\n",
    "    ALL_RESULTS[algo_name] = results\n",
    "    with open('{}_{}_algo.pkl'.format(run_id, algo_name), 'wb') as f:\n",
    "        pickle.dump(results, f)\n",
    "    omega_hat = results[0]\n",
    "    mod = omega_modularity(omega_hat, sector)\n",
    "    print(mod)"
   ]
  },
  {
   "cell_type": "code",
   "execution_count": 159,
   "metadata": {},
   "outputs": [
    {
     "data": {
      "text/plain": [
       "{'our': 0.7777777777777778,\n",
       " 'SH': [0.7, 0.8, 0.9, 0.95, 0.99, 1],\n",
       " 'nbsel': [0.0001, 0.0005, 0.001, 0.005, 0.01, 0.05, 0.1],\n",
       " 'glasso': [0.0001, 0.0005, 0.001, 0.005, 0.01, 0.05, 0.1],\n",
       " 'anand': [(0.0001, 1),\n",
       "  (0.0005, 1),\n",
       "  (0.001, 1),\n",
       "  (0.005, 1),\n",
       "  (0.01, 1),\n",
       "  (0.05, 1),\n",
       "  (0.1, 1)]}"
      ]
     },
     "execution_count": 159,
     "metadata": {},
     "output_type": "execute_result"
    }
   ],
   "source": [
    "algo_lambdas"
   ]
  },
  {
   "cell_type": "code",
   "execution_count": 146,
   "metadata": {},
   "outputs": [
    {
     "name": "stderr",
     "output_type": "stream",
     "text": [
      "/usr/local/lib/python3.6/site-packages/sklearn/model_selection/_split.py:2053: FutureWarning: You should specify a value for 'cv' instead of relying on the default value. The default value will change from 3 to 5 in version 0.22.\n",
      "  warnings.warn(CV_WARNING, FutureWarning)\n",
      "/usr/local/lib/python3.6/site-packages/sklearn/covariance/graph_lasso_.py:240: RuntimeWarning: invalid value encountered in multiply\n",
      "  * coefs)\n",
      "/usr/local/lib/python3.6/site-packages/sklearn/covariance/graph_lasso_.py:242: RuntimeWarning: invalid value encountered in multiply\n",
      "  * coefs)\n"
     ]
    },
    {
     "name": "stdout",
     "output_type": "stream",
     "text": [
      "4.6585170605110035e-09\n",
      "0.2528009192760698\n"
     ]
    }
   ],
   "source": [
    "glasso_cv = sklearn.covariance.GraphicalLassoCV(20)\n",
    "glasso_cv.fit(np.cov(X.T))\n",
    "omega_hat = glasso_cv.get_precision()\n",
    "non_zero = np.nonzero(omega_hat)\n",
    "N, p = X.shape\n",
    "A = np.zeros((p,p))\n",
    "A[non_zero] = 1\n",
    "print(glasso_cv.alpha_)\n",
    "print(omega_modularity(A, sector))"
   ]
  },
  {
   "cell_type": "code",
   "execution_count": 13,
   "metadata": {},
   "outputs": [
    {
     "name": "stdout",
     "output_type": "stream",
     "text": [
      "-0.008814141414141318\n"
     ]
    }
   ],
   "source": [
    "with open('first_finance_p_100_anand_algo.pkl', 'rb') as f:\n",
    "    anand_result = pickle.load(f)\n",
    "    omega_hat = anand_result[0]\n",
    "    mod = omega_modularity(omega_hat, sector)\n",
    "    print(mod)"
   ]
  },
  {
   "cell_type": "code",
   "execution_count": 12,
   "metadata": {},
   "outputs": [
    {
     "name": "stdout",
     "output_type": "stream",
     "text": [
      "our\n",
      "SH\n",
      "glasso\n",
      "nbsel\n",
      "anand\n",
      "{'SH': 0.41821131782205856, 'glasso': 0, 'nbsel': 0.3501047863710129}\n"
     ]
    }
   ],
   "source": [
    "mods = {}\n",
    "for algo_name in algos.keys():\n",
    "    print(algo_name)\n",
    "    try:\n",
    "        with open('{}_{}_algo.pkl'.format(run_id, algo_name), 'rb') as f:\n",
    "            result = pickle.load(f)\n",
    "    except:\n",
    "        continue\n",
    "    if type(result) is dict:\n",
    "        result = next(iter(result.values()))\n",
    "    omega_hat = result[0]\n",
    "    mod = omega_modularity(omega_hat, sector)\n",
    "    mods[algo_name] = mod\n",
    "print(mods)"
   ]
  },
  {
   "cell_type": "code",
   "execution_count": 181,
   "metadata": {},
   "outputs": [
    {
     "name": "stdout",
     "output_type": "stream",
     "text": [
      "[(1, 1e-06), (1, 2.3930257311804994e-06), (1, 5.7265721500919525e-06), (1, 1.370383450663168e-05), (1, 3.279362859020883e-05), (1, 7.847599703514623e-05), (1, 0.00018779508018514912), (1, 0.00044939845907216705), (1, 0.001075422076112561), (1, 0.00257351270001691), (1, 0.006158482110660267), (1, 0.014737406155824811), (1, 0.03526699214174659), (1, 0.08439481965654007), (1, 0.20195897501643817), (1, 0.4832930238571752), (1, 1.1565326417902513), (1, 2.7676123707542306), (1, 6.622967617148325), (1, 15.848931924611133)]\n",
      "Working on 1 1e-06\n",
      "Working on 1 2.3930257311804994e-06\n",
      "Working on 1 5.7265721500919525e-06\n",
      "Working on 1 1.370383450663168e-05\n",
      "Working on 1 3.279362859020883e-05\n",
      "Working on 1 7.847599703514623e-05\n",
      "Working on 1 0.00018779508018514912\n",
      "Working on 1 0.00044939845907216705\n",
      "Working on 1 0.001075422076112561\n",
      "Working on 1 0.00257351270001691\n",
      "Working on 1 0.006158482110660267\n",
      "Working on 1 0.014737406155824811\n",
      "Working on 1 0.03526699214174659\n",
      "Working on 1 0.08439481965654007\n",
      "Working on 1 0.20195897501643817\n",
      "Working on 1 0.4832930238571752\n",
      "Working on 1 1.1565326417902513\n",
      "Working on 1 2.7676123707542306\n",
      "Working on 1 6.622967617148325\n",
      "Working on 1 15.848931924611133\n"
     ]
    }
   ],
   "source": [
    "from final_algo import anandkumar_algo_lambda_wrapper\n",
    "anand_lambdas = [(1,x) for x in np.logspace(-6,1.2, num=20)]\n",
    "print(anand_lambdas)\n",
    "results, recon_info = anandkumar_algo_lambda_wrapper(X, anand_lambdas)"
   ]
  },
  {
   "cell_type": "code",
   "execution_count": 182,
   "metadata": {},
   "outputs": [
    {
     "name": "stdout",
     "output_type": "stream",
     "text": [
      "-0.008814141414141318\n",
      "-0.008814141414141318\n",
      "-0.008814141414141318\n",
      "-0.008814141414141318\n",
      "-0.008814141414141318\n",
      "-0.008814141414141318\n",
      "-0.008814141414141318\n",
      "-0.008814141414141318\n",
      "-0.008814141414141318\n",
      "-0.008814141414141318\n",
      "-0.008814141414141318\n",
      "-0.008814141414141318\n",
      "-0.008795782290459762\n",
      "-0.008992033591761496\n",
      "-0.008963865582473538\n",
      "-0.009032287441955769\n",
      "-0.009675122886049393\n",
      "-0.00955680432202777\n",
      "-0.008508482986767473\n",
      "-0.008954113555868537\n"
     ]
    }
   ],
   "source": [
    "for params, omega_hat in results.items():\n",
    "    print(omega_modularity(omega_hat, sector))"
   ]
  },
  {
   "cell_type": "code",
   "execution_count": 190,
   "metadata": {},
   "outputs": [
    {
     "name": "stdout",
     "output_type": "stream",
     "text": [
      "Working on 1 1e-06\n"
     ]
    },
    {
     "ename": "KeyboardInterrupt",
     "evalue": "",
     "output_type": "error",
     "traceback": [
      "\u001b[0;31m---------------------------------------------------------------------------\u001b[0m",
      "\u001b[0;31mKeyboardInterrupt\u001b[0m                         Traceback (most recent call last)",
      "\u001b[0;32m<ipython-input-190-12d88d64b592>\u001b[0m in \u001b[0;36m<module>\u001b[0;34m()\u001b[0m\n\u001b[0;32m----> 1\u001b[0;31m \u001b[0mresults_large\u001b[0m\u001b[0;34m,\u001b[0m \u001b[0mrecon_info\u001b[0m \u001b[0;34m=\u001b[0m \u001b[0manandkumar_algo_lambda_wrapper\u001b[0m\u001b[0;34m(\u001b[0m\u001b[0mX_large\u001b[0m\u001b[0;34m,\u001b[0m \u001b[0manand_lambdas\u001b[0m\u001b[0;34m)\u001b[0m\u001b[0;34m\u001b[0m\u001b[0m\n\u001b[0m",
      "\u001b[0;32m~/Documents/meng/MTP2-algorithm/final_algo.py\u001b[0m in \u001b[0;36manandkumar_algo_lambda_wrapper\u001b[0;34m(X, lambdas)\u001b[0m\n\u001b[1;32m    363\u001b[0m                             \u001b[0mpc\u001b[0m \u001b[0;34m=\u001b[0m \u001b[0mpartial_covs\u001b[0m\u001b[0;34m[\u001b[0m\u001b[0mtuple\u001b[0m\u001b[0;34m(\u001b[0m\u001b[0msubset_i_j\u001b[0m\u001b[0;34m)\u001b[0m\u001b[0;34m]\u001b[0m\u001b[0;34m\u001b[0m\u001b[0m\n\u001b[1;32m    364\u001b[0m                         \u001b[0;32melse\u001b[0m\u001b[0;34m:\u001b[0m\u001b[0;34m\u001b[0m\u001b[0m\n\u001b[0;32m--> 365\u001b[0;31m                             \u001b[0mpc\u001b[0m \u001b[0;34m=\u001b[0m \u001b[0mnp\u001b[0m\u001b[0;34m.\u001b[0m\u001b[0mabs\u001b[0m\u001b[0;34m(\u001b[0m\u001b[0mpartial_cov\u001b[0m\u001b[0;34m(\u001b[0m\u001b[0msample_cov\u001b[0m\u001b[0;34m,\u001b[0m \u001b[0msubset_i_j\u001b[0m\u001b[0;34m,\u001b[0m \u001b[0mi\u001b[0m\u001b[0;34m,\u001b[0m \u001b[0mj\u001b[0m\u001b[0;34m)\u001b[0m\u001b[0;34m)\u001b[0m\u001b[0;34m\u001b[0m\u001b[0m\n\u001b[0m\u001b[1;32m    366\u001b[0m                             \u001b[0mpartial_covs\u001b[0m\u001b[0;34m[\u001b[0m\u001b[0mtuple\u001b[0m\u001b[0;34m(\u001b[0m\u001b[0msubset_i_j\u001b[0m\u001b[0;34m)\u001b[0m\u001b[0;34m]\u001b[0m \u001b[0;34m=\u001b[0m \u001b[0mpc\u001b[0m\u001b[0;34m\u001b[0m\u001b[0m\n\u001b[1;32m    367\u001b[0m                         \u001b[0;32mif\u001b[0m  \u001b[0mpc\u001b[0m \u001b[0;34m<=\u001b[0m \u001b[0mxi\u001b[0m\u001b[0;34m:\u001b[0m\u001b[0;34m\u001b[0m\u001b[0m\n",
      "\u001b[0;32m~/Documents/meng/MTP2-algorithm/final_algo.py\u001b[0m in \u001b[0;36mpartial_cov\u001b[0;34m(S, subset, k, l)\u001b[0m\n\u001b[1;32m     73\u001b[0m     \u001b[0mix_grid\u001b[0m \u001b[0;34m=\u001b[0m \u001b[0mnp\u001b[0m\u001b[0;34m.\u001b[0m\u001b[0mix_\u001b[0m\u001b[0;34m(\u001b[0m\u001b[0msubset\u001b[0m\u001b[0;34m,\u001b[0m \u001b[0msubset\u001b[0m\u001b[0;34m)\u001b[0m\u001b[0;34m\u001b[0m\u001b[0m\n\u001b[1;32m     74\u001b[0m     \u001b[0msubmatrix\u001b[0m \u001b[0;34m=\u001b[0m \u001b[0mS\u001b[0m\u001b[0;34m[\u001b[0m\u001b[0mix_grid\u001b[0m\u001b[0;34m]\u001b[0m\u001b[0;34m\u001b[0m\u001b[0m\n\u001b[0;32m---> 75\u001b[0;31m     \u001b[0minv\u001b[0m \u001b[0;34m=\u001b[0m \u001b[0mnp\u001b[0m\u001b[0;34m.\u001b[0m\u001b[0mlinalg\u001b[0m\u001b[0;34m.\u001b[0m\u001b[0minv\u001b[0m\u001b[0;34m(\u001b[0m\u001b[0msubmatrix\u001b[0m\u001b[0;34m)\u001b[0m\u001b[0;34m\u001b[0m\u001b[0m\n\u001b[0m\u001b[1;32m     76\u001b[0m     \u001b[0mk_idx\u001b[0m \u001b[0;34m=\u001b[0m \u001b[0msubset\u001b[0m\u001b[0;34m.\u001b[0m\u001b[0mindex\u001b[0m\u001b[0;34m(\u001b[0m\u001b[0mk\u001b[0m\u001b[0;34m)\u001b[0m\u001b[0;34m\u001b[0m\u001b[0m\n\u001b[1;32m     77\u001b[0m     \u001b[0ml_idx\u001b[0m \u001b[0;34m=\u001b[0m \u001b[0msubset\u001b[0m\u001b[0;34m.\u001b[0m\u001b[0mindex\u001b[0m\u001b[0;34m(\u001b[0m\u001b[0ml\u001b[0m\u001b[0;34m)\u001b[0m\u001b[0;34m\u001b[0m\u001b[0m\n",
      "\u001b[0;32m/usr/local/lib/python3.6/site-packages/numpy/linalg/linalg.py\u001b[0m in \u001b[0;36minv\u001b[0;34m(a)\u001b[0m\n\u001b[1;32m    549\u001b[0m     \u001b[0msignature\u001b[0m \u001b[0;34m=\u001b[0m \u001b[0;34m'D->D'\u001b[0m \u001b[0;32mif\u001b[0m \u001b[0misComplexType\u001b[0m\u001b[0;34m(\u001b[0m\u001b[0mt\u001b[0m\u001b[0;34m)\u001b[0m \u001b[0;32melse\u001b[0m \u001b[0;34m'd->d'\u001b[0m\u001b[0;34m\u001b[0m\u001b[0m\n\u001b[1;32m    550\u001b[0m     \u001b[0mextobj\u001b[0m \u001b[0;34m=\u001b[0m \u001b[0mget_linalg_error_extobj\u001b[0m\u001b[0;34m(\u001b[0m\u001b[0m_raise_linalgerror_singular\u001b[0m\u001b[0;34m)\u001b[0m\u001b[0;34m\u001b[0m\u001b[0m\n\u001b[0;32m--> 551\u001b[0;31m     \u001b[0mainv\u001b[0m \u001b[0;34m=\u001b[0m \u001b[0m_umath_linalg\u001b[0m\u001b[0;34m.\u001b[0m\u001b[0minv\u001b[0m\u001b[0;34m(\u001b[0m\u001b[0ma\u001b[0m\u001b[0;34m,\u001b[0m \u001b[0msignature\u001b[0m\u001b[0;34m=\u001b[0m\u001b[0msignature\u001b[0m\u001b[0;34m,\u001b[0m \u001b[0mextobj\u001b[0m\u001b[0;34m=\u001b[0m\u001b[0mextobj\u001b[0m\u001b[0;34m)\u001b[0m\u001b[0;34m\u001b[0m\u001b[0m\n\u001b[0m\u001b[1;32m    552\u001b[0m     \u001b[0;32mreturn\u001b[0m \u001b[0mwrap\u001b[0m\u001b[0;34m(\u001b[0m\u001b[0mainv\u001b[0m\u001b[0;34m.\u001b[0m\u001b[0mastype\u001b[0m\u001b[0;34m(\u001b[0m\u001b[0mresult_t\u001b[0m\u001b[0;34m,\u001b[0m \u001b[0mcopy\u001b[0m\u001b[0;34m=\u001b[0m\u001b[0;32mFalse\u001b[0m\u001b[0;34m)\u001b[0m\u001b[0;34m)\u001b[0m\u001b[0;34m\u001b[0m\u001b[0m\n\u001b[1;32m    553\u001b[0m \u001b[0;34m\u001b[0m\u001b[0m\n",
      "\u001b[0;31mKeyboardInterrupt\u001b[0m: "
     ]
    }
   ],
   "source": [
    "results_large, recon_info = anandkumar_algo_lambda_wrapper(X_large, anand_lambdas)"
   ]
  },
  {
   "cell_type": "code",
   "execution_count": null,
   "metadata": {},
   "outputs": [],
   "source": []
  }
 ],
 "metadata": {
  "kernelspec": {
   "display_name": "Python 3",
   "language": "python",
   "name": "python3"
  },
  "language_info": {
   "codemirror_mode": {
    "name": "ipython",
    "version": 3
   },
   "file_extension": ".py",
   "mimetype": "text/x-python",
   "name": "python",
   "nbconvert_exporter": "python",
   "pygments_lexer": "ipython3",
   "version": "3.6.5"
  }
 },
 "nbformat": 4,
 "nbformat_minor": 2
}
