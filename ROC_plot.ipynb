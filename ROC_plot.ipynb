{
 "cells": [
  {
   "cell_type": "code",
   "execution_count": 74,
   "metadata": {},
   "outputs": [
    {
     "name": "stdout",
     "output_type": "stream",
     "text": [
      "The autoreload extension is already loaded. To reload it, use:\n",
      "  %reload_ext autoreload\n"
     ]
    }
   ],
   "source": [
    "%load_ext autoreload\n",
    "%autoreload 2\n",
    "import pickle\n",
    "import numpy as np\n",
    "from collections import namedtuple, defaultdict\n",
    "import matplotlib.pyplot as plt\n",
    "import seaborn as sns\n",
    "%matplotlib inline\n",
    "import pandas as pd\n",
    "from final_algo import attr_threshold\n",
    "from paper_sims_util import confusion\n",
    "import time"
   ]
  },
  {
   "cell_type": "code",
   "execution_count": 488,
   "metadata": {},
   "outputs": [],
   "source": [
    "from final_algo import GET_ALGOS_ROC"
   ]
  },
  {
   "cell_type": "code",
   "execution_count": 489,
   "metadata": {},
   "outputs": [],
   "source": [
    "algos = GET_ALGOS_ROC()\n",
    "sh_alg = algos['SH']"
   ]
  },
  {
   "cell_type": "code",
   "execution_count": 494,
   "metadata": {},
   "outputs": [],
   "source": [
    "from paper_sims_util import random_graph\n",
    "X = np.random.multivariate_normal(np.zeros(100), np.linalg.inv(random_graph(100, 0.01)),25)"
   ]
  },
  {
   "cell_type": "code",
   "execution_count": 495,
   "metadata": {},
   "outputs": [
    {
     "data": {
      "text/plain": [
       "(25, 100)"
      ]
     },
     "execution_count": 495,
     "metadata": {},
     "output_type": "execute_result"
    }
   ],
   "source": [
    "X.shape"
   ]
  },
  {
   "cell_type": "code",
   "execution_count": 498,
   "metadata": {},
   "outputs": [
    {
     "name": "stdout",
     "output_type": "stream",
     "text": [
      "9.741411209106445\n"
     ]
    }
   ],
   "source": [
    "import time\n",
    "start = time.time()\n",
    "sh_alg(X, [0.6, 0.8, 0.9])\n",
    "end = time.time()\n",
    "print(end-start)"
   ]
  },
  {
   "cell_type": "code",
   "execution_count": 503,
   "metadata": {},
   "outputs": [
    {
     "name": "stdout",
     "output_type": "stream",
     "text": [
      "Running new algorithm\n",
      "N=25, M=12\n",
      "Working on l = 0\n",
      "Working on l = 1\n",
      "Working on l = 2\n",
      "6.137267351150513\n",
      "Running new algorithm\n",
      "N=25, M=21\n",
      "Working on l = 0\n",
      "Working on l = 1\n",
      "Working on l = 2\n",
      "Working on l = 3\n",
      "Working on l = 4\n",
      "47.9787540435791\n",
      "Running new algorithm\n",
      "N=25, M=24\n",
      "Working on l = 0\n",
      "Working on l = 1\n",
      "Working on l = 2\n",
      "Working on l = 3\n",
      "Working on l = 4\n",
      "Working on l = 5\n",
      "Working on l = 6\n",
      "162.845618724823\n"
     ]
    }
   ],
   "source": [
    "start = time.time()\n",
    "algos['our'](X, 7./9.)\n",
    "print(time.time() - start)\n",
    "start2 = time.time()\n",
    "algos['our'](X, 0.95)\n",
    "print(time.time() - start2)\n",
    "start3 = time.time()\n",
    "algos['our'](X, 0.99)\n",
    "print(time.time() - start3)"
   ]
  },
  {
   "cell_type": "code",
   "execution_count": 500,
   "metadata": {},
   "outputs": [
    {
     "name": "stdout",
     "output_type": "stream",
     "text": [
      "Working on 2 0.001\n",
      "136.79563808441162\n"
     ]
    }
   ],
   "source": [
    "start = time.time()\n",
    "anand = algos['anand']\n",
    "anand(X, [(2,0.001)])\n",
    "print(time.time()-start)"
   ]
  },
  {
   "cell_type": "code",
   "execution_count": null,
   "metadata": {},
   "outputs": [],
   "source": [
    "#ls ROC_N_25_p_50_*result* | wc -l\n",
    "#scp uma@uhlergroup.mit.edu:~/MTP2-algorithm/ROC_N_25* ."
   ]
  },
  {
   "cell_type": "code",
   "execution_count": 504,
   "metadata": {},
   "outputs": [],
   "source": [
    "N = 25\n",
    "p = 100\n",
    "d = 0.01\n",
    "if d is None:\n",
    "    run_name = 'ROC_N_{}_p_{}'.format(N, p)\n",
    "    d = 0.01\n",
    "else:\n",
    "    run_name = 'ROC_N_{}_p_{}_d_{}'.format(N, p, d)\n",
    "NUM_GRAPHS = 50"
   ]
  },
  {
   "cell_type": "code",
   "execution_count": 505,
   "metadata": {
    "scrolled": true
   },
   "outputs": [
    {
     "name": "stdout",
     "output_type": "stream",
     "text": [
      "10 unique runs\n"
     ]
    }
   ],
   "source": [
    "if not os.path.isfile(\"{}_df.pkl\".format(run_name)):\n",
    "    all_results = []\n",
    "    data = []\n",
    "    for graph_num in range(NUM_GRAPHS):\n",
    "        #print(graph_num)\n",
    "        try:\n",
    "            res = pickle.load(open('{}_{}_result.pkl'.format(run_name, graph_num), 'rb'))\n",
    "        except:\n",
    "            continue\n",
    "        _, FPTP_dict, omega, _, recon_info = res\n",
    "        all_results.append(FPTP_dict)\n",
    "        for algo_name in FPTP_dict.keys():\n",
    "            SH_special = False\n",
    "            if algo_name == 'SH' and SH_special:\n",
    "                start = time.time()\n",
    "                SH_prec = recon_info['SH']\n",
    "                for q in np.linspace(0.05, 1., num=40):\n",
    "                    omega_hat = attr_threshold(SH_prec, q)\n",
    "                    TP, TN, FP, FN = confusion(omega_hat, omega)\n",
    "                    TPR = TP/(TP + FN)\n",
    "                    FPR = FP/(FP + TN)\n",
    "                    data.append((graph_num, algo_name, tuple((q,)), FPR, TPR))\n",
    "                end = time.time()\n",
    "                #print(end-start)\n",
    "            else:\n",
    "                for lamb, (FPR, TPR) in FPTP_dict[algo_name].items():\n",
    "                    if type(lamb) != tuple:\n",
    "                        lamb = tuple((lamb,))\n",
    "                    data.append((graph_num, algo_name, lamb, FPR, TPR))\n",
    "    df = pd.DataFrame(data, columns = ['RunID', 'AlgoName', 'lambda', 'FPR', 'TPR'])\n",
    "    df.to_pickle('{}_df.pkl'.format(run_name))\n",
    "    print(len(all_results), 'unique runs')\n",
    "else:\n",
    "    print(\"Loaded df {}\".format(run_name))\n",
    "    df = pd.read_pickle(\"{}_df.pkl\".format(run_name))\n",
    "    print(df.RunID.nunique(), 'unique runs')"
   ]
  },
  {
   "cell_type": "code",
   "execution_count": 506,
   "metadata": {},
   "outputs": [],
   "source": [
    "agg_data = []\n",
    "for key, item in df.groupby(['AlgoName', 'lambda']):\n",
    "    FPR_rate = item.FPR.mean()\n",
    "    TPR_rate = item.TPR.mean()\n",
    "    algo_name = key[0]\n",
    "    agg_data.append((algo_name, key[1], FPR_rate, TPR_rate))"
   ]
  },
  {
   "cell_type": "code",
   "execution_count": 507,
   "metadata": {},
   "outputs": [],
   "source": [
    "agg_df = pd.DataFrame(agg_data, columns=['Algorithm', 'Lambda', 'False Positive Rate', 'True Positive Rate'])"
   ]
  },
  {
   "cell_type": "code",
   "execution_count": 512,
   "metadata": {},
   "outputs": [],
   "source": [
    "small_df = agg_df[agg_df['Algorithm'].isin(['SH', 'our', 'glasso'])]"
   ]
  },
  {
   "cell_type": "code",
   "execution_count": 509,
   "metadata": {},
   "outputs": [],
   "source": [
    "nice_names = {\n",
    "    'our': \"Our Algorithm\",\n",
    "    'SH': 'Slawski-Hein',\n",
    "    'glasso': 'Graphical Lasso',\n",
    "    'nbsel': 'Neighborhood Selection',\n",
    "    'anand': 'CCT'\n",
    "}"
   ]
  },
  {
   "cell_type": "code",
   "execution_count": 515,
   "metadata": {},
   "outputs": [
    {
     "name": "stderr",
     "output_type": "stream",
     "text": [
      "/usr/local/lib/python3.6/site-packages/scipy/stats/stats.py:1706: FutureWarning: Using a non-tuple sequence for multidimensional indexing is deprecated; use `arr[tuple(seq)]` instead of `arr[seq]`. In the future this will be interpreted as an array index, `arr[np.array(seq)]`, which will result either in an error or a different result.\n",
      "  return np.add.reduce(sorted[indexer] * weights, axis=axis) / sumval\n"
     ]
    },
    {
     "data": {
      "image/png": "[encoded data removed]",
      "text/plain": [
       "<Figure size 360x360 with 1 Axes>"
      ]
     },
     "metadata": {},
     "output_type": "display_data"
    }
   ],
   "source": [
    "g = sns.relplot(x='False Positive Rate', y='True Positive Rate', data = agg_df, kind='line', \n",
    "            hue='Algorithm',\n",
    "            hue_order=nice_names.keys(),\n",
    "            style='Algorithm',\n",
    "            markers = True,\n",
    "            legend=False)\n",
    "g.fig.get_axes()[0].legend(nice_names.values())\n",
    "g.fig.get_axes()[0].set_title(\"ROC Curve random graph p={} d={} N={}\".format(p,d,N))\n",
    "g.fig.savefig(\"{}.png\".format(run_name))"
   ]
  },
  {
   "cell_type": "code",
   "execution_count": null,
   "metadata": {},
   "outputs": [],
   "source": []
  },
  {
   "cell_type": "code",
   "execution_count": null,
   "metadata": {},
   "outputs": [],
   "source": []
  }
 ],
 "metadata": {
  "kernelspec": {
   "display_name": "Python 3",
   "language": "python",
   "name": "python3"
  },
  "language_info": {
   "codemirror_mode": {
    "name": "ipython",
    "version": 3
   },
   "file_extension": ".py",
   "mimetype": "text/x-python",
   "name": "python",
   "nbconvert_exporter": "python",
   "pygments_lexer": "ipython3",
   "version": "3.6.5"
  }
 },
 "nbformat": 4,
 "nbformat_minor": 2
}
