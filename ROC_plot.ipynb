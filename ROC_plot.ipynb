{
 "cells": [
  {
   "cell_type": "code",
   "execution_count": 1,
   "metadata": {},
   "outputs": [],
   "source": [
    "%load_ext autoreload\n",
    "%autoreload 2\n",
    "import pickle\n",
    "import numpy as np\n",
    "from collections import namedtuple, defaultdict\n",
    "import matplotlib.pyplot as plt\n",
    "import seaborn as sns\n",
    "%matplotlib inline\n",
    "import pandas as pd"
   ]
  },
  {
   "cell_type": "code",
   "execution_count": 57,
   "metadata": {},
   "outputs": [],
   "source": [
    "run_name = 'ROC'\n",
    "NUM_GRAPHS = 10"
   ]
  },
  {
   "cell_type": "code",
   "execution_count": 58,
   "metadata": {},
   "outputs": [],
   "source": [
    "all_results = []\n",
    "data = []\n",
    "for graph_num in range(NUM_GRAPHS):\n",
    "    res = pickle.load(open('{}_{}_result.pkl'.format(run_name, graph_num), 'rb'))\n",
    "    _, FPTP_dict, _, _, _ = res\n",
    "    all_results.append(FPTP_dict)\n",
    "    for algo_name in FPTP_dict.keys():\n",
    "        for lamb, (FPR, TPR) in FPTP_dict[algo_name].items():\n",
    "            if type(lamb) != tuple:\n",
    "                lamb = tuple((lamb,))\n",
    "            data.append((graph_num, algo_name, lamb, FPR, TPR))"
   ]
  },
  {
   "cell_type": "code",
   "execution_count": 59,
   "metadata": {},
   "outputs": [],
   "source": [
    "df = pd.DataFrame(data, columns = ['RunID', 'AlgoName', 'lambda', 'FPR', 'TPR'])\n",
    "agg_data = []\n",
    "for key, item in df.groupby(['AlgoName', 'lambda']):\n",
    "    FPR_rate = item.FPR.mean()\n",
    "    TPR_rate = item.TPR.mean()\n",
    "    algo_name = key[0]\n",
    "    agg_data.append((algo_name, key[1], FPR_rate, TPR_rate))"
   ]
  },
  {
   "cell_type": "code",
   "execution_count": 60,
   "metadata": {},
   "outputs": [
    {
     "data": {
      "text/html": [
       "<div>\n",
       "<style scoped>\n",
       "    .dataframe tbody tr th:only-of-type {\n",
       "        vertical-align: middle;\n",
       "    }\n",
       "\n",
       "    .dataframe tbody tr th {\n",
       "        vertical-align: top;\n",
       "    }\n",
       "\n",
       "    .dataframe thead th {\n",
       "        text-align: right;\n",
       "    }\n",
       "</style>\n",
       "<table border=\"1\" class=\"dataframe\">\n",
       "  <thead>\n",
       "    <tr style=\"text-align: right;\">\n",
       "      <th></th>\n",
       "      <th>Algo Name</th>\n",
       "      <th>Lambda</th>\n",
       "      <th>mean_FPR</th>\n",
       "      <th>mean_TPR</th>\n",
       "    </tr>\n",
       "  </thead>\n",
       "  <tbody>\n",
       "    <tr>\n",
       "      <th>0</th>\n",
       "      <td>SH</td>\n",
       "      <td>(0.6,)</td>\n",
       "      <td>0.249872</td>\n",
       "      <td>0.471111</td>\n",
       "    </tr>\n",
       "    <tr>\n",
       "      <th>1</th>\n",
       "      <td>SH</td>\n",
       "      <td>(0.7,)</td>\n",
       "      <td>0.300243</td>\n",
       "      <td>0.523889</td>\n",
       "    </tr>\n",
       "    <tr>\n",
       "      <th>2</th>\n",
       "      <td>SH</td>\n",
       "      <td>(0.75,)</td>\n",
       "      <td>0.324488</td>\n",
       "      <td>0.523889</td>\n",
       "    </tr>\n",
       "    <tr>\n",
       "      <th>3</th>\n",
       "      <td>SH</td>\n",
       "      <td>(0.8,)</td>\n",
       "      <td>0.355717</td>\n",
       "      <td>0.548889</td>\n",
       "    </tr>\n",
       "    <tr>\n",
       "      <th>4</th>\n",
       "      <td>SH</td>\n",
       "      <td>(0.85,)</td>\n",
       "      <td>0.367974</td>\n",
       "      <td>0.565556</td>\n",
       "    </tr>\n",
       "  </tbody>\n",
       "</table>\n",
       "</div>"
      ],
      "text/plain": [
       "  Algo Name   Lambda  mean_FPR  mean_TPR\n",
       "0        SH   (0.6,)  0.249872  0.471111\n",
       "1        SH   (0.7,)  0.300243  0.523889\n",
       "2        SH  (0.75,)  0.324488  0.523889\n",
       "3        SH   (0.8,)  0.355717  0.548889\n",
       "4        SH  (0.85,)  0.367974  0.565556"
      ]
     },
     "execution_count": 60,
     "metadata": {},
     "output_type": "execute_result"
    }
   ],
   "source": [
    "agg_df = pd.DataFrame(agg_data, columns=['Algo Name', 'Lambda', 'mean_FPR', 'mean_TPR'])\n",
    "agg_df.head()"
   ]
  },
  {
   "cell_type": "code",
   "execution_count": 61,
   "metadata": {},
   "outputs": [
    {
     "name": "stderr",
     "output_type": "stream",
     "text": [
      "/usr/local/lib/python3.6/site-packages/scipy/stats/stats.py:1706: FutureWarning: Using a non-tuple sequence for multidimensional indexing is deprecated; use `arr[tuple(seq)]` instead of `arr[seq]`. In the future this will be interpreted as an array index, `arr[np.array(seq)]`, which will result either in an error or a different result.\n",
      "  return np.add.reduce(sorted[indexer] * weights, axis=axis) / sumval\n"
     ]
    },
    {
     "data": {
      "image/png": "[encoded data removed]",
      "text/plain": [
       "<Figure size 450.625x360 with 1 Axes>"
      ]
     },
     "metadata": {},
     "output_type": "display_data"
    }
   ],
   "source": [
    "g = sns.relplot(x='mean_FPR', y='mean_TPR', data = agg_df, kind='line', \n",
    "            hue='Algo Name',\n",
    "            style='Algo Name',\n",
    "            markers = True)"
   ]
  },
  {
   "cell_type": "code",
   "execution_count": null,
   "metadata": {},
   "outputs": [],
   "source": []
  }
 ],
 "metadata": {
  "kernelspec": {
   "display_name": "Python 3",
   "language": "python",
   "name": "python3"
  },
  "language_info": {
   "codemirror_mode": {
    "name": "ipython",
    "version": 3
   },
   "file_extension": ".py",
   "mimetype": "text/x-python",
   "name": "python",
   "nbconvert_exporter": "python",
   "pygments_lexer": "ipython3",
   "version": "3.6.5"
  }
 },
 "nbformat": 4,
 "nbformat_minor": 2
}
