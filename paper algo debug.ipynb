{
 "cells": [
  {
   "cell_type": "code",
   "execution_count": 1,
   "metadata": {},
   "outputs": [],
   "source": [
    "from final_algo import partial_corr, partial_cov, get_batch, get_edges\n",
    "import numpy as np\n",
    "import itertools\n",
    "from paper_sims_util import their_random_graph_2, MCC, confusion"
   ]
  },
  {
   "cell_type": "code",
   "execution_count": 2,
   "metadata": {},
   "outputs": [],
   "source": [
    "import matplotlib.pyplot as plt"
   ]
  },
  {
   "cell_type": "code",
   "execution_count": 7,
   "metadata": {},
   "outputs": [],
   "source": [
    "p = 100\n",
    "omega = their_random_graph_2(p, d=0.05)\n",
    "sigma = np.linalg.inv(omega)\n",
    "N = 10000\n",
    "X = np.random.multivariate_normal(mean = np.zeros(p), cov = np.linalg.inv(omega), size = N)"
   ]
  },
  {
   "cell_type": "code",
   "execution_count": 9,
   "metadata": {},
   "outputs": [
    {
     "name": "stdout",
     "output_type": "stream",
     "text": [
      "Working on l = 3\n",
      "Working on l = 4\n"
     ]
    }
   ],
   "source": [
    "early_stop = 4\n",
    "verbose = False\n",
    "N, p = X.shape\n",
    "M = int(np.power(N, 0.5))\n",
    "if not early_stop:\n",
    "    early_stop = p\n",
    "\n",
    "l = 2\n",
    "edge_deleted = True\n",
    "hypothesis_graph = np.ones((p,p))\n",
    "\n",
    "while edge_deleted and l < early_stop:\n",
    "    l = l+1\n",
    "    print(\"Working on l = {}\".format(l))\n",
    "    all_subsets = list(itertools.combinations(range(p), l))\n",
    "    edge_deleted = False\n",
    "    for edge in get_edges(hypothesis_graph): \n",
    "        i, j = edge\n",
    "        rhos= []\n",
    "        trues = []\n",
    "        for s in all_subsets:\n",
    "            if i not in s or j not in s:\n",
    "                continue\n",
    "            s = list(s)\n",
    "            batch = get_batch(X, M)\n",
    "            sample_cov = np.cov(batch.T)\n",
    "\n",
    "            true = partial_corr(sigma, s, i, j)\n",
    "            rho = partial_corr(sample_cov, s, i, j)\n",
    "            rhos.append(rho)\n",
    "            trues.append(true)\n",
    "            if rho < 0:\n",
    "                #print('Deleted {} {}'.format(i, j))\n",
    "                if omega[i, j] < 0:\n",
    "                    pass\n",
    "                    #print(i, j, omega[i,j])\n",
    "                    #print(list(zip(trues, rhos)))\n",
    "                    #print(rhos)\n",
    "                edge_deleted = True\n",
    "                hypothesis_graph[i, j] = 0\n",
    "                hypothesis_graph[j, i] = 0\n",
    "                break\n",
    "        #assert len(rhos) > 0, (len(rhos), i, j)\n",
    "        # if omega[i, j] == 0 and min(rhos) > 0:\n",
    "        #     if verbose:\n",
    "        #         print(\"False positive\")\n",
    "            #print(trues)\n",
    "            #print(rhos)"
   ]
  },
  {
   "cell_type": "code",
   "execution_count": 10,
   "metadata": {},
   "outputs": [
    {
     "data": {
      "text/plain": [
       "(16, 4895, 0, 39)"
      ]
     },
     "execution_count": 10,
     "metadata": {},
     "output_type": "execute_result"
    }
   ],
   "source": [
    "confusion(hypothesis_graph, omega)"
   ]
  },
  {
   "cell_type": "code",
   "execution_count": 94,
   "metadata": {},
   "outputs": [
    {
     "name": "stdout",
     "output_type": "stream",
     "text": [
      "[[1.0989011  0.32967033]\n",
      " [0.32967033 1.0989011 ]]\n",
      "-0.3\n"
     ]
    }
   ],
   "source": [
    "#generate random cobvariance with diagonal 1\n",
    "#size is 5\n",
    "p = 2\n",
    "N = 50\n",
    "# omega = their_random_graph_2(2, 2)\n",
    "# sigma = np.linalg.inv(omega)\n",
    "# M = np.max(np.diag(omega))\n",
    "# print(\"M\", M)\n",
    "\n",
    "omega = np.array([[1, -0.3],[-0.3, 1]])\n",
    "sigma = np.linalg.inv(omega)\n",
    "print(sigma)\n",
    "i = 0\n",
    "j = 1\n",
    "rho_ij = omega[i,j] / np.sqrt(omega[i,i] * omega[j,j])\n",
    "print(rho_ij)"
   ]
  },
  {
   "cell_type": "code",
   "execution_count": 95,
   "metadata": {},
   "outputs": [],
   "source": [
    "diffs = []\n",
    "for t in range(10000):\n",
    "    X = np.random.multivariate_normal(np.zeros(p), sigma, N)\n",
    "    hatsigma = np.cov(X.T)\n",
    "    hatomega = np.linalg.inv(hatsigma)\n",
    "    hatrho_ij = hatomega[i,j] / np.sqrt(hatomega[i,i] * hatomega[j,j])\n",
    "    diff = hatrho_ij - rho_ij\n",
    "    diffs.append(diff)"
   ]
  },
  {
   "cell_type": "code",
   "execution_count": 96,
   "metadata": {},
   "outputs": [
    {
     "data": {
      "text/plain": [
       "(array([4.300e+01, 5.170e+02, 1.954e+03, 3.151e+03, 2.616e+03, 1.265e+03,\n",
       "        3.620e+02, 8.400e+01, 7.000e+00, 1.000e+00]),\n",
       " array([-0.41181414, -0.30382318, -0.19583223, -0.08784128,  0.02014968,\n",
       "         0.12814063,  0.23613158,  0.34412254,  0.45211349,  0.56010444,\n",
       "         0.6680954 ]),\n",
       " <a list of 10 Patch objects>)"
      ]
     },
     "execution_count": 96,
     "metadata": {},
     "output_type": "execute_result"
    },
    {
     "data": {
      "image/png": "[encoded data removed]",
      "text/plain": [
       "<Figure size 432x288 with 1 Axes>"
      ]
     },
     "metadata": {},
     "output_type": "display_data"
    }
   ],
   "source": [
    "plt.hist(diffs)"
   ]
  },
  {
   "cell_type": "code",
   "execution_count": 97,
   "metadata": {},
   "outputs": [],
   "source": [
    "eps = abs(rho_ij)"
   ]
  },
  {
   "cell_type": "code",
   "execution_count": 98,
   "metadata": {},
   "outputs": [
    {
     "data": {
      "text/plain": [
       "0.0186"
      ]
     },
     "execution_count": 98,
     "metadata": {},
     "output_type": "execute_result"
    }
   ],
   "source": [
    "sum(diffs >= eps) / len(diffs)"
   ]
  },
  {
   "cell_type": "code",
   "execution_count": 43,
   "metadata": {},
   "outputs": [
    {
     "data": {
      "text/plain": [
       "7.847446445932518e-46"
      ]
     },
     "execution_count": 43,
     "metadata": {},
     "output_type": "execute_result"
    }
   ],
   "source": [
    "(1-0.0069)**15000"
   ]
  },
  {
   "cell_type": "code",
   "execution_count": 44,
   "metadata": {},
   "outputs": [
    {
     "data": {
      "text/plain": [
       "9.615805480084347"
      ]
     },
     "execution_count": 44,
     "metadata": {},
     "output_type": "execute_result"
    }
   ],
   "source": [
    "np.log(15000)"
   ]
  },
  {
   "cell_type": "code",
   "execution_count": 68,
   "metadata": {},
   "outputs": [
    {
     "data": {
      "text/plain": [
       "0.9851119322142933"
      ]
     },
     "execution_count": 68,
     "metadata": {},
     "output_type": "execute_result"
    }
   ],
   "source": [
    "(1-0.000001)**15000"
   ]
  },
  {
   "cell_type": "code",
   "execution_count": 38,
   "metadata": {},
   "outputs": [
    {
     "data": {
      "text/plain": [
       "1.0"
      ]
     },
     "execution_count": 38,
     "metadata": {},
     "output_type": "execute_result"
    }
   ],
   "source": [
    "1 - (1-0.0069)**(15000) #15000 < 20 choose 5"
   ]
  },
  {
   "cell_type": "code",
   "execution_count": 29,
   "metadata": {},
   "outputs": [
    {
     "name": "stdout",
     "output_type": "stream",
     "text": [
      "23.997512144334134\n"
     ]
    }
   ],
   "source": [
    "print(24 * np.exp(- (N * M * eps**2) / 204800))"
   ]
  },
  {
   "cell_type": "code",
   "execution_count": null,
   "metadata": {},
   "outputs": [],
   "source": []
  }
 ],
 "metadata": {
  "kernelspec": {
   "display_name": "Python 3",
   "language": "python",
   "name": "python3"
  },
  "language_info": {
   "codemirror_mode": {
    "name": "ipython",
    "version": 3
   },
   "file_extension": ".py",
   "mimetype": "text/x-python",
   "name": "python",
   "nbconvert_exporter": "python",
   "pygments_lexer": "ipython3",
   "version": "3.6.5"
  }
 },
 "nbformat": 4,
 "nbformat_minor": 2
}
