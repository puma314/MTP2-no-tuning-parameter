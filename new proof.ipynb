{
 "cells": [
  {
   "cell_type": "code",
   "execution_count": 2,
   "metadata": {},
   "outputs": [],
   "source": [
    "import numpy as np"
   ]
  },
  {
   "cell_type": "code",
   "execution_count": 96,
   "metadata": {},
   "outputs": [],
   "source": [
    "N = 1000\n",
    "N_1 = 100\n",
    "N_2 = N - N_1"
   ]
  },
  {
   "cell_type": "code",
   "execution_count": 97,
   "metadata": {},
   "outputs": [],
   "source": [
    "A = []\n",
    "B = []\n",
    "_1 = []\n",
    "_3 = []\n",
    "for _ in range(10000):\n",
    "    X_1 = np.random.standard_normal(N_1)\n",
    "    X_3 = np.random.standard_normal(N_1)\n",
    "    X_2 = np.random.standard_normal(N_2)\n",
    "    X_A = np.concatenate((X_1, X_2))\n",
    "    X_B = np.concatenate((X_3, X_2))\n",
    "    S_A = 1./np.cov(X_A)\n",
    "    S_B = 1./np.cov(X_B)\n",
    "    #print(S_A, S_B)\n",
    "    A.append(S_A)\n",
    "    B.append(S_B)\n",
    "    S_1 = 1./np.cov(X_1)\n",
    "    S_3 = 1./np.cov(X_3)\n",
    "    _1.append(S_1)\n",
    "    _3.append(S_3)"
   ]
  },
  {
   "cell_type": "code",
   "execution_count": 98,
   "metadata": {},
   "outputs": [
    {
     "name": "stdout",
     "output_type": "stream",
     "text": [
      "[[0.00199667 0.00179051]\n",
      " [0.00179051 0.00198901]]\n"
     ]
    }
   ],
   "source": [
    "print(np.cov(A, B))"
   ]
  },
  {
   "cell_type": "code",
   "execution_count": 99,
   "metadata": {},
   "outputs": [
    {
     "name": "stdout",
     "output_type": "stream",
     "text": [
      "[[ 2.17235513e-02 -9.55341553e-05]\n",
      " [-9.55341553e-05  2.17354952e-02]]\n"
     ]
    }
   ],
   "source": [
    "print(np.cov(_1, _3))"
   ]
  },
  {
   "cell_type": "code",
   "execution_count": 12,
   "metadata": {},
   "outputs": [],
   "source": [
    "S = np.cov(np.random.multivariate_normal(np.zeros(5), np.eye(5), size = 100).T)"
   ]
  },
  {
   "cell_type": "code",
   "execution_count": 13,
   "metadata": {},
   "outputs": [
    {
     "data": {
      "text/plain": [
       "array([[ 0.9652614 , -0.04904552, -0.160343  , -0.02955592, -0.01779043],\n",
       "       [-0.04904552,  0.99356841, -0.01999913, -0.04702477, -0.05634771],\n",
       "       [-0.160343  , -0.01999913,  0.94647205,  0.04703816, -0.07241305],\n",
       "       [-0.02955592, -0.04702477,  0.04703816,  0.73444702, -0.02734066],\n",
       "       [-0.01779043, -0.05634771, -0.07241305, -0.02734066,  1.06041733]])"
      ]
     },
     "execution_count": 13,
     "metadata": {},
     "output_type": "execute_result"
    }
   ],
   "source": [
    "S"
   ]
  },
  {
   "cell_type": "code",
   "execution_count": 14,
   "metadata": {},
   "outputs": [
    {
     "data": {
      "text/plain": [
       "array([[ 1.07130643,  0.06027152,  0.18360216,  0.03650212,  0.03465461],\n",
       "       [ 0.06027152,  1.01665681,  0.03284809,  0.06761272,  0.05901992],\n",
       "       [ 0.18360216,  0.03284809,  1.09721702, -0.05786693,  0.07825974],\n",
       "       [ 0.03650212,  0.06761272, -0.05786693,  1.3723994 ,  0.03563804],\n",
       "       [ 0.03465461,  0.05901992,  0.07825974,  0.03563804,  0.95300551]])"
      ]
     },
     "execution_count": 14,
     "metadata": {},
     "output_type": "execute_result"
    }
   ],
   "source": [
    "np.linalg.inv(S)"
   ]
  },
  {
   "cell_type": "code",
   "execution_count": 15,
   "metadata": {},
   "outputs": [
    {
     "data": {
      "text/plain": [
       "array([0.9652614 , 0.99356841, 0.94647205, 0.73444702, 1.06041733])"
      ]
     },
     "execution_count": 15,
     "metadata": {},
     "output_type": "execute_result"
    }
   ],
   "source": [
    "np.diag(S)"
   ]
  },
  {
   "cell_type": "code",
   "execution_count": 16,
   "metadata": {},
   "outputs": [
    {
     "data": {
      "text/plain": [
       "array([1.0359888 , 1.00647322, 1.05655524, 1.3615686 , 0.94302495])"
      ]
     },
     "execution_count": 16,
     "metadata": {},
     "output_type": "execute_result"
    }
   ],
   "source": [
    "1./np.diag(S)"
   ]
  },
  {
   "cell_type": "code",
   "execution_count": 17,
   "metadata": {},
   "outputs": [],
   "source": [
    "S = np.cov(np.random.multivariate_normal(np.zeros(2), np.eye(2), size = 100).T)"
   ]
  },
  {
   "cell_type": "code",
   "execution_count": 18,
   "metadata": {},
   "outputs": [],
   "source": [
    "A = S"
   ]
  },
  {
   "cell_type": "code",
   "execution_count": 19,
   "metadata": {},
   "outputs": [
    {
     "data": {
      "text/plain": [
       "array([[ 0.95627807, -0.06025651],\n",
       "       [-0.06025651,  0.94669911]])"
      ]
     },
     "execution_count": 19,
     "metadata": {},
     "output_type": "execute_result"
    }
   ],
   "source": [
    "A"
   ]
  },
  {
   "cell_type": "code",
   "execution_count": 20,
   "metadata": {},
   "outputs": [
    {
     "data": {
      "text/plain": [
       "array([1.01193515, 0.89104203])"
      ]
     },
     "execution_count": 20,
     "metadata": {},
     "output_type": "execute_result"
    }
   ],
   "source": [
    "np.linalg.eigvals(A)"
   ]
  },
  {
   "cell_type": "code",
   "execution_count": 21,
   "metadata": {},
   "outputs": [],
   "source": [
    "B = np.array([[5, 1], [2, 6]])"
   ]
  },
  {
   "cell_type": "code",
   "execution_count": 22,
   "metadata": {},
   "outputs": [
    {
     "data": {
      "text/plain": [
       "array([4., 7.])"
      ]
     },
     "execution_count": 22,
     "metadata": {},
     "output_type": "execute_result"
    }
   ],
   "source": [
    "np.linalg.eigvals(B)"
   ]
  },
  {
   "cell_type": "code",
   "execution_count": 23,
   "metadata": {},
   "outputs": [
    {
     "data": {
      "text/plain": [
       "array([4.05558394, 6.22523153])"
      ]
     },
     "execution_count": 23,
     "metadata": {},
     "output_type": "execute_result"
    }
   ],
   "source": [
    "np.linalg.eigvals(A.dot(B))"
   ]
  },
  {
   "cell_type": "code",
   "execution_count": 26,
   "metadata": {},
   "outputs": [],
   "source": [
    "import scipy\n",
    "import scipy.linalg\n",
    "B_sqrt = scipy.linalg.sqrtm(B)"
   ]
  },
  {
   "cell_type": "code",
   "execution_count": 27,
   "metadata": {},
   "outputs": [
    {
     "data": {
      "text/plain": [
       "array([[4.69430571, 0.62404362],\n",
       "       [1.56693475, 5.58650977]])"
      ]
     },
     "execution_count": 27,
     "metadata": {},
     "output_type": "execute_result"
    }
   ],
   "source": [
    "B_sqrt.dot(A).dot(B_sqrt)"
   ]
  },
  {
   "cell_type": "code",
   "execution_count": 28,
   "metadata": {},
   "outputs": [
    {
     "data": {
      "text/plain": [
       "array([[4.66087731, 0.59473898],\n",
       "       [1.59211565, 5.61993816]])"
      ]
     },
     "execution_count": 28,
     "metadata": {},
     "output_type": "execute_result"
    }
   ],
   "source": [
    "A.dot(B)"
   ]
  },
  {
   "cell_type": "code",
   "execution_count": 29,
   "metadata": {},
   "outputs": [
    {
     "data": {
      "text/plain": [
       "array([4.05558394, 6.22523153])"
      ]
     },
     "execution_count": 29,
     "metadata": {},
     "output_type": "execute_result"
    }
   ],
   "source": [
    "np.linalg.eigvals(B_sqrt.dot(A).dot(B_sqrt))"
   ]
  },
  {
   "cell_type": "code",
   "execution_count": 31,
   "metadata": {},
   "outputs": [
    {
     "data": {
      "text/plain": [
       "7.08354605"
      ]
     },
     "execution_count": 31,
     "metadata": {},
     "output_type": "execute_result"
    }
   ],
   "source": [
    "1.01193515 * 7."
   ]
  },
  {
   "cell_type": "code",
   "execution_count": 33,
   "metadata": {},
   "outputs": [
    {
     "data": {
      "text/plain": [
       "array([[2.21525044, 0.21525044],\n",
       "       [0.43050087, 2.43050087]])"
      ]
     },
     "execution_count": 33,
     "metadata": {},
     "output_type": "execute_result"
    }
   ],
   "source": [
    "scipy.linalg.sqrtm(B)"
   ]
  },
  {
   "cell_type": "code",
   "execution_count": null,
   "metadata": {},
   "outputs": [],
   "source": []
  }
 ],
 "metadata": {
  "kernelspec": {
   "display_name": "Python 3",
   "language": "python",
   "name": "python3"
  },
  "language_info": {
   "codemirror_mode": {
    "name": "ipython",
    "version": 3
   },
   "file_extension": ".py",
   "mimetype": "text/x-python",
   "name": "python",
   "nbconvert_exporter": "python",
   "pygments_lexer": "ipython3",
   "version": "3.6.5"
  }
 },
 "nbformat": 4,
 "nbformat_minor": 2
}
